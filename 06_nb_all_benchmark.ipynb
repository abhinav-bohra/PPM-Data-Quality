{
 "cells": [
  {
   "cell_type": "markdown",
   "metadata": {
    "id": "FKQ1B8nG2-CZ"
   },
   "source": [
    "<h1>Table of Contents<span class=\"tocSkip\"></span></h1>\n",
    "<div class=\"toc\"><ul class=\"toc-item\"><li><span><a href=\"#Event-Logs\" data-toc-modified-id=\"Event-Logs-2\">Event Logs</a></span></li><li><span><a href=\"#Trace-Splitting\" data-toc-modified-id=\"Trace-Splitting-3\">Trace Splitting</a></span></li><li><span><a href=\"#Encoding-Techniques\" data-toc-modified-id=\"Encoding-Techniques-4\">Encoding Techniques</a></span><ul class=\"toc-item\"><li><span><a href=\"#PPObj\" data-toc-modified-id=\"PPObj-4.1\">PPObj</a></span></li><li><span><a href=\"#Categorization\" data-toc-modified-id=\"Categorization-4.2\">Categorization</a></span></li><li><span><a href=\"#Fill-Missing\" data-toc-modified-id=\"Fill-Missing-4.3\">Fill Missing</a></span></li><li><span><a href=\"#Z-score\" data-toc-modified-id=\"Z-score-4.4\">Z-score</a></span></li><li><span><a href=\"#Date-conversion\" data-toc-modified-id=\"Date-conversion-4.5\">Date conversion</a></span></li><li><span><a href=\"#MinMax-Scaling\" data-toc-modified-id=\"MinMax-Scaling-4.6\">MinMax Scaling</a></span></li><li><span><a href=\"#One-HoT-Encoding\" data-toc-modified-id=\"One-HoT-Encoding-4.7\">One HoT Encoding</a></span></li></ul></li><li><span><a href=\"#Sub-sequence-Generation\" data-toc-modified-id=\"Sub-sequence-Generation-5\">Sub-sequence Generation</a></span></li><li><span><a href=\"#Data-Loader\" data-toc-modified-id=\"Data-Loader-6\">Data Loader</a></span><ul class=\"toc-item\"><li><span><a href=\"#Integration-Samples\" data-toc-modified-id=\"Integration-Samples-6.1\">Integration Samples</a></span></li></ul></li></ul></div>"
   ]
  },
  {
   "cell_type": "code",
   "execution_count": null,
   "metadata": {
    "id": "81fxm3II2-Cb"
   },
   "outputs": [],
   "source": [
    "# default_exp preprocessing"
   ]
  },
  {
   "cell_type": "markdown",
   "metadata": {
    "id": "mkbaSmAE2-Cc"
   },
   "source": [
    "Pre-processing\n",
    "===\n",
    "This notebook contains all relevant pre-processing. The implementation is based on the tabular notebooks in the fastai library.\n"
   ]
  },
  {
   "cell_type": "code",
   "execution_count": null,
   "metadata": {
    "colab": {
     "base_uri": "https://localhost:8080/"
    },
    "id": "ShxOxRnD2-Cc",
    "outputId": "cba07ec8-bd7a-46b0-8241-5e1cc4f8cbc5"
   },
   "outputs": [
    {
     "name": "stdout",
     "output_type": "stream",
     "text": [
      "Requirement already satisfied: fastai==2.5.3 in /usr/local/lib/python3.7/dist-packages (2.5.3)\n",
      "Requirement already satisfied: pip in /usr/local/lib/python3.7/dist-packages (from fastai==2.5.3) (21.1.3)\n",
      "Requirement already satisfied: fastdownload<2,>=0.0.5 in /usr/local/lib/python3.7/dist-packages (from fastai==2.5.3) (0.0.5)\n",
      "Requirement already satisfied: packaging in /usr/local/lib/python3.7/dist-packages (from fastai==2.5.3) (21.3)\n",
      "Requirement already satisfied: pillow>6.0.0 in /usr/local/lib/python3.7/dist-packages (from fastai==2.5.3) (7.1.2)\n",
      "Requirement already satisfied: scipy in /usr/local/lib/python3.7/dist-packages (from fastai==2.5.3) (1.4.1)\n",
      "Requirement already satisfied: fastcore<1.4,>=1.3.22 in /usr/local/lib/python3.7/dist-packages (from fastai==2.5.3) (1.3.27)\n",
      "Requirement already satisfied: spacy<4 in /usr/local/lib/python3.7/dist-packages (from fastai==2.5.3) (2.2.4)\n",
      "Requirement already satisfied: pandas in /usr/local/lib/python3.7/dist-packages (from fastai==2.5.3) (1.1.5)\n",
      "Requirement already satisfied: torch<1.11,>=1.7.0 in /usr/local/lib/python3.7/dist-packages (from fastai==2.5.3) (1.10.0+cu111)\n",
      "Requirement already satisfied: pyyaml in /usr/local/lib/python3.7/dist-packages (from fastai==2.5.3) (3.13)\n",
      "Requirement already satisfied: matplotlib in /usr/local/lib/python3.7/dist-packages (from fastai==2.5.3) (3.2.2)\n",
      "Requirement already satisfied: requests in /usr/local/lib/python3.7/dist-packages (from fastai==2.5.3) (2.23.0)\n",
      "Requirement already satisfied: scikit-learn in /usr/local/lib/python3.7/dist-packages (from fastai==2.5.3) (1.0.1)\n",
      "Requirement already satisfied: torchvision>=0.8.2 in /usr/local/lib/python3.7/dist-packages (from fastai==2.5.3) (0.11.1+cu111)\n",
      "Requirement already satisfied: fastprogress>=0.2.4 in /usr/local/lib/python3.7/dist-packages (from fastai==2.5.3) (1.0.0)\n",
      "Requirement already satisfied: numpy in /usr/local/lib/python3.7/dist-packages (from fastprogress>=0.2.4->fastai==2.5.3) (1.19.5)\n",
      "Requirement already satisfied: catalogue<1.1.0,>=0.0.7 in /usr/local/lib/python3.7/dist-packages (from spacy<4->fastai==2.5.3) (1.0.0)\n",
      "Requirement already satisfied: cymem<2.1.0,>=2.0.2 in /usr/local/lib/python3.7/dist-packages (from spacy<4->fastai==2.5.3) (2.0.6)\n",
      "Requirement already satisfied: thinc==7.4.0 in /usr/local/lib/python3.7/dist-packages (from spacy<4->fastai==2.5.3) (7.4.0)\n",
      "Requirement already satisfied: tqdm<5.0.0,>=4.38.0 in /usr/local/lib/python3.7/dist-packages (from spacy<4->fastai==2.5.3) (4.62.3)\n",
      "Requirement already satisfied: setuptools in /usr/local/lib/python3.7/dist-packages (from spacy<4->fastai==2.5.3) (57.4.0)\n",
      "Requirement already satisfied: murmurhash<1.1.0,>=0.28.0 in /usr/local/lib/python3.7/dist-packages (from spacy<4->fastai==2.5.3) (1.0.6)\n",
      "Requirement already satisfied: plac<1.2.0,>=0.9.6 in /usr/local/lib/python3.7/dist-packages (from spacy<4->fastai==2.5.3) (1.1.3)\n",
      "Requirement already satisfied: wasabi<1.1.0,>=0.4.0 in /usr/local/lib/python3.7/dist-packages (from spacy<4->fastai==2.5.3) (0.8.2)\n",
      "Requirement already satisfied: blis<0.5.0,>=0.4.0 in /usr/local/lib/python3.7/dist-packages (from spacy<4->fastai==2.5.3) (0.4.1)\n",
      "Requirement already satisfied: srsly<1.1.0,>=1.0.2 in /usr/local/lib/python3.7/dist-packages (from spacy<4->fastai==2.5.3) (1.0.5)\n",
      "Requirement already satisfied: preshed<3.1.0,>=3.0.2 in /usr/local/lib/python3.7/dist-packages (from spacy<4->fastai==2.5.3) (3.0.6)\n",
      "Requirement already satisfied: importlib-metadata>=0.20 in /usr/local/lib/python3.7/dist-packages (from catalogue<1.1.0,>=0.0.7->spacy<4->fastai==2.5.3) (4.8.2)\n",
      "Requirement already satisfied: typing-extensions>=3.6.4 in /usr/local/lib/python3.7/dist-packages (from importlib-metadata>=0.20->catalogue<1.1.0,>=0.0.7->spacy<4->fastai==2.5.3) (3.10.0.2)\n",
      "Requirement already satisfied: zipp>=0.5 in /usr/local/lib/python3.7/dist-packages (from importlib-metadata>=0.20->catalogue<1.1.0,>=0.0.7->spacy<4->fastai==2.5.3) (3.6.0)\n",
      "Requirement already satisfied: chardet<4,>=3.0.2 in /usr/local/lib/python3.7/dist-packages (from requests->fastai==2.5.3) (3.0.4)\n",
      "Requirement already satisfied: certifi>=2017.4.17 in /usr/local/lib/python3.7/dist-packages (from requests->fastai==2.5.3) (2021.10.8)\n",
      "Requirement already satisfied: urllib3!=1.25.0,!=1.25.1,<1.26,>=1.21.1 in /usr/local/lib/python3.7/dist-packages (from requests->fastai==2.5.3) (1.24.3)\n",
      "Requirement already satisfied: idna<3,>=2.5 in /usr/local/lib/python3.7/dist-packages (from requests->fastai==2.5.3) (2.10)\n",
      "Requirement already satisfied: cycler>=0.10 in /usr/local/lib/python3.7/dist-packages (from matplotlib->fastai==2.5.3) (0.11.0)\n",
      "Requirement already satisfied: pyparsing!=2.0.4,!=2.1.2,!=2.1.6,>=2.0.1 in /usr/local/lib/python3.7/dist-packages (from matplotlib->fastai==2.5.3) (3.0.6)\n",
      "Requirement already satisfied: python-dateutil>=2.1 in /usr/local/lib/python3.7/dist-packages (from matplotlib->fastai==2.5.3) (2.8.2)\n",
      "Requirement already satisfied: kiwisolver>=1.0.1 in /usr/local/lib/python3.7/dist-packages (from matplotlib->fastai==2.5.3) (1.3.2)\n",
      "Requirement already satisfied: six>=1.5 in /usr/local/lib/python3.7/dist-packages (from python-dateutil>=2.1->matplotlib->fastai==2.5.3) (1.15.0)\n",
      "Requirement already satisfied: pytz>=2017.2 in /usr/local/lib/python3.7/dist-packages (from pandas->fastai==2.5.3) (2018.9)\n",
      "Requirement already satisfied: threadpoolctl>=2.0.0 in /usr/local/lib/python3.7/dist-packages (from scikit-learn->fastai==2.5.3) (3.0.0)\n",
      "Requirement already satisfied: joblib>=0.11 in /usr/local/lib/python3.7/dist-packages (from scikit-learn->fastai==2.5.3) (1.1.0)\n"
     ]
    }
   ],
   "source": [
    "!pip install fastai==2.5.3"
   ]
  },
  {
   "cell_type": "code",
   "execution_count": null,
   "metadata": {
    "id": "FRLRAc5p2-Cc"
   },
   "outputs": [],
   "source": [
    "from fastai.torch_basics import *\n",
    "from fastai.basics import *\n",
    "from fastai.metrics import accuracy\n",
    "from fastai.learner import *\n",
    "from fastai.callback.all import *\n",
    "from math import sqrt\n"
   ]
  },
  {
   "cell_type": "code",
   "execution_count": null,
   "metadata": {
    "colab": {
     "base_uri": "https://localhost:8080/"
    },
    "id": "YGxHFRsdB6zT",
    "outputId": "fbed8312-965b-4289-b824-1446baf24f01"
   },
   "outputs": [
    {
     "name": "stdout",
     "output_type": "stream",
     "text": [
      "Drive already mounted at /content/drive; to attempt to forcibly remount, call drive.mount(\"/content/drive\", force_remount=True).\n"
     ]
    }
   ],
   "source": [
    "from google.colab import drive\n",
    "drive.mount('/content/drive')\n",
    "MY_WORKSPACE_DIR = \"/content/drive/My Drive/BPIC_Data/\""
   ]
  },
  {
   "cell_type": "markdown",
   "metadata": {
    "id": "J7-X0LXm2-Cd"
   },
   "source": [
    "## Event Logs\n",
    "\n"
   ]
  },
  {
   "cell_type": "markdown",
   "metadata": {
    "id": "sWcnhhN72-Cd"
   },
   "source": [
    "All considered event logs are stored in `./event_logs`. The `EventLogs` class is a utility class to access each dataset. Logs can be loaded with the function `import_log`."
   ]
  },
  {
   "cell_type": "code",
   "execution_count": null,
   "metadata": {
    "id": "q62kdZ4N2-Cd"
   },
   "outputs": [],
   "source": [
    "class EventLogs:\n",
    "    Helpdesk=MY_WORKSPACE_DIR + 'Helpdesk.csv'\n",
    "    BPIC_12=MY_WORKSPACE_DIR + 'BPIC12.csv'\n",
    "    BPIC_12_W=MY_WORKSPACE_DIR + 'BPIC12_W.csv'\n",
    "    BPIC_12_Wcomplete=MY_WORKSPACE_DIR + 'BPIC12_Wc.csv'\n",
    "    BPIC_12_A= MY_WORKSPACE_DIR + 'BPIC12_A.csv'\n",
    "    BPIC_12_O=MY_WORKSPACE_DIR + 'BPIC12_O.csv'\n",
    "    BPIC_13_CP=MY_WORKSPACE_DIR + 'BPIC13_CP.csv'\n",
    "    BPIC_17_OFFER=MY_WORKSPACE_DIR + 'BPIC17_O.csv'\n",
    "    BPIC_20_RFP=MY_WORKSPACE_DIR + 'BPIC20_RFP.csv'\n",
    "    Mobis=MY_WORKSPACE_DIR + 'Mobis.csv'\n",
    "\n",
    "def import_log(ds): return pd.read_csv(ds,index_col=0)"
   ]
  },
  {
   "cell_type": "code",
   "execution_count": null,
   "metadata": {
    "colab": {
     "base_uri": "https://localhost:8080/",
     "height": 255
    },
    "id": "NCt62CFl2-Cd",
    "outputId": "cfb7c358-420c-4afc-8ad4-16a691454df0"
   },
   "outputs": [
    {
     "name": "stdout",
     "output_type": "stream",
     "text": [
      "170107\n"
     ]
    },
    {
     "data": {
      "text/html": [
       "<div>\n",
       "<style scoped>\n",
       "    .dataframe tbody tr th:only-of-type {\n",
       "        vertical-align: middle;\n",
       "    }\n",
       "\n",
       "    .dataframe tbody tr th {\n",
       "        vertical-align: top;\n",
       "    }\n",
       "\n",
       "    .dataframe thead th {\n",
       "        text-align: right;\n",
       "    }\n",
       "</style>\n",
       "<table border=\"1\" class=\"dataframe\">\n",
       "  <thead>\n",
       "    <tr style=\"text-align: right;\">\n",
       "      <th></th>\n",
       "      <th>event_id</th>\n",
       "      <th>resource</th>\n",
       "      <th>timestamp</th>\n",
       "      <th>activity</th>\n",
       "      <th>REG_DATE</th>\n",
       "      <th>AMOUNT_REQ</th>\n",
       "    </tr>\n",
       "    <tr>\n",
       "      <th>trace_id</th>\n",
       "      <th></th>\n",
       "      <th></th>\n",
       "      <th></th>\n",
       "      <th></th>\n",
       "      <th></th>\n",
       "      <th></th>\n",
       "    </tr>\n",
       "  </thead>\n",
       "  <tbody>\n",
       "    <tr>\n",
       "      <th>173688</th>\n",
       "      <td>0</td>\n",
       "      <td>112.0</td>\n",
       "      <td>2011-09-30 22:39:38.875000+00:00</td>\n",
       "      <td>W_Completeren aanvraag_SCHEDULE</td>\n",
       "      <td>2011-10-01 00:38:44.546000+02:00</td>\n",
       "      <td>20000</td>\n",
       "    </tr>\n",
       "    <tr>\n",
       "      <th>173688</th>\n",
       "      <td>1</td>\n",
       "      <td>NaN</td>\n",
       "      <td>2011-10-01 09:36:46.437000+00:00</td>\n",
       "      <td>W_Completeren aanvraag_START</td>\n",
       "      <td>2011-10-01 00:38:44.546000+02:00</td>\n",
       "      <td>20000</td>\n",
       "    </tr>\n",
       "    <tr>\n",
       "      <th>173688</th>\n",
       "      <td>2</td>\n",
       "      <td>NaN</td>\n",
       "      <td>2011-10-01 09:45:11.554000+00:00</td>\n",
       "      <td>W_Nabellen offertes_SCHEDULE</td>\n",
       "      <td>2011-10-01 00:38:44.546000+02:00</td>\n",
       "      <td>20000</td>\n",
       "    </tr>\n",
       "    <tr>\n",
       "      <th>173688</th>\n",
       "      <td>3</td>\n",
       "      <td>NaN</td>\n",
       "      <td>2011-10-01 09:45:13.917000+00:00</td>\n",
       "      <td>W_Completeren aanvraag_COMPLETE</td>\n",
       "      <td>2011-10-01 00:38:44.546000+02:00</td>\n",
       "      <td>20000</td>\n",
       "    </tr>\n",
       "    <tr>\n",
       "      <th>173688</th>\n",
       "      <td>4</td>\n",
       "      <td>NaN</td>\n",
       "      <td>2011-10-01 10:15:41.290000+00:00</td>\n",
       "      <td>W_Nabellen offertes_START</td>\n",
       "      <td>2011-10-01 00:38:44.546000+02:00</td>\n",
       "      <td>20000</td>\n",
       "    </tr>\n",
       "  </tbody>\n",
       "</table>\n",
       "</div>"
      ],
      "text/plain": [
       "          event_id  resource  ...                          REG_DATE AMOUNT_REQ\n",
       "trace_id                      ...                                             \n",
       "173688           0     112.0  ...  2011-10-01 00:38:44.546000+02:00      20000\n",
       "173688           1       NaN  ...  2011-10-01 00:38:44.546000+02:00      20000\n",
       "173688           2       NaN  ...  2011-10-01 00:38:44.546000+02:00      20000\n",
       "173688           3       NaN  ...  2011-10-01 00:38:44.546000+02:00      20000\n",
       "173688           4       NaN  ...  2011-10-01 00:38:44.546000+02:00      20000\n",
       "\n",
       "[5 rows x 6 columns]"
      ]
     },
     "execution_count": 9,
     "metadata": {},
     "output_type": "execute_result"
    }
   ],
   "source": [
    "event_df=import_log(EventLogs.BPIC_12_W)\n",
    "print(len(event_df))\n",
    "event_df.head()"
   ]
  },
  {
   "cell_type": "markdown",
   "metadata": {
    "id": "xLklvms82-Ce"
   },
   "source": [
    "## Trace Splitting\n",
    "i.e. splitting in training, validation and test set"
   ]
  },
  {
   "cell_type": "markdown",
   "metadata": {
    "id": "5a__neuf2-Ce"
   },
   "source": [
    "The `split_traces` function is used to split an event_log into training, validation and test set. Furthermore, it removes traces that are longer than a specific threshhold."
   ]
  },
  {
   "cell_type": "code",
   "execution_count": null,
   "metadata": {
    "id": "Gnx3ND0o2-Ce"
   },
   "outputs": [],
   "source": [
    "#export\n",
    "def drop_long_traces(df,max_trace_len=64,event_id='event_id'):\n",
    "    df=df.drop(np.unique(df[df[event_id]>max_trace_len].index))\n",
    "    return df"
   ]
  },
  {
   "cell_type": "code",
   "execution_count": null,
   "metadata": {
    "id": "_OZExpcq2-Cf"
   },
   "outputs": [],
   "source": [
    "#export\n",
    "def RandomTraceSplitter(split_pct=0.2, seed=None):\n",
    "    \"Create function that splits `items` between train/val with `valid_pct` randomly.\"\n",
    "    def _inner(trace_ids):\n",
    "        o=np.unique(trace_ids)\n",
    "        np.random.seed(seed)\n",
    "        rand_idx = np.random.permutation(o)\n",
    "        cut = int(split_pct * len(o))\n",
    "        return L(rand_idx[cut:].tolist()),L(rand_idx[:cut].tolist())\n",
    "    return _inner"
   ]
  },
  {
   "cell_type": "code",
   "execution_count": null,
   "metadata": {
    "id": "kOpreTPk2-Cf"
   },
   "outputs": [],
   "source": [
    "#export\n",
    "def split_traces(df,df_name='tmp',test_seed=42,validation_seed=None):\n",
    "    df=drop_long_traces(df)\n",
    "    ts=RandomTraceSplitter(seed=test_seed)\n",
    "    train,test=ts(df.index)\n",
    "    ts=RandomTraceSplitter(seed=validation_seed,split_pct=0.1)\n",
    "    train,valid=ts(train)\n",
    "    return train,valid,test"
   ]
  },
  {
   "cell_type": "code",
   "execution_count": null,
   "metadata": {
    "id": "XWBj164_2-Cf"
   },
   "outputs": [],
   "source": [
    "#hide\n",
    "a1,b1,c1=split_traces(event_df)\n",
    "a2,b2,c2=split_traces(event_df)\n",
    "test_ne(a1,a2),test_ne(b1,b2),test_eq(c1,c2);"
   ]
  },
  {
   "cell_type": "code",
   "execution_count": null,
   "metadata": {
    "colab": {
     "base_uri": "https://localhost:8080/"
    },
    "id": "FiC5-Ez32-Cf",
    "outputId": "1e693464-f5f5-464a-e8f9-e351d2b95d32"
   },
   "outputs": [
    {
     "data": {
      "text/html": [
       "<div>\n",
       "<style scoped>\n",
       "    .dataframe tbody tr th:only-of-type {\n",
       "        vertical-align: middle;\n",
       "    }\n",
       "\n",
       "    .dataframe tbody tr th {\n",
       "        vertical-align: top;\n",
       "    }\n",
       "\n",
       "    .dataframe thead th {\n",
       "        text-align: right;\n",
       "    }\n",
       "</style>\n",
       "<table border=\"1\" class=\"dataframe\">\n",
       "  <thead>\n",
       "    <tr style=\"text-align: right;\">\n",
       "      <th></th>\n",
       "      <th>event_id</th>\n",
       "      <th>resource</th>\n",
       "      <th>timestamp</th>\n",
       "      <th>activity</th>\n",
       "      <th>REG_DATE</th>\n",
       "      <th>AMOUNT_REQ</th>\n",
       "    </tr>\n",
       "    <tr>\n",
       "      <th>trace_id</th>\n",
       "      <th></th>\n",
       "      <th></th>\n",
       "      <th></th>\n",
       "      <th></th>\n",
       "      <th></th>\n",
       "      <th></th>\n",
       "    </tr>\n",
       "  </thead>\n",
       "  <tbody>\n",
       "    <tr>\n",
       "      <th>173688</th>\n",
       "      <td>0</td>\n",
       "      <td>NaN</td>\n",
       "      <td>2011-10-01 09:45:13.917000+00:00</td>\n",
       "      <td>W_Completeren aanvraag_COMPLETE</td>\n",
       "      <td>2011-10-01 00:38:44.546000+02:00</td>\n",
       "      <td>20000</td>\n",
       "    </tr>\n",
       "    <tr>\n",
       "      <th>173688</th>\n",
       "      <td>1</td>\n",
       "      <td>NaN</td>\n",
       "      <td>2011-10-01 10:17:08.924000+00:00</td>\n",
       "      <td>W_Nabellen offertes_COMPLETE</td>\n",
       "      <td>2011-10-01 00:38:44.546000+02:00</td>\n",
       "      <td>20000</td>\n",
       "    </tr>\n",
       "    <tr>\n",
       "      <th>173688</th>\n",
       "      <td>2</td>\n",
       "      <td>10913.0</td>\n",
       "      <td>2011-10-08 14:32:00.886000+00:00</td>\n",
       "      <td>W_Nabellen offertes_COMPLETE</td>\n",
       "      <td>2011-10-01 00:38:44.546000+02:00</td>\n",
       "      <td>20000</td>\n",
       "    </tr>\n",
       "    <tr>\n",
       "      <th>173688</th>\n",
       "      <td>3</td>\n",
       "      <td>11049.0</td>\n",
       "      <td>2011-10-10 09:33:05.791000+00:00</td>\n",
       "      <td>W_Nabellen offertes_COMPLETE</td>\n",
       "      <td>2011-10-01 00:38:44.546000+02:00</td>\n",
       "      <td>20000</td>\n",
       "    </tr>\n",
       "    <tr>\n",
       "      <th>173688</th>\n",
       "      <td>4</td>\n",
       "      <td>10629.0</td>\n",
       "      <td>2011-10-13 08:37:37.026000+00:00</td>\n",
       "      <td>W_Valideren aanvraag_COMPLETE</td>\n",
       "      <td>2011-10-01 00:38:44.546000+02:00</td>\n",
       "      <td>20000</td>\n",
       "    </tr>\n",
       "  </tbody>\n",
       "</table>\n",
       "</div>"
      ],
      "text/plain": [
       "          event_id  resource  ...                          REG_DATE AMOUNT_REQ\n",
       "trace_id                      ...                                             \n",
       "173688           0       NaN  ...  2011-10-01 00:38:44.546000+02:00      20000\n",
       "173688           1       NaN  ...  2011-10-01 00:38:44.546000+02:00      20000\n",
       "173688           2   10913.0  ...  2011-10-01 00:38:44.546000+02:00      20000\n",
       "173688           3   11049.0  ...  2011-10-01 00:38:44.546000+02:00      20000\n",
       "173688           4   10629.0  ...  2011-10-01 00:38:44.546000+02:00      20000\n",
       "\n",
       "[5 rows x 6 columns]"
      ]
     },
     "execution_count": 14,
     "metadata": {},
     "output_type": "execute_result"
    }
   ],
   "source": [
    "#hide\n",
    "event_df=import_log(EventLogs.BPIC_12_Wcomplete)\n",
    "event_df.head()"
   ]
  },
  {
   "cell_type": "code",
   "execution_count": null,
   "metadata": {
    "colab": {
     "base_uri": "https://localhost:8080/"
    },
    "id": "dP9Ybi1S2-Cg",
    "outputId": "c45a83a7-d6f4-425e-8bf9-0fdcbaa98aa9"
   },
   "outputs": [
    {
     "data": {
      "text/plain": [
       "(9658, 9651)"
      ]
     },
     "execution_count": 15,
     "metadata": {},
     "output_type": "execute_result"
    }
   ],
   "source": [
    "#hide\n",
    "x=split_traces(event_df)\n",
    "(len(np.unique(event_df.index)),len(sum(x,[])))"
   ]
  },
  {
   "cell_type": "markdown",
   "metadata": {
    "id": "fH-2npPo2-Cg"
   },
   "source": [
    "## Encoding Techniques\n",
    "Categorization, Normalization, One-Hot, etc.\n"
   ]
  },
  {
   "cell_type": "markdown",
   "metadata": {
    "heading_collapsed": true,
    "id": "0FVgVNdy2-Cg"
   },
   "source": [
    "### PPObj\n",
    "an object, that manages the pre-processing and knows date columns, cat columns and cont columns\n",
    "with a few convenient functions"
   ]
  },
  {
   "cell_type": "code",
   "execution_count": null,
   "metadata": {
    "hidden": true,
    "id": "ZmjTl7jq2-Cg"
   },
   "outputs": [],
   "source": [
    "#export\n",
    "class _TraceIloc:\n",
    "    \"Get/set rows by iloc and cols by name\"\n",
    "    def __init__(self,o): self.o = o\n",
    "    def __getitem__(self, idxs):\n",
    "        df = self.o.items\n",
    "        if isinstance(idxs,tuple):\n",
    "            rows,cols = idxs\n",
    "            rows=df.index[rows]\n",
    "            return self.o.new(df.loc[rows,cols])\n",
    "        else:\n",
    "            rows,cols = idxs,slice(None)\n",
    "            rows=np.unique(df.index)[rows]\n",
    "            return self.o.new(df.loc[rows])"
   ]
  },
  {
   "cell_type": "code",
   "execution_count": null,
   "metadata": {
    "hidden": true,
    "id": "mdrTqDmS2-Ch"
   },
   "outputs": [],
   "source": [
    "#export\n",
    "class PPObj(CollBase, GetAttr, FilteredBase):\n",
    "    \"Main Class for Process Prediction\"\n",
    "    _default,with_cont='procs',True\n",
    "    def __init__(self,df,procs=None,cat_names=None,cont_names=None,date_names=None,y_names=None,splits=None,\n",
    "                 ycat_names=None,ycont_names=None,inplace=False,do_setup=True):\n",
    "        if not inplace: df=df.copy()\n",
    "        if splits is not None: df = df.loc[sum(splits, [])] # Can drop traces\n",
    "        self.event_ids=df['event_id'].values if hasattr(df,'event_id') else None\n",
    "\n",
    "        super().__init__(df)\n",
    "\n",
    "        self.cat_names,self.cont_names,self.date_names=(L(cat_names),L(cont_names),L(date_names))\n",
    "        self.set_y_names(y_names,ycat_names,ycont_names)\n",
    "\n",
    "        self.procs = Pipeline(procs)\n",
    "        self.splits=splits\n",
    "        if do_setup: self.setup()\n",
    "\n",
    "\n",
    "    @property\n",
    "    def y_names(self): return self.ycat_names+self.ycont_names\n",
    "\n",
    "    def set_y_names(self,y_names,ycat_names=None,ycont_names=None):\n",
    "        if ycat_names or ycont_names: store_attr('ycat_names,ycont_names')\n",
    "        else:\n",
    "            self.ycat_names,self.ycont_names=(L([i for i in L(y_names) if i in self.cat_names]),\n",
    "                                                L([i for i in L(y_names) if i not in self.cat_names]))\n",
    "    def setup(self): self.procs.setup(self)\n",
    "    def subset(self, i): return self.new(self.loc[self.splits[i]]) if self.splits else self\n",
    "    def __len__(self): return len(np.unique(self.items.index))\n",
    "    def show(self, max_n=3, **kwargs):\n",
    "        print('#traces:',len(self),'#events:',len(self.items))\n",
    "        display_df(self.new(self.all_cols[:max_n]).items)\n",
    "    def new(self, df):\n",
    "        return type(self)(df, do_setup=False,\n",
    "                          **attrdict(self, 'procs','cat_names','cont_names','ycat_names','ycont_names',\n",
    "                                     'date_names'))\n",
    "    def process(self): self.procs(self)\n",
    "    def loc(self): return self.items.loc\n",
    "    def iloc(self): return _TraceIloc(self)\n",
    "    def x_names (self): return self.cat_names + self.cont_names\n",
    "    def all_col_names(self): return ((self.x_names+self.y_names)).unique()\n",
    "    def transform(self, cols, f, all_col=True):\n",
    "        if not all_col: cols = [c for c in cols if c in self.items.columns]\n",
    "        if len(cols) > 0: self[cols] = self[cols].transform(f)\n",
    "    def new_empty(self): return self.new(pd.DataFrame({}, columns=self.items.columns))\n",
    "    def subsets(self): return [self.subset(i) for i in range(len(self.splits))] if self.splits else L(self)\n",
    "properties(PPObj,'loc','iloc','x_names','all_col_names')\n",
    "\n",
    "def _add_prop(cls, nm):\n",
    "    @property\n",
    "    def f(o): return o[list(getattr(o,nm+'_names'))]\n",
    "    @f.setter\n",
    "    def fset(o, v): o[getattr(o,nm+'_names')] = v\n",
    "    setattr(cls, nm+'s', f)\n",
    "    setattr(cls, nm+'s', fset)\n",
    "\n",
    "_add_prop(PPObj, 'cat')\n",
    "_add_prop(PPObj, 'cont')\n",
    "_add_prop(PPObj, 'ycat')\n",
    "_add_prop(PPObj, 'ycont')\n",
    "_add_prop(PPObj, 'y')\n",
    "_add_prop(PPObj, 'x')\n",
    "_add_prop(PPObj, 'all_col')"
   ]
  },
  {
   "cell_type": "code",
   "execution_count": null,
   "metadata": {
    "hidden": true,
    "id": "usgGb56b2-Ch"
   },
   "outputs": [],
   "source": [
    "ppObj=PPObj(event_df,cat_names=['activity', 'resource'],y_names=['activity'])"
   ]
  },
  {
   "cell_type": "code",
   "execution_count": null,
   "metadata": {
    "colab": {
     "base_uri": "https://localhost:8080/"
    },
    "hidden": true,
    "id": "q_Q-rRsM2-Ch",
    "outputId": "bdbf251c-d19c-43f2-96f4-acd74d7cb8d0"
   },
   "outputs": [
    {
     "data": {
      "text/plain": [
       "(#1) ['activity']"
      ]
     },
     "execution_count": 25,
     "metadata": {},
     "output_type": "execute_result"
    }
   ],
   "source": [
    "ppObj.ycat_names"
   ]
  },
  {
   "cell_type": "code",
   "execution_count": null,
   "metadata": {
    "colab": {
     "base_uri": "https://localhost:8080/"
    },
    "hidden": true,
    "id": "ErBWWG6g2-Ch",
    "outputId": "fef6a149-90ce-4477-bdc2-0e08bdbe5b9c"
   },
   "outputs": [
    {
     "name": "stdout",
     "output_type": "stream",
     "text": [
      "#traces: 1 #events: 5\n"
     ]
    },
    {
     "data": {
      "text/html": [
       "<table border=\"1\" class=\"dataframe\">\n",
       "  <thead>\n",
       "    <tr style=\"text-align: right;\">\n",
       "      <th></th>\n",
       "      <th>activity</th>\n",
       "      <th>resource</th>\n",
       "    </tr>\n",
       "    <tr>\n",
       "      <th>trace_id</th>\n",
       "      <th></th>\n",
       "      <th></th>\n",
       "    </tr>\n",
       "  </thead>\n",
       "  <tbody>\n",
       "    <tr>\n",
       "      <th>173688</th>\n",
       "      <td>W_Completeren aanvraag_COMPLETE</td>\n",
       "      <td>NaN</td>\n",
       "    </tr>\n",
       "    <tr>\n",
       "      <th>173688</th>\n",
       "      <td>W_Nabellen offertes_COMPLETE</td>\n",
       "      <td>NaN</td>\n",
       "    </tr>\n",
       "    <tr>\n",
       "      <th>173688</th>\n",
       "      <td>W_Nabellen offertes_COMPLETE</td>\n",
       "      <td>10913.0</td>\n",
       "    </tr>\n",
       "  </tbody>\n",
       "</table>"
      ],
      "text/plain": [
       "<IPython.core.display.HTML object>"
      ]
     },
     "metadata": {},
     "output_type": "display_data"
    }
   ],
   "source": [
    "ppObj.iloc[0].show() # shows first trace"
   ]
  },
  {
   "cell_type": "markdown",
   "metadata": {
    "hidden": true,
    "id": "Gpd-GDt72-Ch"
   },
   "source": [
    "We can define various pre-processing functions that are executed, when `PPOBj` is instantiated. `PPProc` is the base class for a pre-processing function. It ensures, that setup of a pre-processing function is performed using the training set, and than it is applied to the validation and test set, with the same parameters."
   ]
  },
  {
   "cell_type": "code",
   "execution_count": null,
   "metadata": {
    "hidden": true,
    "id": "UtwoHPNB2-Ci"
   },
   "outputs": [],
   "source": [
    "#export\n",
    "class PPProc(InplaceTransform):\n",
    "    \"Base class to write a non-lazy tabular processor for dataframes\"\n",
    "    def setup(self, items=None, train_setup=False): #TODO: properly deal with train_setup\n",
    "        super().setup(getattr(items,'train',items), train_setup=False)\n",
    "        #super().setup(items, train_setup=False)\n",
    "\n",
    "        # Procs are called as soon as data is available\n",
    "        return self(items.items if isinstance(items,Datasets) else items)\n",
    "\n",
    "    @property\n",
    "    def name(self): return f\"{super().name} -- {getattr(self,'__stored_args__',{})}\""
   ]
  },
  {
   "cell_type": "markdown",
   "metadata": {
    "heading_collapsed": true,
    "id": "11x-g9tS2-Ci"
   },
   "source": [
    "### Categorization\n",
    "i.e ordinal encoding"
   ]
  },
  {
   "cell_type": "markdown",
   "metadata": {
    "hidden": true,
    "id": "rJxBFlyr2-Ci"
   },
   "source": [
    "Implementation of ordinal or integer encoding. Adds NA values for unknown data. Implementation is pretty much taken from fastai."
   ]
  },
  {
   "cell_type": "code",
   "execution_count": null,
   "metadata": {
    "hidden": true,
    "id": "jwLava0c2-Ci"
   },
   "outputs": [],
   "source": [
    "#export\n",
    "def _apply_cats (voc, add, c):\n",
    "    if not is_categorical_dtype(c):\n",
    "        return pd.Categorical(c, categories=voc[c.name][add:]).codes+add\n",
    "    return c.cat.codes+add #if is_categorical_dtype(c) else c.map(voc[c.name].o2i)\n",
    "\n",
    "def _decode_cats(voc, c): \n",
    "  print(voc)\n",
    "  return c.map(dict(enumerate(voc[c.name].items)))\n"
   ]
  },
  {
   "cell_type": "code",
   "execution_count": null,
   "metadata": {
    "hidden": true,
    "id": "DwWcG_wO2-Ci"
   },
   "outputs": [],
   "source": [
    "#export\n",
    "class Categorify(PPProc):\n",
    "    \"Transform the categorical variables to something similar to `pd.Categorical`\"\n",
    "    order = 2\n",
    "    def setups(self, to):\n",
    "        store_attr(classmaps={n:dict(enumerate(CategoryMap(to.items.loc[:,n], add_na=False))) for n in to.cat_names}, but='to')\n",
    "        store_attr(classes={n:CategoryMap(to.items.loc[:,n], add_na=False) for n in to.cat_names}, but='to')\n",
    "    def encodes(self, to):\n",
    "        to.transform(to.cat_names, partial(_apply_cats, self.classes, 1))\n",
    "\n",
    "    def decodes(self, to): to.transform(to.cat_names, partial(_decode_cats, self.classes))\n",
    "    def __getitem__(self,k): return self.classes[k]"
   ]
  },
  {
   "cell_type": "code",
   "execution_count": null,
   "metadata": {
    "hidden": true,
    "id": "OaFG_HIT2-Ci"
   },
   "outputs": [],
   "source": [
    "log=import_log(EventLogs.BPIC_12)\n",
    "traces=split_traces(log)[0][:100]\n",
    "splits=traces[:60],traces[60:80],traces[80:100]\n",
    "o=PPObj(log,None,cat_names=['activity', 'resource'],splits=splits)"
   ]
  },
  {
   "cell_type": "code",
   "execution_count": null,
   "metadata": {
    "colab": {
     "base_uri": "https://localhost:8080/"
    },
    "hidden": true,
    "id": "YnC4Wk6c2-Cj",
    "outputId": "c6be129b-a52e-4f0e-a591-3112f668ae21"
   },
   "outputs": [
    {
     "name": "stdout",
     "output_type": "stream",
     "text": [
      "{0: 'A_ACCEPTED_COMPLETE', 1: 'A_ACTIVATED_COMPLETE', 2: 'A_APPROVED_COMPLETE', 3: 'A_CANCELLED_COMPLETE', 4: 'A_DECLINED_COMPLETE', 5: 'A_FINALIZED_COMPLETE', 6: 'A_PARTLYSUBMITTED_COMPLETE', 7: 'A_PREACCEPTED_COMPLETE', 8: 'A_REGISTERED_COMPLETE', 9: 'A_SUBMITTED_COMPLETE', 10: 'O_ACCEPTED_COMPLETE', 11: 'O_CANCELLED_COMPLETE', 12: 'O_CREATED_COMPLETE', 13: 'O_DECLINED_COMPLETE', 14: 'O_SELECTED_COMPLETE', 15: 'O_SENT_BACK_COMPLETE', 16: 'O_SENT_COMPLETE', 17: 'W_Afhandelen leads_COMPLETE', 18: 'W_Afhandelen leads_SCHEDULE', 19: 'W_Afhandelen leads_START', 20: 'W_Beoordelen fraude_COMPLETE', 21: 'W_Beoordelen fraude_SCHEDULE', 22: 'W_Beoordelen fraude_START', 23: 'W_Completeren aanvraag_COMPLETE', 24: 'W_Completeren aanvraag_SCHEDULE', 25: 'W_Completeren aanvraag_START', 26: 'W_Nabellen incomplete dossiers_COMPLETE', 27: 'W_Nabellen incomplete dossiers_SCHEDULE', 28: 'W_Nabellen incomplete dossiers_START', 29: 'W_Nabellen offertes_COMPLETE', 30: 'W_Nabellen offertes_SCHEDULE', 31: 'W_Nabellen offertes_START', 32: 'W_Valideren aanvraag_COMPLETE', 33: 'W_Valideren aanvraag_SCHEDULE', 34: 'W_Valideren aanvraag_START'}\n"
     ]
    }
   ],
   "source": [
    "m=CategoryMap(o.items.loc[:,'activity'])\n",
    "print(dict( enumerate(m ) ) )\n"
   ]
  },
  {
   "cell_type": "code",
   "execution_count": null,
   "metadata": {
    "colab": {
     "base_uri": "https://localhost:8080/"
    },
    "hidden": true,
    "id": "aGrhvjKm2-Cj",
    "outputId": "c5d55605-d6c7-43a8-ca57-306fd2a3d99c"
   },
   "outputs": [
    {
     "data": {
      "text/plain": [
       "{'activity': {0: 'A_ACCEPTED_COMPLETE',\n",
       "  1: 'A_ACTIVATED_COMPLETE',\n",
       "  2: 'A_APPROVED_COMPLETE',\n",
       "  3: 'A_CANCELLED_COMPLETE',\n",
       "  4: 'A_DECLINED_COMPLETE',\n",
       "  5: 'A_FINALIZED_COMPLETE',\n",
       "  6: 'A_PARTLYSUBMITTED_COMPLETE',\n",
       "  7: 'A_PREACCEPTED_COMPLETE',\n",
       "  8: 'A_REGISTERED_COMPLETE',\n",
       "  9: 'A_SUBMITTED_COMPLETE',\n",
       "  10: 'O_ACCEPTED_COMPLETE',\n",
       "  11: 'O_CANCELLED_COMPLETE',\n",
       "  12: 'O_CREATED_COMPLETE',\n",
       "  13: 'O_DECLINED_COMPLETE',\n",
       "  14: 'O_SELECTED_COMPLETE',\n",
       "  15: 'O_SENT_BACK_COMPLETE',\n",
       "  16: 'O_SENT_COMPLETE',\n",
       "  17: 'W_Afhandelen leads_COMPLETE',\n",
       "  18: 'W_Afhandelen leads_SCHEDULE',\n",
       "  19: 'W_Afhandelen leads_START',\n",
       "  20: 'W_Beoordelen fraude_COMPLETE',\n",
       "  21: 'W_Beoordelen fraude_SCHEDULE',\n",
       "  22: 'W_Beoordelen fraude_START',\n",
       "  23: 'W_Completeren aanvraag_COMPLETE',\n",
       "  24: 'W_Completeren aanvraag_SCHEDULE',\n",
       "  25: 'W_Completeren aanvraag_START',\n",
       "  26: 'W_Nabellen incomplete dossiers_COMPLETE',\n",
       "  27: 'W_Nabellen incomplete dossiers_SCHEDULE',\n",
       "  28: 'W_Nabellen incomplete dossiers_START',\n",
       "  29: 'W_Nabellen offertes_COMPLETE',\n",
       "  30: 'W_Nabellen offertes_SCHEDULE',\n",
       "  31: 'W_Nabellen offertes_START',\n",
       "  32: 'W_Valideren aanvraag_COMPLETE',\n",
       "  33: 'W_Valideren aanvraag_SCHEDULE',\n",
       "  34: 'W_Valideren aanvraag_START'},\n",
       " 'resource': {0: 112.0,\n",
       "  1: 10138.0,\n",
       "  2: 10188.0,\n",
       "  3: 10228.0,\n",
       "  4: 10609.0,\n",
       "  5: 10629.0,\n",
       "  6: 10789.0,\n",
       "  7: 10859.0,\n",
       "  8: 10861.0,\n",
       "  9: 10863.0,\n",
       "  10: 10880.0,\n",
       "  11: 10881.0,\n",
       "  12: 10889.0,\n",
       "  13: 10899.0,\n",
       "  14: 10909.0,\n",
       "  15: 10910.0,\n",
       "  16: 10912.0,\n",
       "  17: 10913.0,\n",
       "  18: 10929.0,\n",
       "  19: 10931.0,\n",
       "  20: 10932.0,\n",
       "  21: 10933.0,\n",
       "  22: 10935.0,\n",
       "  23: 10939.0,\n",
       "  24: 10971.0,\n",
       "  25: 10972.0,\n",
       "  26: 10982.0,\n",
       "  27: 11000.0,\n",
       "  28: 11001.0,\n",
       "  29: 11002.0,\n",
       "  30: 11003.0,\n",
       "  31: 11009.0,\n",
       "  32: 11019.0,\n",
       "  33: 11029.0,\n",
       "  34: 11049.0,\n",
       "  35: 11111.0,\n",
       "  36: 11119.0,\n",
       "  37: 11120.0,\n",
       "  38: 11121.0,\n",
       "  39: 11122.0,\n",
       "  40: 11169.0,\n",
       "  41: 11179.0,\n",
       "  42: 11180.0,\n",
       "  43: 11181.0,\n",
       "  44: 11189.0,\n",
       "  45: 11200.0,\n",
       "  46: 11201.0,\n",
       "  47: 11202.0,\n",
       "  48: 11203.0,\n",
       "  49: 11259.0,\n",
       "  50: 11289.0,\n",
       "  51: 11299.0,\n",
       "  52: 11302.0,\n",
       "  53: 11304.0,\n",
       "  54: 11309.0,\n",
       "  55: 11319.0}}"
      ]
     },
     "execution_count": 32,
     "metadata": {},
     "output_type": "execute_result"
    }
   ],
   "source": [
    "cat=Categorify()\n",
    "cat.setup(o)\n",
    "cat.classmaps"
   ]
  },
  {
   "cell_type": "code",
   "execution_count": null,
   "metadata": {
    "hidden": true,
    "id": "jwe-zrbK2-Cj"
   },
   "outputs": [],
   "source": [
    "log=import_log(EventLogs.BPIC_12)\n",
    "o=PPObj(log,Categorify,'activity')"
   ]
  },
  {
   "cell_type": "markdown",
   "metadata": {
    "heading_collapsed": true,
    "id": "hQnchvmL2-Cj"
   },
   "source": [
    "### Fill Missing\n",
    "for continuous values"
   ]
  },
  {
   "cell_type": "markdown",
   "metadata": {
    "hidden": true,
    "id": "j4mL_ze32-Ck"
   },
   "source": [
    "A pre-processing function that deals with missing data in continuous attributes. Missing data can be replaced with the median, mean or a constant value. Additionaly, we can create another boolean column that indicates, which rows were missing.  Implementation is pretty much taken from fastai."
   ]
  },
  {
   "cell_type": "code",
   "execution_count": null,
   "metadata": {
    "hidden": true,
    "id": "E_aXMxR62-Ck"
   },
   "outputs": [],
   "source": [
    "#export\n",
    "class FillStrategy:\n",
    "    \"Namespace containing the various filling strategies.\"\n",
    "    def median  (c,fill): return c.median()\n",
    "    def constant(c,fill): return fill\n",
    "    def mode    (c,fill): return c.dropna().value_counts().idxmax()"
   ]
  },
  {
   "cell_type": "code",
   "execution_count": null,
   "metadata": {
    "hidden": true,
    "id": "baBH0oV02-Ck"
   },
   "outputs": [],
   "source": [
    "#export\n",
    "class FillMissing(PPProc):\n",
    "    order=1\n",
    "    \"Fill the missing values in continuous columns.\"\n",
    "    def __init__(self, fill_strategy=FillStrategy.median, add_col=True, fill_vals=None):\n",
    "        if fill_vals is None: fill_vals = defaultdict(int)\n",
    "        store_attr()\n",
    "\n",
    "    def setups(self, dsets):\n",
    "        missing = pd.isnull(dsets.conts).any()\n",
    "        store_attr(but='to', na_dict={n:self.fill_strategy(dsets[n], self.fill_vals[n])\n",
    "                            for n in missing[missing].keys()})\n",
    "        self.fill_strategy = self.fill_strategy.__name__\n",
    "\n",
    "    def encodes(self, to):\n",
    "        missing = pd.isnull(to.conts)\n",
    "        for n in missing.any()[missing.any()].keys():\n",
    "            assert n in self.na_dict, f\"nan values in `{n}` but not in setup training set\"\n",
    "        for n in self.na_dict.keys():\n",
    "            to[n].fillna(self.na_dict[n], inplace=True)\n",
    "            if self.add_col:\n",
    "                to.loc[:,n+'_na'] = missing[n]\n",
    "                if n+'_na' not in to.cat_names: to.cat_names.append(n+'_na')"
   ]
  },
  {
   "cell_type": "code",
   "execution_count": null,
   "metadata": {
    "colab": {
     "base_uri": "https://localhost:8080/"
    },
    "hidden": true,
    "id": "RjnYIc8S2-Ck",
    "outputId": "99054837-7aab-4fc6-e162-4674e41a7b33"
   },
   "outputs": [
    {
     "name": "stdout",
     "output_type": "stream",
     "text": [
      "#traces: 7 #events: 7\n"
     ]
    },
    {
     "data": {
      "text/html": [
       "<table border=\"1\" class=\"dataframe\">\n",
       "  <thead>\n",
       "    <tr style=\"text-align: right;\">\n",
       "      <th></th>\n",
       "      <th>a_na</th>\n",
       "      <th>a</th>\n",
       "      <th>b</th>\n",
       "    </tr>\n",
       "  </thead>\n",
       "  <tbody>\n",
       "    <tr>\n",
       "      <th>0</th>\n",
       "      <td>False</td>\n",
       "      <td>0.0</td>\n",
       "      <td>0</td>\n",
       "    </tr>\n",
       "    <tr>\n",
       "      <th>1</th>\n",
       "      <td>False</td>\n",
       "      <td>1.0</td>\n",
       "      <td>1</td>\n",
       "    </tr>\n",
       "    <tr>\n",
       "      <th>2</th>\n",
       "      <td>True</td>\n",
       "      <td>1.5</td>\n",
       "      <td>2</td>\n",
       "    </tr>\n",
       "  </tbody>\n",
       "</table>"
      ],
      "text/plain": [
       "<IPython.core.display.HTML object>"
      ]
     },
     "metadata": {},
     "output_type": "display_data"
    }
   ],
   "source": [
    "fill = FillMissing() \n",
    "df = pd.DataFrame({'a':[0,1,np.nan,1,2,3,4], 'b': [0,1,2,3,4,5,6]})\n",
    "to = PPObj(df, fill, cont_names=['a', 'b'])\n",
    "to.show()"
   ]
  },
  {
   "cell_type": "markdown",
   "metadata": {
    "heading_collapsed": true,
    "id": "7Qz_GomN2-Cl"
   },
   "source": [
    "### Z-score"
   ]
  },
  {
   "cell_type": "markdown",
   "metadata": {
    "hidden": true,
    "id": "sYb-Dy4f2-Cl"
   },
   "source": [
    "Calculates standartization, also known as z-score formula. Copied from fastai."
   ]
  },
  {
   "cell_type": "code",
   "execution_count": null,
   "metadata": {
    "hidden": true,
    "id": "NJ0XoJZF2-Cl"
   },
   "outputs": [],
   "source": [
    "#export\n",
    "class Normalize(PPProc):\n",
    "    \"Normalize with z-score\"\n",
    "    order = 3\n",
    "    def setups(self, to):\n",
    "        store_attr(but='to', means=dict(getattr(to, 'train', to).conts.mean()),\n",
    "                   stds=dict(getattr(to, 'train', to).conts.std(ddof=0)+1e-7))\n",
    "        return self(to)\n",
    "\n",
    "    def encodes(self, to): to.conts = (to.conts-self.means) / self.stds\n",
    "    def decodes(self, to): to.conts = (to.conts*self.stds ) + self.means"
   ]
  },
  {
   "cell_type": "code",
   "execution_count": null,
   "metadata": {
    "colab": {
     "base_uri": "https://localhost:8080/"
    },
    "hidden": true,
    "id": "yn12H19Z2-Cl",
    "outputId": "686e4d87-6c17-454d-f7e3-c676b31bc3fd"
   },
   "outputs": [
    {
     "data": {
      "text/html": [
       "<div>\n",
       "<style scoped>\n",
       "    .dataframe tbody tr th:only-of-type {\n",
       "        vertical-align: middle;\n",
       "    }\n",
       "\n",
       "    .dataframe tbody tr th {\n",
       "        vertical-align: top;\n",
       "    }\n",
       "\n",
       "    .dataframe thead th {\n",
       "        text-align: right;\n",
       "    }\n",
       "</style>\n",
       "<table border=\"1\" class=\"dataframe\">\n",
       "  <thead>\n",
       "    <tr style=\"text-align: right;\">\n",
       "      <th></th>\n",
       "      <th>event_id</th>\n",
       "      <th>resource</th>\n",
       "      <th>timestamp</th>\n",
       "      <th>activity</th>\n",
       "      <th>REG_DATE</th>\n",
       "      <th>AMOUNT_REQ</th>\n",
       "    </tr>\n",
       "    <tr>\n",
       "      <th>trace_id</th>\n",
       "      <th></th>\n",
       "      <th></th>\n",
       "      <th></th>\n",
       "      <th></th>\n",
       "      <th></th>\n",
       "      <th></th>\n",
       "    </tr>\n",
       "  </thead>\n",
       "  <tbody>\n",
       "    <tr>\n",
       "      <th>173688</th>\n",
       "      <td>0</td>\n",
       "      <td>NaN</td>\n",
       "      <td>2011-10-01 09:45:13.917000+00:00</td>\n",
       "      <td>W_Completeren aanvraag_COMPLETE</td>\n",
       "      <td>2011-10-01 00:38:44.546000+02:00</td>\n",
       "      <td>20000</td>\n",
       "    </tr>\n",
       "    <tr>\n",
       "      <th>173688</th>\n",
       "      <td>1</td>\n",
       "      <td>NaN</td>\n",
       "      <td>2011-10-01 10:17:08.924000+00:00</td>\n",
       "      <td>W_Nabellen offertes_COMPLETE</td>\n",
       "      <td>2011-10-01 00:38:44.546000+02:00</td>\n",
       "      <td>20000</td>\n",
       "    </tr>\n",
       "    <tr>\n",
       "      <th>173688</th>\n",
       "      <td>2</td>\n",
       "      <td>10913.0</td>\n",
       "      <td>2011-10-08 14:32:00.886000+00:00</td>\n",
       "      <td>W_Nabellen offertes_COMPLETE</td>\n",
       "      <td>2011-10-01 00:38:44.546000+02:00</td>\n",
       "      <td>20000</td>\n",
       "    </tr>\n",
       "    <tr>\n",
       "      <th>173688</th>\n",
       "      <td>3</td>\n",
       "      <td>11049.0</td>\n",
       "      <td>2011-10-10 09:33:05.791000+00:00</td>\n",
       "      <td>W_Nabellen offertes_COMPLETE</td>\n",
       "      <td>2011-10-01 00:38:44.546000+02:00</td>\n",
       "      <td>20000</td>\n",
       "    </tr>\n",
       "    <tr>\n",
       "      <th>173688</th>\n",
       "      <td>4</td>\n",
       "      <td>10629.0</td>\n",
       "      <td>2011-10-13 08:37:37.026000+00:00</td>\n",
       "      <td>W_Valideren aanvraag_COMPLETE</td>\n",
       "      <td>2011-10-01 00:38:44.546000+02:00</td>\n",
       "      <td>20000</td>\n",
       "    </tr>\n",
       "  </tbody>\n",
       "</table>\n",
       "</div>"
      ],
      "text/plain": [
       "          event_id  resource  ...                          REG_DATE AMOUNT_REQ\n",
       "trace_id                      ...                                             \n",
       "173688           0       NaN  ...  2011-10-01 00:38:44.546000+02:00      20000\n",
       "173688           1       NaN  ...  2011-10-01 00:38:44.546000+02:00      20000\n",
       "173688           2   10913.0  ...  2011-10-01 00:38:44.546000+02:00      20000\n",
       "173688           3   11049.0  ...  2011-10-01 00:38:44.546000+02:00      20000\n",
       "173688           4   10629.0  ...  2011-10-01 00:38:44.546000+02:00      20000\n",
       "\n",
       "[5 rows x 6 columns]"
      ]
     },
     "execution_count": 38,
     "metadata": {},
     "output_type": "execute_result"
    }
   ],
   "source": [
    "event_df.head()"
   ]
  },
  {
   "cell_type": "code",
   "execution_count": null,
   "metadata": {
    "colab": {
     "base_uri": "https://localhost:8080/"
    },
    "hidden": true,
    "id": "0KrVySrS2-Cl",
    "outputId": "5822d61a-9f47-4cd4-8270-6deefbceca4e"
   },
   "outputs": [
    {
     "name": "stdout",
     "output_type": "stream",
     "text": [
      "#traces: 5 #events: 5\n"
     ]
    },
    {
     "data": {
      "text/html": [
       "<table border=\"1\" class=\"dataframe\">\n",
       "  <thead>\n",
       "    <tr style=\"text-align: right;\">\n",
       "      <th></th>\n",
       "      <th>a</th>\n",
       "    </tr>\n",
       "  </thead>\n",
       "  <tbody>\n",
       "    <tr>\n",
       "      <th>0</th>\n",
       "      <td>-1.429409</td>\n",
       "    </tr>\n",
       "    <tr>\n",
       "      <th>1</th>\n",
       "      <td>-1.327783</td>\n",
       "    </tr>\n",
       "    <tr>\n",
       "      <th>2</th>\n",
       "      <td>-0.514775</td>\n",
       "    </tr>\n",
       "  </tbody>\n",
       "</table>"
      ],
      "text/plain": [
       "<IPython.core.display.HTML object>"
      ]
     },
     "metadata": {},
     "output_type": "display_data"
    }
   ],
   "source": [
    "df = pd.DataFrame({'a':[0,1,9,3,4]})\n",
    "to = PPObj(df, Normalize(), cont_names='a')\n",
    "to.show()"
   ]
  },
  {
   "cell_type": "markdown",
   "metadata": {
    "heading_collapsed": true,
    "id": "17gf8mjw2-Cl"
   },
   "source": [
    "### Date conversion"
   ]
  },
  {
   "cell_type": "markdown",
   "metadata": {
    "hidden": true,
    "id": "0Omhf-tr2-Cl"
   },
   "source": [
    "Encodes a date column. Supports multiple information by using pandas date functions. This implementation is also based on the fastai but also supports relative duration from the first event of a case."
   ]
  },
  {
   "cell_type": "code",
   "execution_count": null,
   "metadata": {
    "hidden": true,
    "id": "UMTd0Z6U2-Cm"
   },
   "outputs": [],
   "source": [
    "#export\n",
    "def _make_date(df, date_field):\n",
    "    \"Make sure `df[date_field]` is of the right date type.\"\n",
    "    field_dtype = df[date_field].dtype\n",
    "    if isinstance(field_dtype, pd.core.dtypes.dtypes.DatetimeTZDtype):\n",
    "        field_dtype = np.datetime64\n",
    "    if not np.issubdtype(field_dtype, np.datetime64):\n",
    "        df[date_field] = pd.to_datetime(df[date_field], infer_datetime_format=True,utc=True)"
   ]
  },
  {
   "cell_type": "code",
   "execution_count": null,
   "metadata": {
    "colab": {
     "base_uri": "https://localhost:8080/"
    },
    "hidden": true,
    "id": "A9ypCd8d2-Cm",
    "outputId": "65b7ba38-1857-4a70-edf3-5188834a6ac2"
   },
   "outputs": [
    {
     "data": {
      "text/plain": [
       "fu    datetime64[ns, UTC]\n",
       "dtype: object"
      ]
     },
     "execution_count": 41,
     "metadata": {},
     "output_type": "execute_result"
    }
   ],
   "source": [
    "df = pd.DataFrame({'fu': ['2019-12-04', '2019-11-29', '2019-11-15', '2019-10-24']})\n",
    "_make_date(df, 'fu')\n",
    "df.dtypes"
   ]
  },
  {
   "cell_type": "code",
   "execution_count": null,
   "metadata": {
    "hidden": true,
    "id": "DgkEU45i2-Cm"
   },
   "outputs": [],
   "source": [
    "#export\n",
    "def _secSinceSunNoon(datTimStr):\n",
    "    dt = pd.to_datetime(datTimStr).dt\n",
    "    return (dt.dayofweek-1)*24*3600+ dt.hour * 3600 + dt.minute * 60 + dt.second"
   ]
  },
  {
   "cell_type": "code",
   "execution_count": null,
   "metadata": {
    "hidden": true,
    "id": "p6MOPfFh2-Cm"
   },
   "outputs": [],
   "source": [
    "#export\n",
    "def _secSinceNoon(datTimStr):\n",
    "    dt = pd.to_datetime(datTimStr).dt\n",
    "    return dt.hour * 3600 + dt.minute * 60 + dt.second"
   ]
  },
  {
   "cell_type": "code",
   "execution_count": null,
   "metadata": {
    "hidden": true,
    "id": "PeXmv_GS2-Cm"
   },
   "outputs": [],
   "source": [
    "#export\n",
    "Base_Date_Encodings=['Year', 'Month', 'Day', 'Dayofweek', 'Dayofyear','Elapsed']"
   ]
  },
  {
   "cell_type": "code",
   "execution_count": null,
   "metadata": {
    "hidden": true,
    "id": "Szj8iOag2-Cm"
   },
   "outputs": [],
   "source": [
    "#export\n",
    "def encode_date(df, field_name,unit=1e9,date_encodings=Base_Date_Encodings):\n",
    "    \"Helper function that adds columns relevant to a date in the column `field_name` of `df`.\"\n",
    "    _make_date(df, field_name)\n",
    "    field = df[field_name]\n",
    "    prefix =  re.sub('[Dd]ate$', '', field_name+\"_\")\n",
    "    attr = ['Year', 'Month', 'Day', 'Dayofweek', 'Dayofyear', 'Is_month_end', 'Is_month_start',\n",
    "            'Is_quarter_end', 'Is_quarter_start', 'Is_year_end', 'Is_year_start']\n",
    "    if time: attr = attr + ['Hour', 'Minute', 'Second']\n",
    "    for n in attr:\n",
    "        if n in date_encodings: df[prefix + n] = getattr(field.dt, n.lower())\n",
    "    # Pandas removed `dt.week` in v1.1.10\n",
    "\n",
    "    if 'secSinceSunNoon' in date_encodings:\n",
    "        df[prefix+'secSinceSunNoon']=_secSinceSunNoon(field)\n",
    "    if 'secSinceNoon' in date_encodings:\n",
    "        df[prefix+'secSinceNoon']=_secSinceNoon(field)\n",
    "    if 'Week' in date_encodings:\n",
    "        week = field.dt.isocalendar().week if hasattr(field.dt, 'isocalendar') else field.dt.week\n",
    "        df.insert(3, prefix+'Week', week)\n",
    "    mask = ~field.isna()\n",
    "    elapsed = pd.Series(np.where(mask,field.values.astype(np.int64) // unit,None).astype(float),index=field.index)\n",
    "\n",
    "    if 'Relative_elapsed' in date_encodings:\n",
    "        df[prefix+'Relative_elapsed']=elapsed-elapsed.groupby(elapsed.index).transform('min')\n",
    "\n",
    "    # required to decode!\n",
    "    if 'Elapsed' in date_encodings: df[prefix+'Elapsed']=elapsed\n",
    "\n",
    "    df.drop(field_name, axis=1, inplace=True)\n",
    "    return [],[prefix+i for i in date_encodings]"
   ]
  },
  {
   "cell_type": "code",
   "execution_count": null,
   "metadata": {
    "colab": {
     "base_uri": "https://localhost:8080/"
    },
    "hidden": true,
    "id": "clfT1GO92-Cm",
    "outputId": "c414e552-eb44-4b11-e318-cbc63cf72aeb"
   },
   "outputs": [
    {
     "data": {
      "text/html": [
       "<div>\n",
       "<style scoped>\n",
       "    .dataframe tbody tr th:only-of-type {\n",
       "        vertical-align: middle;\n",
       "    }\n",
       "\n",
       "    .dataframe tbody tr th {\n",
       "        vertical-align: top;\n",
       "    }\n",
       "\n",
       "    .dataframe thead th {\n",
       "        text-align: right;\n",
       "    }\n",
       "</style>\n",
       "<table border=\"1\" class=\"dataframe\">\n",
       "  <thead>\n",
       "    <tr style=\"text-align: right;\">\n",
       "      <th></th>\n",
       "      <th>fu_Year</th>\n",
       "      <th>fu_Month</th>\n",
       "      <th>fu_Day</th>\n",
       "      <th>fu_Dayofweek</th>\n",
       "      <th>fu_Dayofyear</th>\n",
       "      <th>fu_Elapsed</th>\n",
       "    </tr>\n",
       "  </thead>\n",
       "  <tbody>\n",
       "    <tr>\n",
       "      <th>0</th>\n",
       "      <td>2019</td>\n",
       "      <td>12</td>\n",
       "      <td>4</td>\n",
       "      <td>2</td>\n",
       "      <td>338</td>\n",
       "      <td>1.575418e+09</td>\n",
       "    </tr>\n",
       "    <tr>\n",
       "      <th>1</th>\n",
       "      <td>2019</td>\n",
       "      <td>11</td>\n",
       "      <td>29</td>\n",
       "      <td>4</td>\n",
       "      <td>333</td>\n",
       "      <td>1.574986e+09</td>\n",
       "    </tr>\n",
       "    <tr>\n",
       "      <th>2</th>\n",
       "      <td>2019</td>\n",
       "      <td>11</td>\n",
       "      <td>15</td>\n",
       "      <td>4</td>\n",
       "      <td>319</td>\n",
       "      <td>1.573776e+09</td>\n",
       "    </tr>\n",
       "    <tr>\n",
       "      <th>3</th>\n",
       "      <td>2019</td>\n",
       "      <td>10</td>\n",
       "      <td>24</td>\n",
       "      <td>3</td>\n",
       "      <td>297</td>\n",
       "      <td>1.571875e+09</td>\n",
       "    </tr>\n",
       "  </tbody>\n",
       "</table>\n",
       "</div>"
      ],
      "text/plain": [
       "   fu_Year  fu_Month  fu_Day  fu_Dayofweek  fu_Dayofyear    fu_Elapsed\n",
       "0     2019        12       4             2           338  1.575418e+09\n",
       "1     2019        11      29             4           333  1.574986e+09\n",
       "2     2019        11      15             4           319  1.573776e+09\n",
       "3     2019        10      24             3           297  1.571875e+09"
      ]
     },
     "execution_count": 46,
     "metadata": {},
     "output_type": "execute_result"
    }
   ],
   "source": [
    "df = pd.DataFrame({'fu': ['2019-12-04', '2019-11-29', '2019-11-15', '2019-10-24']})\n",
    "encode_date(df,'fu')\n",
    "df"
   ]
  },
  {
   "cell_type": "code",
   "execution_count": null,
   "metadata": {
    "hidden": true,
    "id": "cgegKsqd2-Cm"
   },
   "outputs": [],
   "source": [
    "#export\n",
    "def decode_date(df, field_name,unit=1e9,date_encodings=Base_Date_Encodings):\n",
    "    df[field_name]=(df[field_name+'_'+'Elapsed'] * unit).astype('datetime64[ns, UTC]')\n",
    "    for c in date_encodings: del df[field_name+'_'+c]"
   ]
  },
  {
   "cell_type": "code",
   "execution_count": null,
   "metadata": {
    "colab": {
     "base_uri": "https://localhost:8080/"
    },
    "hidden": true,
    "id": "ROctNkdj2-Cn",
    "outputId": "e6fbe3f6-8dce-4a28-a429-527936385688"
   },
   "outputs": [
    {
     "data": {
      "text/html": [
       "<div>\n",
       "<style scoped>\n",
       "    .dataframe tbody tr th:only-of-type {\n",
       "        vertical-align: middle;\n",
       "    }\n",
       "\n",
       "    .dataframe tbody tr th {\n",
       "        vertical-align: top;\n",
       "    }\n",
       "\n",
       "    .dataframe thead th {\n",
       "        text-align: right;\n",
       "    }\n",
       "</style>\n",
       "<table border=\"1\" class=\"dataframe\">\n",
       "  <thead>\n",
       "    <tr style=\"text-align: right;\">\n",
       "      <th></th>\n",
       "      <th>fu</th>\n",
       "    </tr>\n",
       "  </thead>\n",
       "  <tbody>\n",
       "    <tr>\n",
       "      <th>0</th>\n",
       "      <td>2019-12-04 00:00:00+00:00</td>\n",
       "    </tr>\n",
       "    <tr>\n",
       "      <th>1</th>\n",
       "      <td>2019-11-29 00:00:00+00:00</td>\n",
       "    </tr>\n",
       "    <tr>\n",
       "      <th>2</th>\n",
       "      <td>2019-11-15 00:00:00+00:00</td>\n",
       "    </tr>\n",
       "    <tr>\n",
       "      <th>3</th>\n",
       "      <td>2019-10-24 00:00:00+00:00</td>\n",
       "    </tr>\n",
       "  </tbody>\n",
       "</table>\n",
       "</div>"
      ],
      "text/plain": [
       "                         fu\n",
       "0 2019-12-04 00:00:00+00:00\n",
       "1 2019-11-29 00:00:00+00:00\n",
       "2 2019-11-15 00:00:00+00:00\n",
       "3 2019-10-24 00:00:00+00:00"
      ]
     },
     "execution_count": 48,
     "metadata": {},
     "output_type": "execute_result"
    }
   ],
   "source": [
    "decode_date(df,'fu')\n",
    "df"
   ]
  },
  {
   "cell_type": "code",
   "execution_count": null,
   "metadata": {
    "hidden": true,
    "id": "LsnLpm5w2-Cn"
   },
   "outputs": [],
   "source": [
    "#export\n",
    "class Datetify(PPProc):\n",
    "    \"Encode dates, \"\n",
    "    order = 0\n",
    "\n",
    "    def __init__(self, date_encodings=['Relative_elapsed']): self.date_encodings=listify(date_encodings)\n",
    "\n",
    "    def encodes(self, o):\n",
    "        for i in o.date_names:\n",
    "            cat,cont=encode_date(o.items,i,date_encodings=self.date_encodings)\n",
    "            o.cont_names+=cont\n",
    "            o.cat_names+=cat\n",
    "# Todo: Add decoding"
   ]
  },
  {
   "cell_type": "code",
   "execution_count": null,
   "metadata": {
    "colab": {
     "base_uri": "https://localhost:8080/"
    },
    "hidden": true,
    "id": "Hhan4_Cz2-Cn",
    "outputId": "15f2abae-991a-4cc5-fa05-f51020cac78b"
   },
   "outputs": [
    {
     "data": {
      "text/html": [
       "<div>\n",
       "<style scoped>\n",
       "    .dataframe tbody tr th:only-of-type {\n",
       "        vertical-align: middle;\n",
       "    }\n",
       "\n",
       "    .dataframe tbody tr th {\n",
       "        vertical-align: top;\n",
       "    }\n",
       "\n",
       "    .dataframe thead th {\n",
       "        text-align: right;\n",
       "    }\n",
       "</style>\n",
       "<table border=\"1\" class=\"dataframe\">\n",
       "  <thead>\n",
       "    <tr style=\"text-align: right;\">\n",
       "      <th></th>\n",
       "      <th>fu_secSinceSunNoon</th>\n",
       "      <th>fu_secSinceNoon</th>\n",
       "      <th>fu_Relative_elapsed</th>\n",
       "    </tr>\n",
       "  </thead>\n",
       "  <tbody>\n",
       "    <tr>\n",
       "      <th>1</th>\n",
       "      <td>259200</td>\n",
       "      <td>0</td>\n",
       "      <td>0.0</td>\n",
       "    </tr>\n",
       "    <tr>\n",
       "      <th>1</th>\n",
       "      <td>86400</td>\n",
       "      <td>0</td>\n",
       "      <td>432000.0</td>\n",
       "    </tr>\n",
       "    <tr>\n",
       "      <th>1</th>\n",
       "      <td>0</td>\n",
       "      <td>0</td>\n",
       "      <td>950400.0</td>\n",
       "    </tr>\n",
       "    <tr>\n",
       "      <th>1</th>\n",
       "      <td>172800</td>\n",
       "      <td>0</td>\n",
       "      <td>1728000.0</td>\n",
       "    </tr>\n",
       "  </tbody>\n",
       "</table>\n",
       "</div>"
      ],
      "text/plain": [
       "   fu_secSinceSunNoon  fu_secSinceNoon  fu_Relative_elapsed\n",
       "1              259200                0                  0.0\n",
       "1               86400                0             432000.0\n",
       "1                   0                0             950400.0\n",
       "1              172800                0            1728000.0"
      ]
     },
     "execution_count": 50,
     "metadata": {},
     "output_type": "execute_result"
    }
   ],
   "source": [
    "df = pd.DataFrame({'fu': ['2019-10-04', '2019-10-09', '2019-10-15', '2019-10-24']},index=[1,1,1,1])\n",
    "o = PPObj(df,Datetify(date_encodings=['secSinceSunNoon','secSinceNoon','Relative_elapsed']),date_names='fu')\n",
    "o.xs"
   ]
  },
  {
   "cell_type": "markdown",
   "metadata": {
    "heading_collapsed": true,
    "id": "EppAcSvE2-Cn"
   },
   "source": [
    "### MinMax Scaling"
   ]
  },
  {
   "cell_type": "markdown",
   "metadata": {
    "hidden": true,
    "id": "HwCzkxuw2-Cn"
   },
   "source": [
    "Calculates the MinMax scaling from a column."
   ]
  },
  {
   "cell_type": "code",
   "execution_count": null,
   "metadata": {
    "hidden": true,
    "id": "vKmEMJ_H2-Cn"
   },
   "outputs": [],
   "source": [
    "#export\n",
    "class MinMax(PPProc):\n",
    "    order=3\n",
    "\n",
    "    def setups(self, o):\n",
    "        store_attr(mins=o.xs.min(),\n",
    "                   maxs=o.xs.max())\n",
    "\n",
    "    def encodes(self, o):\n",
    "        cols=[i+'_minmax' for i in o.x_names]\n",
    "        o[cols] = o.xs.astype(float)\n",
    "        o[cols] = ((o.xs-self.mins) /(self.maxs-self.mins))\n",
    "        o.cont_names=L(cols)\n",
    "        o.cat_names=L()"
   ]
  },
  {
   "cell_type": "code",
   "execution_count": null,
   "metadata": {
    "hidden": true,
    "id": "mO7HC7dj2-Co"
   },
   "outputs": [],
   "source": [
    "event_df=import_log(EventLogs.Mobis)"
   ]
  },
  {
   "cell_type": "code",
   "execution_count": null,
   "metadata": {
    "hidden": true,
    "id": "xd5bNhtU2-Co"
   },
   "outputs": [],
   "source": [
    "o=PPObj(event_df,[Categorify,MinMax,Datetify,FillMissing],cont_names=['cost'],cat_names=['activity'])"
   ]
  },
  {
   "cell_type": "code",
   "execution_count": null,
   "metadata": {
    "colab": {
     "base_uri": "https://localhost:8080/"
    },
    "hidden": true,
    "id": "exkWjexh2-Co",
    "outputId": "b300ccbe-86d9-4eef-e497-bb88d3aa113f"
   },
   "outputs": [
    {
     "data": {
      "text/plain": [
       "activity_minmax    1.0\n",
       "cost_na_minmax     1.0\n",
       "cost_minmax        1.0\n",
       "dtype: float64"
      ]
     },
     "execution_count": 54,
     "metadata": {},
     "output_type": "execute_result"
    }
   ],
   "source": [
    "o.xs.max()"
   ]
  },
  {
   "cell_type": "code",
   "execution_count": null,
   "metadata": {
    "hidden": true,
    "id": "1FHs-Q9G2-Co"
   },
   "outputs": [],
   "source": [
    "event_df=import_log(EventLogs.BPIC_12)"
   ]
  },
  {
   "cell_type": "code",
   "execution_count": null,
   "metadata": {
    "colab": {
     "base_uri": "https://localhost:8080/"
    },
    "hidden": true,
    "id": "hxo6rRlo2-Co",
    "outputId": "8f4b9e1f-9608-43f1-daae-be8a808f217f"
   },
   "outputs": [
    {
     "name": "stdout",
     "output_type": "stream",
     "text": [
      "#traces: 13087 #events: 262200\n"
     ]
    },
    {
     "data": {
      "text/html": [
       "<table border=\"1\" class=\"dataframe\">\n",
       "  <thead>\n",
       "    <tr style=\"text-align: right;\">\n",
       "      <th></th>\n",
       "      <th>activity_minmax</th>\n",
       "      <th>resource_minmax</th>\n",
       "      <th>AMOUNT_REQ_minmax</th>\n",
       "      <th>timestamp_Relative_elapsed_minmax</th>\n",
       "    </tr>\n",
       "    <tr>\n",
       "      <th>trace_id</th>\n",
       "      <th></th>\n",
       "      <th></th>\n",
       "      <th></th>\n",
       "      <th></th>\n",
       "    </tr>\n",
       "  </thead>\n",
       "  <tbody>\n",
       "    <tr>\n",
       "      <th>173688</th>\n",
       "      <td>0.257143</td>\n",
       "      <td>0.0</td>\n",
       "      <td>0.200002</td>\n",
       "      <td>0.000000</td>\n",
       "    </tr>\n",
       "    <tr>\n",
       "      <th>173688</th>\n",
       "      <td>0.171429</td>\n",
       "      <td>0.0</td>\n",
       "      <td>0.200002</td>\n",
       "      <td>0.000000</td>\n",
       "    </tr>\n",
       "    <tr>\n",
       "      <th>173688</th>\n",
       "      <td>0.200000</td>\n",
       "      <td>0.0</td>\n",
       "      <td>0.200002</td>\n",
       "      <td>0.000004</td>\n",
       "    </tr>\n",
       "    <tr>\n",
       "      <th>173688</th>\n",
       "      <td>0.685714</td>\n",
       "      <td>0.0</td>\n",
       "      <td>0.200002</td>\n",
       "      <td>0.000005</td>\n",
       "    </tr>\n",
       "    <tr>\n",
       "      <th>173688</th>\n",
       "      <td>0.714286</td>\n",
       "      <td>0.0</td>\n",
       "      <td>0.200002</td>\n",
       "      <td>0.003330</td>\n",
       "    </tr>\n",
       "  </tbody>\n",
       "</table>"
      ],
      "text/plain": [
       "<IPython.core.display.HTML object>"
      ]
     },
     "metadata": {},
     "output_type": "display_data"
    }
   ],
   "source": [
    "PPObj(event_df,[Categorify(),Datetify(),MinMax()],\n",
    "      date_names=['timestamp'],cat_names=['activity','resource'],cont_names=['AMOUNT_REQ']).show(max_n=5)"
   ]
  },
  {
   "cell_type": "markdown",
   "metadata": {
    "heading_collapsed": true,
    "id": "grFxjIhW2-Cp"
   },
   "source": [
    "### One HoT Encoding"
   ]
  },
  {
   "cell_type": "markdown",
   "metadata": {
    "hidden": true,
    "id": "8eHQtHYq2-Cp"
   },
   "source": [
    "Calculates the one-hot encoding of a column. It is required to first apply categorization on the same column, to deal with missing values."
   ]
  },
  {
   "cell_type": "code",
   "execution_count": null,
   "metadata": {
    "hidden": true,
    "id": "pUxTCg8Q2-Cp"
   },
   "outputs": [],
   "source": [
    "#export\n",
    "from sklearn.preprocessing import OneHotEncoder"
   ]
  },
  {
   "cell_type": "code",
   "execution_count": null,
   "metadata": {
    "hidden": true,
    "id": "0DjB8V5d2-Cp"
   },
   "outputs": [],
   "source": [
    "o=PPObj(event_df,[Categorify],cat_names=['activity','resource'])"
   ]
  },
  {
   "cell_type": "code",
   "execution_count": null,
   "metadata": {
    "colab": {
     "base_uri": "https://localhost:8080/"
    },
    "hidden": true,
    "id": "PYfgXHlq2-Cp",
    "outputId": "a8667157-6a0a-48a3-cb68-e863e468b02b"
   },
   "outputs": [
    {
     "data": {
      "text/plain": [
       "(262200, 36)"
      ]
     },
     "execution_count": 59,
     "metadata": {},
     "output_type": "execute_result"
    }
   ],
   "source": [
    "len(o.xs),len(o.procs.categorify['activity'])"
   ]
  },
  {
   "cell_type": "code",
   "execution_count": null,
   "metadata": {
    "colab": {
     "base_uri": "https://localhost:8080/"
    },
    "hidden": true,
    "id": "x_kEBBMR2-Cp",
    "outputId": "ba9602a2-ac34-43bc-910c-ad746118e18f"
   },
   "outputs": [
    {
     "data": {
      "text/plain": [
       "array([[ 9,  0],\n",
       "       [ 6,  0],\n",
       "       [ 7,  0],\n",
       "       ...,\n",
       "       [19, 48],\n",
       "       [ 4, 48],\n",
       "       [17, 48]], dtype=int8)"
      ]
     },
     "execution_count": 60,
     "metadata": {},
     "output_type": "execute_result"
    }
   ],
   "source": [
    "o.xs.values"
   ]
  },
  {
   "cell_type": "code",
   "execution_count": null,
   "metadata": {
    "hidden": true,
    "id": "slJaIuiC2-Cp"
   },
   "outputs": [],
   "source": [
    "x=o.xs.to_numpy()\n",
    "categories=[range(len(o.procs.categorify['activity'])),range(len(o.procs.categorify['activity']))]"
   ]
  },
  {
   "cell_type": "code",
   "execution_count": null,
   "metadata": {
    "hidden": true,
    "id": "Tmhct0j02-Cp"
   },
   "outputs": [],
   "source": [
    "x=np.array(['a1','a2'])\n",
    "categories=[['a1','a2','a3']]"
   ]
  },
  {
   "cell_type": "code",
   "execution_count": null,
   "metadata": {
    "colab": {
     "base_uri": "https://localhost:8080/"
    },
    "hidden": true,
    "id": "-shE4Vuk2-Cq",
    "outputId": "c8694941-9d35-4c66-cc6b-2d2e0908f508"
   },
   "outputs": [
    {
     "data": {
      "text/plain": [
       "(2, 3)"
      ]
     },
     "execution_count": 63,
     "metadata": {},
     "output_type": "execute_result"
    }
   ],
   "source": [
    "ohe = OneHotEncoder(categories=categories)\n",
    "a=ohe.fit_transform(x.reshape(-1, 1)).toarray()\n",
    "a.shape"
   ]
  },
  {
   "cell_type": "code",
   "execution_count": null,
   "metadata": {
    "hidden": true,
    "id": "l-YBKfMW2-Cq"
   },
   "outputs": [],
   "source": [
    "categories=['a1','a2','a3']"
   ]
  },
  {
   "cell_type": "code",
   "execution_count": null,
   "metadata": {
    "hidden": true,
    "id": "k9fxXWg-2-Cq"
   },
   "outputs": [],
   "source": [
    "#export\n",
    "#export\n",
    "from sklearn.preprocessing import OneHotEncoder\n",
    "class OneHot(PPProc):\n",
    "    \"Transform the categorical variables to one-hot. Requires Categorify to deal with unseen data.\"\n",
    "    order = 3\n",
    "\n",
    "    def encodes(self, o):\n",
    "        new_cats=[]\n",
    "        for c in o.cat_names:\n",
    "            categories=[range(len(o.procs.categorify[c]))]\n",
    "            x=o[c].to_numpy()\n",
    "            ohe = OneHotEncoder(categories=categories)\n",
    "            enc=ohe.fit_transform(x.reshape(-1, 1)).toarray()\n",
    "            for i in range(enc.shape[1]):\n",
    "                new_cat=f'{c}_{i}'\n",
    "                o.items.loc[:,new_cat]=enc[:,i]\n",
    "                new_cats.append(new_cat)\n",
    "        o.cat_names=L(new_cats)"
   ]
  },
  {
   "cell_type": "code",
   "execution_count": null,
   "metadata": {
    "hidden": true,
    "id": "R6Ug6lv92-Cq"
   },
   "outputs": [],
   "source": [
    "event_df=import_log(EventLogs.BPIC_17_OFFER)"
   ]
  },
  {
   "cell_type": "code",
   "execution_count": null,
   "metadata": {
    "colab": {
     "base_uri": "https://localhost:8080/"
    },
    "hidden": true,
    "id": "3Sjpd_6j2-Cq",
    "outputId": "968fec14-0552-43cc-ca1b-174874d7161e"
   },
   "outputs": [
    {
     "name": "stdout",
     "output_type": "stream",
     "text": [
      "CPU times: user 10.8 s, sys: 983 ms, total: 11.8 s\n",
      "Wall time: 11.7 s\n"
     ]
    }
   ],
   "source": [
    "%%time\n",
    "o=PPObj(event_df,[Categorify(),OneHot()],cat_names=['activity','resource'])"
   ]
  },
  {
   "cell_type": "markdown",
   "metadata": {
    "heading_collapsed": true,
    "id": "7t75D4532-Cq"
   },
   "source": [
    "## Sub-sequence Generation"
   ]
  },
  {
   "cell_type": "markdown",
   "metadata": {
    "hidden": true,
    "id": "aM0MOcrm2-Cq"
   },
   "source": [
    "Here, the log dataframe is converted into subsequences or prefices of the cases. For a case with n events, we create n prefixes. The prefix generation is done in an efficient way, through the `np.roll` function, which shifts a numpy array by 1 element."
   ]
  },
  {
   "cell_type": "code",
   "execution_count": null,
   "metadata": {
    "hidden": true,
    "id": "fde63giT2-Cq"
   },
   "outputs": [],
   "source": [
    "#export\n",
    "def _shift_columns (a,ws=3): return np.dstack(list(reversed([np.roll(a,i) for i in range(0,ws)])))[0]"
   ]
  },
  {
   "cell_type": "code",
   "execution_count": null,
   "metadata": {
    "hidden": true,
    "id": "ZMkVp9G_2-Cr"
   },
   "outputs": [],
   "source": [
    "#export\n",
    "def subsequences_fast(df,event_ids,ws=None,min_ws=64):\n",
    "    max_trace_len=int(event_ids.max())+1\n",
    "\n",
    "    if not ws: ws=max_trace_len-1\n",
    "    elif ws <max_trace_len-1: raise ValueError(f\"ws must be greater equal {max_trace_len-1}\")\n",
    "    pad=ws\n",
    "    ws=max(min_ws,ws)\n",
    "    trace_start = np.where(event_ids == 0)[0]\n",
    "    trace_len=np.array([trace_start[i]-trace_start[i-1] for i in range(1,len(trace_start))]+[len(df)-trace_start[-1]])\n",
    "    tmp=np.stack([_shift_columns(df[i],ws=ws) for i in list(df)])\n",
    "    idx=[range(trace_start[i],trace_start[i]+trace_len[i]-1) for i in range(len(trace_start))]\n",
    "    idx=np.array([y for x in idx for y in x])\n",
    "\n",
    "    res=np.rollaxis(tmp,1)[idx]\n",
    "    mask=ws-1-event_ids[idx][:,None] > np.arange(res.shape[2])\n",
    "    res[np.broadcast_to(mask[:,None],res.shape)]=0\n",
    "    return res,idx+1"
   ]
  },
  {
   "cell_type": "code",
   "execution_count": null,
   "metadata": {
    "hidden": true,
    "id": "7Ul2Fr7i2-Cr"
   },
   "outputs": [],
   "source": [
    "event_df=import_log(EventLogs.BPIC_12)"
   ]
  },
  {
   "cell_type": "code",
   "execution_count": null,
   "metadata": {
    "colab": {
     "base_uri": "https://localhost:8080/"
    },
    "hidden": true,
    "id": "DcXVj3Sc2-Cr",
    "outputId": "a67a3082-3307-47f4-d8ed-465120cbadcd"
   },
   "outputs": [
    {
     "data": {
      "text/plain": [
       "13087"
      ]
     },
     "execution_count": 72,
     "metadata": {},
     "output_type": "execute_result"
    }
   ],
   "source": [
    "o=PPObj(event_df,Categorify(),cat_names=['activity'],y_names='activity')\n",
    "#o=o.iloc[0]\n",
    "len(o)"
   ]
  },
  {
   "cell_type": "code",
   "execution_count": null,
   "metadata": {
    "colab": {
     "base_uri": "https://localhost:8080/"
    },
    "hidden": true,
    "id": "Uf53cFSa2-Cr",
    "outputId": "add6c0e6-da47-4859-d84f-6dc43e6c3429"
   },
   "outputs": [
    {
     "data": {
      "text/plain": [
       "249113"
      ]
     },
     "execution_count": 73,
     "metadata": {},
     "output_type": "execute_result"
    }
   ],
   "source": [
    "len(o.items)-len(o)"
   ]
  },
  {
   "cell_type": "code",
   "execution_count": null,
   "metadata": {
    "colab": {
     "base_uri": "https://localhost:8080/"
    },
    "hidden": true,
    "id": "s3SN2Bch2-Cr",
    "outputId": "d3fe8bde-c04b-4bf9-dc24-0e9a1582e5a0"
   },
   "outputs": [
    {
     "data": {
      "text/plain": [
       "(array([[[ 0,  0,  0, ...,  0,  0,  9]],\n",
       " \n",
       "        [[ 0,  0,  0, ...,  0,  9,  6]],\n",
       " \n",
       "        [[ 0,  0,  0, ...,  9,  6,  7]],\n",
       " \n",
       "        ...,\n",
       " \n",
       "        [[ 0,  0,  0, ...,  9,  6, 18]],\n",
       " \n",
       "        [[ 0,  0,  0, ...,  6, 18, 19]],\n",
       " \n",
       "        [[ 0,  0,  0, ..., 18, 19,  4]]], dtype=int8), (249113, 1, 174))"
      ]
     },
     "execution_count": 74,
     "metadata": {},
     "output_type": "execute_result"
    }
   ],
   "source": [
    "ws,idx=subsequences_fast(o.xs,o.event_ids,min_ws=14)\n",
    "ws,ws.shape"
   ]
  },
  {
   "cell_type": "markdown",
   "metadata": {
    "id": "1v333Jtq2-Cr"
   },
   "source": [
    "## Data Loader"
   ]
  },
  {
   "cell_type": "markdown",
   "metadata": {
    "id": "ludM20ia2-Cr"
   },
   "source": [
    "The prefixes are converted to a `pytorch.Dataset` and than to a `DataLoader`\n",
    "A batch is than represented as a tuple of the form `(x cat. attr,x cont. attr, y cat. attr., y cont attr.)`. Also, categorical attributes are converted to a long tensor and continous attributes to a float tensor.\n",
    "\n",
    "If a dimensions of the batch is empty - e.g. the model does not use categorical input attributes - it is removed from the tuple. "
   ]
  },
  {
   "cell_type": "code",
   "execution_count": null,
   "metadata": {
    "colab": {
     "base_uri": "https://localhost:8080/"
    },
    "id": "ID54ti2P2-Cr",
    "outputId": "b9e7b2c8-de98-49a9-bc5b-44f442193aa0"
   },
   "outputs": [
    {
     "data": {
      "text/plain": [
       "(array([[[ 0,  0,  0, ...,  0,  0,  9]],\n",
       " \n",
       "        [[ 0,  0,  0, ...,  0,  9,  6]],\n",
       " \n",
       "        [[ 0,  0,  0, ...,  9,  6,  7]],\n",
       " \n",
       "        ...,\n",
       " \n",
       "        [[ 0,  0,  0, ...,  9,  6, 18]],\n",
       " \n",
       "        [[ 0,  0,  0, ...,  6, 18, 19]],\n",
       " \n",
       "        [[ 0,  0,  0, ..., 18, 19,  4]]], dtype=int8), (249113, 1, 174))"
      ]
     },
     "execution_count": 79,
     "metadata": {},
     "output_type": "execute_result"
    }
   ],
   "source": [
    "o=PPObj(event_df,Categorify(),cat_names=['activity'],y_names='activity')\n",
    "ws,idx=subsequences_fast(o.xs,o.event_ids,min_ws=0)\n",
    "ws,ws.shape"
   ]
  },
  {
   "cell_type": "code",
   "execution_count": null,
   "metadata": {
    "id": "LFc0ReLS2-Cs"
   },
   "outputs": [],
   "source": [
    "#export\n",
    "class PPDset(torch.utils.data.Dataset):\n",
    "    def __init__(self, inp):\n",
    "        store_attr('inp')\n",
    "\n",
    "    def __len__(self): return len(self.inp[0])\n",
    "\n",
    "    def __getitem__(self, idx):\n",
    "        xs=tuple([i[idx]for i in self.inp[:-1]])\n",
    "        ys=tuple([i[idx]for i in self.inp[-1]])\n",
    "        if len(ys)==1: ys=ys[0]\n",
    "        return (*xs,ys)"
   ]
  },
  {
   "cell_type": "code",
   "execution_count": null,
   "metadata": {
    "id": "2Fdcminr2-Cs"
   },
   "outputs": [],
   "source": []
  },
  {
   "cell_type": "code",
   "execution_count": null,
   "metadata": {
    "id": "8tgYJ8h52-Ct"
   },
   "outputs": [],
   "source": [
    "o=PPObj(event_df,Categorify(),cat_names=['activity','resource'],y_names='activity',splits=split_traces(event_df))\n",
    "\n",
    "subs = o.subsets()\n",
    "s=subs[0]\n",
    "wds,idx=subsequences_fast(s.xs,s.event_ids)\n",
    "y=s.ys.iloc[idx]\n",
    "ycats=tensor(y[s.ycat_names].values).long()\n",
    "yconts=tensor(y[s.ycont_names].values).float()\n",
    "xconts=tensor(wds[:,len(s.cat_names):]).float()\n",
    "xcats=tensor(wds[:,:len(s.cat_names)]).long()\n",
    "xs=tuple([i for i in [xcats,xconts] if i.shape[1]>0])\n",
    "ys=[ycats[:,i] for i in range(ycats.shape[1])] + [yconts[:,i] for i in range(yconts.shape[1])]\n",
    "\n",
    "\n",
    "print(ys)\n",
    "yes = ys[0].detach().cpu().numpy()\n",
    "print(yes)\n",
    "clsnames = o.classmaps\n",
    "\n",
    "act_names = clsnames['activity']\n",
    "replaced_list = [x if x not in act_names else act_names[x] for x in yes]\n",
    "print(replaced_list[:10])\n",
    "\n",
    "dt_plot =  pd.DataFrame(replaced_list, columns=['activity'])\n",
    "df = dt_plot.value_counts(sort=True).reset_index(name='counts')\n",
    "df\n"
   ]
  },
  {
   "cell_type": "code",
   "execution_count": null,
   "metadata": {
    "id": "n75Yr8Dc2-Ct"
   },
   "outputs": [],
   "source": [
    "#export\n",
    "@delegates(TfmdDL)\n",
    "def get_dls(ppo:PPObj,windows=subsequences_fast,outcome=False,event_id='event_id',bs=64,**kwargs):\n",
    "    ds=[]\n",
    "    for s in ppo.subsets():\n",
    "        wds,idx=windows(s.xs,s.event_ids)\n",
    "\n",
    "        if not outcome: y=s.ys.iloc[idx]\n",
    "        else: y=s.ys.groupby(s.items.index).transform('last').iloc[idx]\n",
    "        ycats=tensor(y[s.ycat_names].values).long()\n",
    "        yconts=tensor(y[s.ycont_names].values).float()\n",
    "        xconts=tensor(wds[:,len(s.cat_names):]).float()\n",
    "        xcats=tensor(wds[:,:len(s.cat_names)]).long()\n",
    "        xs=tuple([i.squeeze() for i in [xcats,xconts] if i.shape[1]>0])\n",
    "        ys=tuple([ycats[:,i] for i in range(ycats.shape[1])])+tuple([yconts[:,i] for i in range(yconts.shape[1])])\n",
    "        ds.append(PPDset((*xs,ys)))\n",
    "    return DataLoaders.from_dsets(*ds,bs=bs,**kwargs)\n",
    "PPObj.get_dls= get_dls"
   ]
  },
  {
   "cell_type": "code",
   "execution_count": null,
   "metadata": {
    "colab": {
     "base_uri": "https://localhost:8080/"
    },
    "id": "Sxkb_MUP2-Ct",
    "outputId": "d7446ec9-dd27-4abf-b6d5-f234a90534a5"
   },
   "outputs": [
    {
     "data": {
      "text/plain": [
       "(torch.Size([64, 2, 64]), torch.Size([64]))"
      ]
     },
     "execution_count": 77,
     "metadata": {},
     "output_type": "execute_result"
    }
   ],
   "source": [
    "dls=o.get_dls()\n",
    "xb,yb=dls.one_batch()\n",
    "xb.shape,yb.shape"
   ]
  },
  {
   "cell_type": "markdown",
   "metadata": {
    "id": "hmeWO2H22-Ct"
   },
   "source": [
    "### Integration Samples"
   ]
  },
  {
   "cell_type": "markdown",
   "metadata": {
    "id": "gort0NHe2-Ct"
   },
   "source": [
    "This section shows, how the PPObj can be used to create a DataLoader for pedictive process analytics:"
   ]
  },
  {
   "cell_type": "markdown",
   "metadata": {
    "id": "LQi77V1E2-Cv",
    "toc": true
   },
   "source": [
    "<h1>Table of Contents<span class=\"tocSkip\"></span></h1>\n",
    "<div class=\"toc\"><ul class=\"toc-item\"><li><span><a href=\"#Sample-Training\" data-toc-modified-id=\"Sample-Training-1\"><span class=\"toc-item-num\">1&nbsp;&nbsp;</span>Sample Training</a></span></li><li><span><a href=\"#Process-Prediction-Model\" data-toc-modified-id=\"Process-Prediction-Model-2\"><span class=\"toc-item-num\">2&nbsp;&nbsp;</span>Process Prediction Model</a></span></li><li><span><a href=\"#Pipeline-Runner\" data-toc-modified-id=\"Pipeline-Runner-3\"><span class=\"toc-item-num\">3&nbsp;&nbsp;</span>Pipeline Runner</a></span></li></ul></div>"
   ]
  },
  {
   "cell_type": "code",
   "execution_count": null,
   "metadata": {
    "id": "2MFeXq_h2-Cv"
   },
   "outputs": [],
   "source": [
    "# default_exp pipeline"
   ]
  },
  {
   "cell_type": "markdown",
   "metadata": {
    "id": "rVWxDrpp2-Cv"
   },
   "source": [
    "Pipeline\n",
    "===\n",
    "\n"
   ]
  },
  {
   "cell_type": "code",
   "execution_count": null,
   "metadata": {
    "id": "xWJCdfS_2-Cv"
   },
   "outputs": [],
   "source": [
    "\n",
    "import pickle"
   ]
  },
  {
   "cell_type": "markdown",
   "metadata": {
    "id": "q1TXgjr-2-Cv"
   },
   "source": [
    "## Sample Training"
   ]
  },
  {
   "cell_type": "markdown",
   "metadata": {
    "id": "NBzHBneu2-Cv"
   },
   "source": [
    "This section introduces a sample training, whith an simple recurrent pytorch model on the task next activity prediction."
   ]
  },
  {
   "cell_type": "code",
   "execution_count": null,
   "metadata": {
    "id": "OEKSZVQy2-Cv"
   },
   "outputs": [],
   "source": [
    "log=import_log(EventLogs.BPIC_12)"
   ]
  },
  {
   "cell_type": "code",
   "execution_count": null,
   "metadata": {
    "colab": {
     "base_uri": "https://localhost:8080/",
     "height": 210
    },
    "id": "9HraOPTZ2-Cv",
    "outputId": "62df1470-f8fe-4d2f-f76d-b3bd7f3823da"
   },
   "outputs": [
    {
     "name": "stdout",
     "output_type": "stream",
     "text": [
      "#traces: 12658 #events: 226617\n"
     ]
    },
    {
     "data": {
      "text/html": [
       "<table border=\"1\" class=\"dataframe\">\n",
       "  <thead>\n",
       "    <tr style=\"text-align: right;\">\n",
       "      <th></th>\n",
       "      <th>resource</th>\n",
       "    </tr>\n",
       "    <tr>\n",
       "      <th>trace_id</th>\n",
       "      <th></th>\n",
       "    </tr>\n",
       "  </thead>\n",
       "  <tbody>\n",
       "    <tr>\n",
       "      <th>210605</th>\n",
       "      <td>0</td>\n",
       "    </tr>\n",
       "    <tr>\n",
       "      <th>210605</th>\n",
       "      <td>0</td>\n",
       "    </tr>\n",
       "    <tr>\n",
       "      <th>210605</th>\n",
       "      <td>0</td>\n",
       "    </tr>\n",
       "  </tbody>\n",
       "</table>"
      ],
      "text/plain": [
       "<IPython.core.display.HTML object>"
      ]
     },
     "metadata": {},
     "output_type": "display_data"
    },
    {
     "name": "stdout",
     "output_type": "stream",
     "text": [
      "60 20 20\n"
     ]
    }
   ],
   "source": [
    "col='resource'\n",
    "o=PPObj(log,procs=Categorify(),cat_names=col,y_names=col,splits=split_traces(log))\n",
    "o.show()\n",
    "print(len(splits[0]), len(splits[1]), len(splits[2]))"
   ]
  },
  {
   "cell_type": "code",
   "execution_count": null,
   "metadata": {
    "colab": {
     "base_uri": "https://localhost:8080/"
    },
    "id": "miNd4-FK2-Cv",
    "outputId": "11575a1d-b223-44fc-f581-ec42348b4f5a"
   },
   "outputs": [
    {
     "name": "stdout",
     "output_type": "stream",
     "text": [
      "2416\n"
     ]
    },
    {
     "data": {
      "text/plain": [
       "(torch.Size([64, 64]), torch.Size([64]))"
      ]
     },
     "execution_count": 88,
     "metadata": {},
     "output_type": "execute_result"
    }
   ],
   "source": [
    "dls=o.get_dls()\n",
    "print(len(dls[0]))\n",
    "xb,yb=dls.one_batch()\n",
    "xb.shape,yb.shape"
   ]
  },
  {
   "cell_type": "code",
   "execution_count": null,
   "metadata": {
    "colab": {
     "base_uri": "https://localhost:8080/"
    },
    "id": "a2Zx1FyO2-Cw",
    "outputId": "c571d910-32fc-4a35-e357-979e565a8390"
   },
   "outputs": [
    {
     "data": {
      "text/plain": [
       "tensor([ 0,  0,  0,  0,  0,  0,  0,  0,  0,  0,  0,  0,  0,  0,  0,  0,  0,  0,\n",
       "         0,  0,  0,  0,  0,  0,  0,  0,  0,  0,  0,  0,  0,  0,  0,  0,  0,  0,\n",
       "         0,  0,  0,  0,  0,  0,  0,  0,  0,  0,  0,  0,  0,  0,  0,  0,  0,  0,\n",
       "         0,  0,  0,  0,  0,  0, 12,  3,  3,  3])"
      ]
     },
     "execution_count": 96,
     "metadata": {},
     "output_type": "execute_result"
    }
   ],
   "source": [
    "xb[0]"
   ]
  },
  {
   "cell_type": "code",
   "execution_count": null,
   "metadata": {
    "colab": {
     "base_uri": "https://localhost:8080/"
    },
    "id": "7vFNibt82-Cw",
    "outputId": "392e2d8f-ede4-45fd-f491-c53419102f0e"
   },
   "outputs": [
    {
     "data": {
      "text/plain": [
       "23"
      ]
     },
     "execution_count": 97,
     "metadata": {},
     "output_type": "execute_result"
    }
   ],
   "source": [
    "len(o.procs.categorify[col])"
   ]
  },
  {
   "cell_type": "code",
   "execution_count": null,
   "metadata": {
    "id": "UEv_HRPe2-Cw"
   },
   "outputs": [],
   "source": [
    "#export\n",
    "class RNNwEmbedding(torch.nn.Module) :\n",
    "    def __init__(self,o) :\n",
    "        super().__init__()\n",
    "        vocab_size=len(o.procs.categorify[o.y_names[0]])\n",
    "        emb_size = int(sqrt(vocab_size))+1\n",
    "        hidden_six = 20\n",
    "        self.emb = nn.Embedding(vocab_size,emb_size)\n",
    "\n",
    "        self.rnn = nn.RNN(emb_size, hidden_six, batch_first=True, num_layers=2)\n",
    "\n",
    "        self.linear = nn.Linear(hidden_six, vocab_size)\n",
    "\n",
    "    def forward(self, x):\n",
    "        x = self.emb(x)\n",
    "        x,_ = self.rnn(x)\n",
    "        x = x[:,-1]\n",
    "        x = self.linear(x)\n",
    "        x = F.softmax(x,dim=1)\n",
    "        return x"
   ]
  },
  {
   "cell_type": "code",
   "execution_count": null,
   "metadata": {
    "id": "ExALa6Dh2-Cw"
   },
   "outputs": [],
   "source": [
    "m=RNNwEmbedding(o)\n",
    "p=m(xb)"
   ]
  },
  {
   "cell_type": "code",
   "execution_count": null,
   "metadata": {
    "id": "a92VPpcp2-Cw"
   },
   "outputs": [],
   "source": [
    "#export\n",
    "class HideOutput:\n",
    "    'A utility function that hides all outputs in a context'\n",
    "    def __enter__(self):\n",
    "        self._original_stdout = sys.stdout\n",
    "        sys.stdout = open(os.devnull, 'w')\n",
    "\n",
    "    def __exit__(self, exc_type, exc_val, exc_tb):\n",
    "        sys.stdout.close()\n",
    "        sys.stdout = self._original_stdout"
   ]
  },
  {
   "cell_type": "code",
   "execution_count": null,
   "metadata": {
    "id": "vF_XfuVo2-Cw"
   },
   "outputs": [],
   "source": [
    "#export\n",
    "def training_loop(learn,epoch,print_output,lr_find):\n",
    "    '''\n",
    "    Basic training loop that uses learning rate finder and one cycle training. \n",
    "    See fastai docs for more information\n",
    "    '''\n",
    "    if lr_find:\n",
    "        lr=np.median([learn.lr_find(show_plot=print_output)[0] for i in range(5)])\n",
    "        learn.fit_one_cycle(epoch,float(lr))\n",
    "    else: learn.fit(epoch,0.01)"
   ]
  },
  {
   "cell_type": "code",
   "execution_count": null,
   "metadata": {
    "id": "hzSDXqZF2-Cw"
   },
   "outputs": [],
   "source": [
    "#export\n",
    "from fastai.imports import *\n",
    "from torch import cuda\n",
    "device = 'cuda' if cuda.is_available() else 'cpu'\n",
    "\n",
    "\n",
    "def train_validate(dls,m,metrics=accuracy,loss=F.cross_entropy,epoch=20,print_output=True,model_dir=\".\",lr_find=True,\n",
    "                   output_index=1,patience=3,min_delta=0.005,show_plot=True,store_path='tmp',model_name='.model'):\n",
    "    '''\n",
    "    Trains a model on the training set with early stopping based on the validation loss.\n",
    "    Afterwards, applies it to the test set.\n",
    "    '''\n",
    "    cbs = [EarlyStoppingCallback(monitor='valid_loss',min_delta=min_delta, patience=patience),\n",
    "      SaveModelCallback(fname=model_name)\n",
    "      ]\n",
    "    learn=Learner(dls, m, path=store_path, model_dir=model_dir, loss_func=loss ,metrics=metrics,cbs=cbs)\n",
    "\n",
    "    if print_output:\n",
    "        training_loop(learn,epoch,show_plot,lr_find=lr_find)\n",
    "        print('validation')\n",
    "        temp=learn.validate(dl=dls[2])#[output_index]\n",
    "        preds, actual = learn.get_preds(dl=dls[2])\n",
    "        return preds, actual\n",
    "    else:\n",
    "        with HideOutput(),learn.no_bar(),learn.no_logging():\n",
    "            training_loop(learn,epoch,show_plot,lr_find=lr_find)\n",
    "            temp = learn.validate(dl=dls[2])[output_index]\n",
    "            preds, actual = learn.get_preds(dl=dls[2])\n",
    "            return preds, actual"
   ]
  },
  {
   "cell_type": "code",
   "execution_count": null,
   "metadata": {
    "colab": {
     "base_uri": "https://localhost:8080/"
    },
    "id": "JmV6vsn82-Cx",
    "outputId": "bc02afe9-6630-4598-9137-51c9a63c32ea"
   },
   "outputs": [
    {
     "name": "stdout",
     "output_type": "stream",
     "text": [
      "659\n",
      "64\n"
     ]
    }
   ],
   "source": [
    "#from sklearn.metrics import confusion_matrix\n",
    "from sklearn.metrics import confusion_matrix, ConfusionMatrixDisplay\n",
    "log=import_log(EventLogs.BPIC_12)\n",
    "cols,outcome='activity',False\n",
    "o=PPObj(log,procs=Categorify(),cat_names=cols,y_names=cols,splits=split_traces(log))\n",
    "olabels = list(o.classmaps['activity'].values())\n",
    "dls=o.get_dls(outcome=outcome,windows=partial(subsequences_fast,min_ws=0))\n",
    "print(len(dls[2]))\n",
    "xcat,y =dls[2].one_batch()\n",
    "plen =  torch.count_nonzero(xcat, dim=1)\n",
    "print( len(plen))\n",
    "\n",
    "#cm = confusion_matrix(actual, predicted)\n",
    "#disp = ConfusionMatrixDisplay(confusion_matrix=cm, display_labels=olabels)\n",
    "#disp.plot()\n",
    "#plt.show()"
   ]
  },
  {
   "cell_type": "code",
   "execution_count": null,
   "metadata": {
    "colab": {
     "base_uri": "https://localhost:8080/",
     "height": 1000
    },
    "id": "CwbX35kp88iy",
    "outputId": "fa819c38-78d8-4a5d-9d82-e4f5fa5cb1c2"
   },
   "outputs": [
    {
     "data": {
      "text/html": [],
      "text/plain": [
       "<IPython.core.display.HTML object>"
      ]
     },
     "metadata": {},
     "output_type": "display_data"
    },
    {
     "data": {
      "text/html": [],
      "text/plain": [
       "<IPython.core.display.HTML object>"
      ]
     },
     "metadata": {},
     "output_type": "display_data"
    },
    {
     "data": {
      "text/html": [],
      "text/plain": [
       "<IPython.core.display.HTML object>"
      ]
     },
     "metadata": {},
     "output_type": "display_data"
    },
    {
     "data": {
      "text/html": [],
      "text/plain": [
       "<IPython.core.display.HTML object>"
      ]
     },
     "metadata": {},
     "output_type": "display_data"
    },
    {
     "data": {
      "text/html": [],
      "text/plain": [
       "<IPython.core.display.HTML object>"
      ]
     },
     "metadata": {},
     "output_type": "display_data"
    },
    {
     "data": {
      "text/html": [
       "<table border=\"1\" class=\"dataframe\">\n",
       "  <thead>\n",
       "    <tr style=\"text-align: left;\">\n",
       "      <th>epoch</th>\n",
       "      <th>train_loss</th>\n",
       "      <th>valid_loss</th>\n",
       "      <th>accuracy</th>\n",
       "      <th>time</th>\n",
       "    </tr>\n",
       "  </thead>\n",
       "  <tbody>\n",
       "    <tr>\n",
       "      <td>0</td>\n",
       "      <td>2.824809</td>\n",
       "      <td>2.819656</td>\n",
       "      <td>0.810726</td>\n",
       "      <td>01:01</td>\n",
       "    </tr>\n",
       "    <tr>\n",
       "      <td>1</td>\n",
       "      <td>2.819599</td>\n",
       "      <td>2.815983</td>\n",
       "      <td>0.813741</td>\n",
       "      <td>01:15</td>\n",
       "    </tr>\n",
       "  </tbody>\n",
       "</table>"
      ],
      "text/plain": [
       "<IPython.core.display.HTML object>"
      ]
     },
     "metadata": {},
     "output_type": "display_data"
    },
    {
     "name": "stdout",
     "output_type": "stream",
     "text": [
      "Better model found at epoch 0 with valid_loss value: 2.8196561336517334.\n",
      "Better model found at epoch 1 with valid_loss value: 2.8159825801849365.\n"
     ]
    },
    {
     "data": {
      "text/html": [],
      "text/plain": [
       "<IPython.core.display.HTML object>"
      ]
     },
     "metadata": {},
     "output_type": "display_data"
    },
    {
     "name": "stdout",
     "output_type": "stream",
     "text": [
      "Better model found at epoch 0 with valid_loss value: 0.8126245141029358.\n"
     ]
    },
    {
     "data": {
      "text/html": [],
      "text/plain": [
       "<IPython.core.display.HTML object>"
      ]
     },
     "metadata": {},
     "output_type": "display_data"
    },
    {
     "data": {
      "image/png": "[encoded data removed]",
      "text/plain": [
       "<Figure size 432x288 with 1 Axes>"
      ]
     },
     "metadata": {
      "needs_background": "light"
     },
     "output_type": "display_data"
    },
    {
     "data": {
      "image/png": "[encoded data removed]",
      "text/plain": [
       "<Figure size 432x288 with 1 Axes>"
      ]
     },
     "metadata": {
      "needs_background": "light"
     },
     "output_type": "display_data"
    },
    {
     "data": {
      "image/png": "[encoded data removed]",
      "text/plain": [
       "<Figure size 432x288 with 1 Axes>"
      ]
     },
     "metadata": {
      "needs_background": "light"
     },
     "output_type": "display_data"
    },
    {
     "data": {
      "image/png": "[encoded data removed]",
      "text/plain": [
       "<Figure size 432x288 with 1 Axes>"
      ]
     },
     "metadata": {
      "needs_background": "light"
     },
     "output_type": "display_data"
    },
    {
     "data": {
      "image/png": "[encoded data removed]",
      "text/plain": [
       "<Figure size 432x288 with 1 Axes>"
      ]
     },
     "metadata": {
      "needs_background": "light"
     },
     "output_type": "display_data"
    }
   ],
   "source": [
    "m=RNNwEmbedding(o)\n",
    "preds, actual = train_validate(dls,m,epoch=2)\n",
    "predicted = torch.argmax(preds, dim=1)\n",
    "actual = actual.detach().cpu().numpy()\n",
    "predicted = predicted.detach().cpu().numpy()"
   ]
  },
  {
   "cell_type": "code",
   "execution_count": null,
   "metadata": {
    "colab": {
     "base_uri": "https://localhost:8080/"
    },
    "id": "TT7737AG6KQf",
    "outputId": "e315a32e-f46e-4280-d70b-e979c135c9b6"
   },
   "outputs": [
    {
     "name": "stdout",
     "output_type": "stream",
     "text": [
      "[[   0    0    0 ...    0    0    0]\n",
      " [   0    0    0 ...  139    0   79]\n",
      " [   0    0    0 ...  180    0   18]\n",
      " ...\n",
      " [   0    0    0 ... 1040    0    3]\n",
      " [   0    0    0 ...    0    0    4]\n",
      " [   0    0    0 ...    1    0  634]]\n",
      "{'activity': {0: 'A_ACCEPTED_COMPLETE', 1: 'A_ACTIVATED_COMPLETE', 2: 'A_APPROVED_COMPLETE', 3: 'A_CANCELLED_COMPLETE', 4: 'A_DECLINED_COMPLETE', 5: 'A_FINALIZED_COMPLETE', 6: 'A_PARTLYSUBMITTED_COMPLETE', 7: 'A_PREACCEPTED_COMPLETE', 8: 'A_REGISTERED_COMPLETE', 9: 'A_SUBMITTED_COMPLETE', 10: 'O_ACCEPTED_COMPLETE', 11: 'O_CANCELLED_COMPLETE', 12: 'O_CREATED_COMPLETE', 13: 'O_DECLINED_COMPLETE', 14: 'O_SELECTED_COMPLETE', 15: 'O_SENT_BACK_COMPLETE', 16: 'O_SENT_COMPLETE', 17: 'W_Afhandelen leads_COMPLETE', 18: 'W_Afhandelen leads_SCHEDULE', 19: 'W_Afhandelen leads_START', 20: 'W_Beoordelen fraude_COMPLETE', 21: 'W_Beoordelen fraude_SCHEDULE', 22: 'W_Beoordelen fraude_START', 23: 'W_Completeren aanvraag_COMPLETE', 24: 'W_Completeren aanvraag_SCHEDULE', 25: 'W_Completeren aanvraag_START', 26: 'W_Nabellen incomplete dossiers_COMPLETE', 27: 'W_Nabellen incomplete dossiers_SCHEDULE', 28: 'W_Nabellen incomplete dossiers_START', 29: 'W_Nabellen offertes_COMPLETE', 30: 'W_Nabellen offertes_SCHEDULE', 31: 'W_Nabellen offertes_START', 32: 'W_Valideren aanvraag_COMPLETE', 33: 'W_Valideren aanvraag_SCHEDULE', 34: 'W_Valideren aanvraag_START', 35: 'W_Wijzigen contractgegevens_SCHEDULE'}}\n",
      "              precision    recall  f1-score   support\n",
      "\n",
      "           0     0.0000    0.0000    0.0000       927\n",
      "           1     0.0000    0.0000    0.0000       378\n",
      "           2     0.0000    0.0000    0.0000       378\n",
      "           3     0.9885    0.1533    0.2654       561\n",
      "           4     0.0000    0.0000    0.0000      1517\n",
      "           5     0.9944    0.5810    0.7334       914\n",
      "           6     1.0000    1.0000    1.0000      2531\n",
      "           7     0.3637    0.9993    0.5333      1374\n",
      "           8     0.3143    0.5106    0.3891       378\n",
      "          10     0.0000    0.0000    0.0000       377\n",
      "          11     0.2275    0.5276    0.3179       580\n",
      "          12     0.9992    1.0000    0.9996      1177\n",
      "          13     0.0000    0.0000    0.0000       158\n",
      "          14     0.6722    0.8921    0.7667      1177\n",
      "          15     0.0000    0.0000    0.0000       572\n",
      "          16     0.9616    1.0000    0.9804      1177\n",
      "          17     0.9741    0.7921    0.8737      1140\n",
      "          18     0.0000    0.0000    0.0000       906\n",
      "          19     0.8794    0.9982    0.9351      1140\n",
      "          20     0.0000    0.0000    0.0000        70\n",
      "          21     0.0000    0.0000    0.0000        26\n",
      "          22     0.0000    0.0000    0.0000        70\n",
      "          23     0.7708    0.9777    0.8620      4403\n",
      "          24     0.9758    0.9985    0.9871      1375\n",
      "          25     0.9791    0.9995    0.9892      4311\n",
      "          26     0.7143    0.9914    0.8303      1049\n",
      "          27     0.0000    0.0000    0.0000       267\n",
      "          28     0.9887    1.0000    0.9943      1046\n",
      "          29     0.7878    0.9755    0.8716      3999\n",
      "          30     0.9737    1.0000    0.9867      1146\n",
      "          31     0.9446    0.9997    0.9714      3886\n",
      "          32     0.4817    0.8739    0.6211      1190\n",
      "          33     0.0000    0.0000    0.0000       767\n",
      "          34     0.8160    0.5332    0.6450      1189\n",
      "\n",
      "    accuracy                         0.7862     42156\n",
      "   macro avg     0.4943    0.5236    0.4869     42156\n",
      "weighted avg     0.7158    0.7862    0.7338     42156\n",
      "\n"
     ]
    },
    {
     "name": "stderr",
     "output_type": "stream",
     "text": [
      "/usr/local/lib/python3.7/dist-packages/sklearn/metrics/_classification.py:1308: UndefinedMetricWarning: Precision and F-score are ill-defined and being set to 0.0 in labels with no predicted samples. Use `zero_division` parameter to control this behavior.\n",
      "  _warn_prf(average, modifier, msg_start, len(result))\n",
      "/usr/local/lib/python3.7/dist-packages/sklearn/metrics/_classification.py:1308: UndefinedMetricWarning: Precision and F-score are ill-defined and being set to 0.0 in labels with no predicted samples. Use `zero_division` parameter to control this behavior.\n",
      "  _warn_prf(average, modifier, msg_start, len(result))\n",
      "/usr/local/lib/python3.7/dist-packages/sklearn/metrics/_classification.py:1308: UndefinedMetricWarning: Precision and F-score are ill-defined and being set to 0.0 in labels with no predicted samples. Use `zero_division` parameter to control this behavior.\n",
      "  _warn_prf(average, modifier, msg_start, len(result))\n"
     ]
    }
   ],
   "source": [
    "from sklearn.metrics import classification_report\n",
    "print(cm)\n",
    "print(o.classmaps)\n",
    "print(classification_report(actual, predicted,digits=4))"
   ]
  },
  {
   "cell_type": "markdown",
   "metadata": {
    "heading_collapsed": true,
    "id": "doy2mP2z2-Cx"
   },
   "source": [
    "## Process Prediction Model"
   ]
  },
  {
   "cell_type": "markdown",
   "metadata": {
    "hidden": true,
    "id": "tIQey2QS2-Cx"
   },
   "source": [
    "The `PPModel` class creates multiple prediction models for next-step prediction, next-resource prediction, remaining time prediction, etc. based on a pytorch model architecture."
   ]
  },
  {
   "cell_type": "code",
   "execution_count": null,
   "metadata": {
    "hidden": true,
    "id": "4eqkOeF02-Cx"
   },
   "outputs": [],
   "source": [
    "#export\n",
    "\n",
    "# Todo: Add Logging\n",
    "class PPModel():\n",
    "\n",
    "    def __init__(self,log,ds_name,splits,store=None,bs=64,print_output=True,patience=3,min_delta=0.005,\n",
    "                 attr_dict=None,windows=partial(subsequences_fast,min_ws=0),epoch=20,sample=False,\n",
    "                 train_validate=train_validate):\n",
    "        store_attr('log,ds_name,splits,attr_dict,windows,epoch,bs,print_output,min_delta,patience,store')\n",
    "        self.lr_find=True\n",
    "        if sample:\n",
    "            self.lr_find=False\n",
    "            print(self.splits[0])\n",
    "            traces=self.splits[0]\n",
    "            self.splits=traces[:60],traces[60:80],traces[80:100]\n",
    "            print(self.splits[0])\n",
    "            self.bs=64\n",
    "            self.epoch=1\n",
    "\n",
    "    def evaluate(self):\n",
    "        if not self.print_output:\n",
    "            with HideOutput(): return self.__evaluate()\n",
    "        else: return self.__evaluate()\n",
    "    def __evaluate(self):\n",
    "        print(self.ds_name,self.get_name())\n",
    "        self.setup()\n",
    "\n",
    "        print('next_step_prediction')\n",
    "        nsp=self.next_step_prediction()\n",
    "\n",
    "        print('next_resource_prediction')\n",
    "        nrp=self.next_resource_prediction()\n",
    "\n",
    "        print('last_resource_prediction')\n",
    "        lrp=self.last_resource_prediction()\n",
    "\n",
    "        print('outcome_prediction')\n",
    "        op=self.outcome_prediction()\n",
    "\n",
    "        print('duration_to_next_event_prediction')\n",
    "        dtnep=self.duration_to_next_event_prediction()\n",
    "\n",
    "        print('duration_to_end_prediction')\n",
    "        dtep=self.duration_to_end_prediction()\n",
    "\n",
    "        print('activity_suffix_prediction')\n",
    "        asp=self.activity_suffix_prediction()\n",
    "\n",
    "        print('resource_suffix_prediction')\n",
    "        rsp=self.resource_suffix_prediction()\n",
    "\n",
    "        return nsp, nrp, lrp, op, dtnep, dtep, asp, rsp\n",
    "\n",
    "    def _train_validate(self,dls,m,metrics=accuracy,loss=F.cross_entropy,output_index=1):\n",
    "        store,model_name='tmp','.model'\n",
    "        if self.store:\n",
    "            ins_stack=inspect.stack()\n",
    "            model_name=str(ins_stack[2][3]) if str(ins_stack[2][3])!='__evaluate' else str(ins_stack[1][3])\n",
    "            store=self.store/self.ds_name/self.get_name()\n",
    "        return train_validate(dls,m,metrics=metrics,loss=loss,output_index=output_index, #Only change these\n",
    "                              epoch=self.epoch,print_output=self.print_output,patience=self.patience,\n",
    "                              min_delta=self.min_delta,show_plot=False,store_path=store,model_name=model_name,\n",
    "                              lr_find=self.lr_find)\n",
    "    def setup(self): pass\n",
    "    def get_name(self): return self.__class__.__name__.replace('PPM_',\"\")\n",
    "    def next_step_prediction(self): pass\n",
    "    def next_resource_prediction(self): pass\n",
    "    def last_resource_prediction(self): pass\n",
    "    def outcome_prediction(self): pass\n",
    "    def duration_to_next_event_prediction(self): pass\n",
    "    def duration_to_end_prediction(self): pass\n",
    "    def activity_suffix_prediction(self): pass\n",
    "    def resource_suffix_prediction(self): pass"
   ]
  },
  {
   "cell_type": "code",
   "execution_count": null,
   "metadata": {
    "hidden": true,
    "id": "oRkVb_i52-Cx"
   },
   "outputs": [],
   "source": [
    "#export\n",
    "def get_ds_name(url): return(str(url).split('/')[-1]) # Utility function, that gets the name of a dataset"
   ]
  },
  {
   "cell_type": "code",
   "execution_count": null,
   "metadata": {
    "hidden": true,
    "id": "32-BM-MC2-Cx"
   },
   "outputs": [],
   "source": [
    "#export\n",
    "class PPM_RNNwEmbedding(PPModel):\n",
    "    'Sampe PPM based on RNNwEmbedding'\n",
    "    model=RNNwEmbedding\n",
    "\n",
    "    def next_step_prediction(self,outcome=False,col='activity'):\n",
    "        o=PPObj(self.log,procs=Categorify(),cat_names=col,y_names=col,splits=self.splits)\n",
    "        dls=o.get_dls(outcome=outcome,bs=self.bs,windows=self.windows)\n",
    "        m=self.model(o)\n",
    "        pred, actual = self._train_validate(dls,m)\n",
    "\n",
    "        return pred, actual, o.classmaps\n",
    "\n",
    "    def next_resource_prediction(self): return self.next_step_prediction(col='resource')\n",
    "    def last_resource_prediction(self): return self.next_step_prediction(col='resource',outcome=True)\n",
    "    def outcome_prediction(self): return self.next_step_prediction(outcome=True)"
   ]
  },
  {
   "cell_type": "code",
   "execution_count": null,
   "metadata": {
    "hidden": true,
    "id": "m89No1yG2-Cx"
   },
   "outputs": [],
   "source": [
    "path=EventLogs.BPIC_12\n",
    "log=import_log(path)\n",
    "ds_name=get_ds_name(path)\n",
    "splits=split_traces(log)\n"
   ]
  },
  {
   "cell_type": "code",
   "execution_count": null,
   "metadata": {
    "colab": {
     "base_uri": "https://localhost:8080/",
     "height": 487
    },
    "hidden": true,
    "id": "Fb6Gn7Gw2-Cx",
    "outputId": "58e874ba-8c1c-45e8-a077-545db1bd5542"
   },
   "outputs": [
    {
     "data": {
      "text/html": [],
      "text/plain": [
       "<IPython.core.display.HTML object>"
      ]
     },
     "metadata": {},
     "output_type": "display_data"
    },
    {
     "data": {
      "text/html": [],
      "text/plain": [
       "<IPython.core.display.HTML object>"
      ]
     },
     "metadata": {},
     "output_type": "display_data"
    },
    {
     "data": {
      "text/html": [],
      "text/plain": [
       "<IPython.core.display.HTML object>"
      ]
     },
     "metadata": {},
     "output_type": "display_data"
    },
    {
     "data": {
      "text/html": [],
      "text/plain": [
       "<IPython.core.display.HTML object>"
      ]
     },
     "metadata": {},
     "output_type": "display_data"
    },
    {
     "data": {
      "text/html": [],
      "text/plain": [
       "<IPython.core.display.HTML object>"
      ]
     },
     "metadata": {},
     "output_type": "display_data"
    },
    {
     "data": {
      "text/html": [
       "<table border=\"1\" class=\"dataframe\">\n",
       "  <thead>\n",
       "    <tr style=\"text-align: left;\">\n",
       "      <th>epoch</th>\n",
       "      <th>train_loss</th>\n",
       "      <th>valid_loss</th>\n",
       "      <th>accuracy</th>\n",
       "      <th>time</th>\n",
       "    </tr>\n",
       "  </thead>\n",
       "  <tbody>\n",
       "    <tr>\n",
       "      <td>0</td>\n",
       "      <td>2.853785</td>\n",
       "      <td>2.864065</td>\n",
       "      <td>0.766037</td>\n",
       "      <td>00:57</td>\n",
       "    </tr>\n",
       "    <tr>\n",
       "      <td>1</td>\n",
       "      <td>2.833877</td>\n",
       "      <td>2.839828</td>\n",
       "      <td>0.790875</td>\n",
       "      <td>01:00</td>\n",
       "    </tr>\n",
       "    <tr>\n",
       "      <td>2</td>\n",
       "      <td>2.816023</td>\n",
       "      <td>2.828607</td>\n",
       "      <td>0.801656</td>\n",
       "      <td>01:02</td>\n",
       "    </tr>\n",
       "    <tr>\n",
       "      <td>3</td>\n",
       "      <td>2.826727</td>\n",
       "      <td>2.824105</td>\n",
       "      <td>0.806004</td>\n",
       "      <td>01:01</td>\n",
       "    </tr>\n",
       "    <tr>\n",
       "      <td>4</td>\n",
       "      <td>2.818615</td>\n",
       "      <td>2.823107</td>\n",
       "      <td>0.807016</td>\n",
       "      <td>01:01</td>\n",
       "    </tr>\n",
       "  </tbody>\n",
       "</table>"
      ],
      "text/plain": [
       "<IPython.core.display.HTML object>"
      ]
     },
     "metadata": {},
     "output_type": "display_data"
    },
    {
     "name": "stdout",
     "output_type": "stream",
     "text": [
      "Better model found at epoch 0 with valid_loss value: 2.8640646934509277.\n",
      "Better model found at epoch 1 with valid_loss value: 2.8398284912109375.\n",
      "Better model found at epoch 2 with valid_loss value: 2.8286073207855225.\n",
      "Better model found at epoch 3 with valid_loss value: 2.8241050243377686.\n",
      "Better model found at epoch 4 with valid_loss value: 2.8231070041656494.\n",
      "validation\n"
     ]
    },
    {
     "data": {
      "text/html": [],
      "text/plain": [
       "<IPython.core.display.HTML object>"
      ]
     },
     "metadata": {},
     "output_type": "display_data"
    },
    {
     "name": "stdout",
     "output_type": "stream",
     "text": [
      "Better model found at epoch 0 with valid_loss value: 0.8099914789199829.\n"
     ]
    },
    {
     "data": {
      "text/html": [],
      "text/plain": [
       "<IPython.core.display.HTML object>"
      ]
     },
     "metadata": {},
     "output_type": "display_data"
    },
    {
     "name": "stdout",
     "output_type": "stream",
     "text": [
      "torch.Size([42156, 36]) {'activity': {0: 'A_ACCEPTED_COMPLETE', 1: 'A_ACTIVATED_COMPLETE', 2: 'A_APPROVED_COMPLETE', 3: 'A_CANCELLED_COMPLETE', 4: 'A_DECLINED_COMPLETE', 5: 'A_FINALIZED_COMPLETE', 6: 'A_PARTLYSUBMITTED_COMPLETE', 7: 'A_PREACCEPTED_COMPLETE', 8: 'A_REGISTERED_COMPLETE', 9: 'A_SUBMITTED_COMPLETE', 10: 'O_ACCEPTED_COMPLETE', 11: 'O_CANCELLED_COMPLETE', 12: 'O_CREATED_COMPLETE', 13: 'O_DECLINED_COMPLETE', 14: 'O_SELECTED_COMPLETE', 15: 'O_SENT_BACK_COMPLETE', 16: 'O_SENT_COMPLETE', 17: 'W_Afhandelen leads_COMPLETE', 18: 'W_Afhandelen leads_SCHEDULE', 19: 'W_Afhandelen leads_START', 20: 'W_Beoordelen fraude_COMPLETE', 21: 'W_Beoordelen fraude_SCHEDULE', 22: 'W_Beoordelen fraude_START', 23: 'W_Completeren aanvraag_COMPLETE', 24: 'W_Completeren aanvraag_SCHEDULE', 25: 'W_Completeren aanvraag_START', 26: 'W_Nabellen incomplete dossiers_COMPLETE', 27: 'W_Nabellen incomplete dossiers_SCHEDULE', 28: 'W_Nabellen incomplete dossiers_START', 29: 'W_Nabellen offertes_COMPLETE', 30: 'W_Nabellen offertes_SCHEDULE', 31: 'W_Nabellen offertes_START', 32: 'W_Valideren aanvraag_COMPLETE', 33: 'W_Valideren aanvraag_SCHEDULE', 34: 'W_Valideren aanvraag_START', 35: 'W_Wijzigen contractgegevens_SCHEDULE'}}\n",
      "{'0': {'precision': 0.0, 'recall': 0.0, 'f1-score': 0.0, 'support': 927}, '1': {'precision': 0.5492610837438424, 'recall': 0.58994708994709, 'f1-score': 0.5688775510204083, 'support': 378}, '2': {'precision': 0.5389105058365758, 'recall': 0.7328042328042328, 'f1-score': 0.6210762331838564, 'support': 378}, '3': {'precision': 0.7868852459016393, 'recall': 0.3422459893048128, 'f1-score': 0.4770186335403726, 'support': 561}, '4': {'precision': 0.0, 'recall': 0.0, 'f1-score': 0.0, 'support': 1517}, '5': {'precision': 0.6235455167693361, 'recall': 0.9967177242888403, 'f1-score': 0.767157894736842, 'support': 914}, '6': {'precision': 1.0, 'recall': 1.0, 'f1-score': 1.0, 'support': 2531}, '7': {'precision': 0.37095032397408206, 'recall': 1.0, 'f1-score': 0.5411579361953525, 'support': 1374}, '8': {'precision': 0.3326226012793177, 'recall': 0.4126984126984127, 'f1-score': 0.36835891381345925, 'support': 378}, '10': {'precision': 0.0, 'recall': 0.0, 'f1-score': 0.0, 'support': 377}, '11': {'precision': 0.9466666666666667, 'recall': 0.4896551724137931, 'f1-score': 0.6454545454545454, 'support': 580}, '12': {'precision': 1.0, 'recall': 1.0, 'f1-score': 1.0, 'support': 1177}, '13': {'precision': 0.0, 'recall': 0.0, 'f1-score': 0.0, 'support': 158}, '14': {'precision': 0.8507462686567164, 'recall': 0.4358538657604078, 'f1-score': 0.5764044943820225, 'support': 1177}, '15': {'precision': 0.0, 'recall': 0.0, 'f1-score': 0.0, 'support': 572}, '16': {'precision': 1.0, 'recall': 1.0, 'f1-score': 1.0, 'support': 1177}, '17': {'precision': 0.9402985074626866, 'recall': 0.3868421052631579, 'f1-score': 0.54816656308266, 'support': 1140}, '18': {'precision': 0.0, 'recall': 0.0, 'f1-score': 0.0, 'support': 906}, '19': {'precision': 0.966893039049236, 'recall': 0.9991228070175439, 'f1-score': 0.9827437446074201, 'support': 1140}, '20': {'precision': 0.0, 'recall': 0.0, 'f1-score': 0.0, 'support': 70}, '21': {'precision': 0.0, 'recall': 0.0, 'f1-score': 0.0, 'support': 26}, '22': {'precision': 0.0, 'recall': 0.0, 'f1-score': 0.0, 'support': 70}, '23': {'precision': 0.7709527220630372, 'recall': 0.9777424483306836, 'f1-score': 0.8621207569840793, 'support': 4403}, '24': {'precision': 1.0, 'recall': 0.9992727272727273, 'f1-score': 0.9996362313568571, 'support': 1375}, '25': {'precision': 0.8855322646937936, 'recall': 0.9995360705172813, 'f1-score': 0.9390868475536668, 'support': 4311}, '26': {'precision': 0.7473776223776224, 'recall': 0.8150619637750238, 'f1-score': 0.7797537619699041, 'support': 1049}, '27': {'precision': 0.0, 'recall': 0.0, 'f1-score': 0.0, 'support': 267}, '28': {'precision': 0.9971401334604385, 'recall': 1.0, 'f1-score': 0.9985680190930787, 'support': 1046}, '29': {'precision': 0.7912848706984321, 'recall': 0.9717429357339334, 'f1-score': 0.8722783389450057, 'support': 3999}, '30': {'precision': 0.973661852166525, 'recall': 1.0, 'f1-score': 0.9866551872578562, 'support': 1146}, '31': {'precision': 0.9707646176911544, 'recall': 0.9997426659804426, 'f1-score': 0.9850405679513186, 'support': 3886}, '32': {'precision': 0.586053412462908, 'recall': 0.9957983193277311, 'f1-score': 0.7378580323785803, 'support': 1190}, '33': {'precision': 1.0, 'recall': 0.7457627118644068, 'f1-score': 0.8543689320388349, 'support': 767}, '34': {'precision': 0.972176759410802, 'recall': 0.9991589571068125, 'f1-score': 0.9854832019908752, 'support': 1189}, 'accuracy': 0.8099914602903501, 'macro avg': {'precision': 0.5765212945401416, 'recall': 0.584991358806098, 'f1-score': 0.561684305515794, 'support': 42156}, 'weighted avg': {'precision': 0.7532645983703106, 'recall': 0.8099914602903501, 'f1-score': 0.7642471850098156, 'support': 42156}}\n"
     ]
    },
    {
     "name": "stderr",
     "output_type": "stream",
     "text": [
      "/usr/local/lib/python3.7/dist-packages/sklearn/metrics/_classification.py:1308: UndefinedMetricWarning: Precision and F-score are ill-defined and being set to 0.0 in labels with no predicted samples. Use `zero_division` parameter to control this behavior.\n",
      "  _warn_prf(average, modifier, msg_start, len(result))\n",
      "/usr/local/lib/python3.7/dist-packages/sklearn/metrics/_classification.py:1308: UndefinedMetricWarning: Precision and F-score are ill-defined and being set to 0.0 in labels with no predicted samples. Use `zero_division` parameter to control this behavior.\n",
      "  _warn_prf(average, modifier, msg_start, len(result))\n",
      "/usr/local/lib/python3.7/dist-packages/sklearn/metrics/_classification.py:1308: UndefinedMetricWarning: Precision and F-score are ill-defined and being set to 0.0 in labels with no predicted samples. Use `zero_division` parameter to control this behavior.\n",
      "  _warn_prf(average, modifier, msg_start, len(result))\n"
     ]
    }
   ],
   "source": [
    "from sklearn.metrics import classification_report\n",
    "ppm=PPM_RNNwEmbedding(log,ds_name,splits,epoch=5)\n",
    "preds, actual, clsnames  = ppm.next_step_prediction()\n",
    "print(preds.shape, clsnames)\n",
    "predicted = torch.argmax(preds, dim=1)\n",
    "actual = actual.detach().cpu().numpy()\n",
    "predicted = predicted.detach().cpu().numpy()\n",
    "cls_report = classification_report(actual, predicted, output_dict=True)\n",
    "print(cls_report)\n",
    "\n"
   ]
  },
  {
   "cell_type": "code",
   "execution_count": null,
   "metadata": {
    "colab": {
     "base_uri": "https://localhost:8080/",
     "height": 1000
    },
    "id": "IaZWg975_oKR",
    "outputId": "d3b208d1-2ffa-4249-9b07-727d46f54543"
   },
   "outputs": [
    {
     "name": "stdout",
     "output_type": "stream",
     "text": [
      "42156\n"
     ]
    },
    {
     "data": {
      "text/html": [
       "<div>\n",
       "<style scoped>\n",
       "    .dataframe tbody tr th:only-of-type {\n",
       "        vertical-align: middle;\n",
       "    }\n",
       "\n",
       "    .dataframe tbody tr th {\n",
       "        vertical-align: top;\n",
       "    }\n",
       "\n",
       "    .dataframe thead th {\n",
       "        text-align: right;\n",
       "    }\n",
       "</style>\n",
       "<table border=\"1\" class=\"dataframe\">\n",
       "  <thead>\n",
       "    <tr style=\"text-align: right;\">\n",
       "      <th></th>\n",
       "      <th>activity</th>\n",
       "      <th>f1-score</th>\n",
       "      <th>test_sup</th>\n",
       "      <th>counts</th>\n",
       "    </tr>\n",
       "  </thead>\n",
       "  <tbody>\n",
       "    <tr>\n",
       "      <th>11</th>\n",
       "      <td>O_CREATED_COMPLETE</td>\n",
       "      <td>1.000000</td>\n",
       "      <td>0.267318</td>\n",
       "      <td>0.270262</td>\n",
       "    </tr>\n",
       "    <tr>\n",
       "      <th>15</th>\n",
       "      <td>O_SENT_COMPLETE</td>\n",
       "      <td>1.000000</td>\n",
       "      <td>0.267318</td>\n",
       "      <td>0.270262</td>\n",
       "    </tr>\n",
       "    <tr>\n",
       "      <th>6</th>\n",
       "      <td>A_PARTLYSUBMITTED_COMPLETE</td>\n",
       "      <td>1.000000</td>\n",
       "      <td>0.574835</td>\n",
       "      <td>0.565657</td>\n",
       "    </tr>\n",
       "    <tr>\n",
       "      <th>23</th>\n",
       "      <td>W_Completeren aanvraag_SCHEDULE</td>\n",
       "      <td>0.999636</td>\n",
       "      <td>0.312287</td>\n",
       "      <td>0.310413</td>\n",
       "    </tr>\n",
       "    <tr>\n",
       "      <th>27</th>\n",
       "      <td>W_Nabellen incomplete dossiers_START</td>\n",
       "      <td>0.998568</td>\n",
       "      <td>0.237565</td>\n",
       "      <td>0.273985</td>\n",
       "    </tr>\n",
       "    <tr>\n",
       "      <th>29</th>\n",
       "      <td>W_Nabellen offertes_SCHEDULE</td>\n",
       "      <td>0.986655</td>\n",
       "      <td>0.260277</td>\n",
       "      <td>0.260209</td>\n",
       "    </tr>\n",
       "    <tr>\n",
       "      <th>33</th>\n",
       "      <td>W_Valideren aanvraag_START</td>\n",
       "      <td>0.985483</td>\n",
       "      <td>0.270043</td>\n",
       "      <td>0.278516</td>\n",
       "    </tr>\n",
       "    <tr>\n",
       "      <th>30</th>\n",
       "      <td>W_Nabellen offertes_START</td>\n",
       "      <td>0.985041</td>\n",
       "      <td>0.882580</td>\n",
       "      <td>0.850627</td>\n",
       "    </tr>\n",
       "    <tr>\n",
       "      <th>18</th>\n",
       "      <td>W_Afhandelen leads_START</td>\n",
       "      <td>0.982744</td>\n",
       "      <td>0.258914</td>\n",
       "      <td>0.253010</td>\n",
       "    </tr>\n",
       "    <tr>\n",
       "      <th>24</th>\n",
       "      <td>W_Completeren aanvraag_START</td>\n",
       "      <td>0.939087</td>\n",
       "      <td>0.979105</td>\n",
       "      <td>0.979955</td>\n",
       "    </tr>\n",
       "    <tr>\n",
       "      <th>28</th>\n",
       "      <td>W_Nabellen offertes_COMPLETE</td>\n",
       "      <td>0.872278</td>\n",
       "      <td>0.908244</td>\n",
       "      <td>0.873588</td>\n",
       "    </tr>\n",
       "    <tr>\n",
       "      <th>22</th>\n",
       "      <td>W_Completeren aanvraag_COMPLETE</td>\n",
       "      <td>0.862121</td>\n",
       "      <td>1.000000</td>\n",
       "      <td>1.000000</td>\n",
       "    </tr>\n",
       "    <tr>\n",
       "      <th>32</th>\n",
       "      <td>W_Valideren aanvraag_SCHEDULE</td>\n",
       "      <td>0.854369</td>\n",
       "      <td>0.174199</td>\n",
       "      <td>0.185863</td>\n",
       "    </tr>\n",
       "    <tr>\n",
       "      <th>25</th>\n",
       "      <td>W_Nabellen incomplete dossiers_COMPLETE</td>\n",
       "      <td>0.779754</td>\n",
       "      <td>0.238247</td>\n",
       "      <td>0.274047</td>\n",
       "    </tr>\n",
       "    <tr>\n",
       "      <th>5</th>\n",
       "      <td>A_FINALIZED_COMPLETE</td>\n",
       "      <td>0.767158</td>\n",
       "      <td>0.207586</td>\n",
       "      <td>0.205411</td>\n",
       "    </tr>\n",
       "    <tr>\n",
       "      <th>31</th>\n",
       "      <td>W_Valideren aanvraag_COMPLETE</td>\n",
       "      <td>0.737858</td>\n",
       "      <td>0.270270</td>\n",
       "      <td>0.278764</td>\n",
       "    </tr>\n",
       "    <tr>\n",
       "      <th>10</th>\n",
       "      <td>O_CANCELLED_COMPLETE</td>\n",
       "      <td>0.645455</td>\n",
       "      <td>0.131728</td>\n",
       "      <td>0.133300</td>\n",
       "    </tr>\n",
       "    <tr>\n",
       "      <th>2</th>\n",
       "      <td>A_APPROVED_COMPLETE</td>\n",
       "      <td>0.621076</td>\n",
       "      <td>0.085851</td>\n",
       "      <td>0.089301</td>\n",
       "    </tr>\n",
       "    <tr>\n",
       "      <th>13</th>\n",
       "      <td>O_SELECTED_COMPLETE</td>\n",
       "      <td>0.576404</td>\n",
       "      <td>0.267318</td>\n",
       "      <td>0.270262</td>\n",
       "    </tr>\n",
       "    <tr>\n",
       "      <th>1</th>\n",
       "      <td>A_ACTIVATED_COMPLETE</td>\n",
       "      <td>0.568878</td>\n",
       "      <td>0.085851</td>\n",
       "      <td>0.089301</td>\n",
       "    </tr>\n",
       "    <tr>\n",
       "      <th>16</th>\n",
       "      <td>W_Afhandelen leads_COMPLETE</td>\n",
       "      <td>0.548167</td>\n",
       "      <td>0.258914</td>\n",
       "      <td>0.253072</td>\n",
       "    </tr>\n",
       "    <tr>\n",
       "      <th>7</th>\n",
       "      <td>A_PREACCEPTED_COMPLETE</td>\n",
       "      <td>0.541158</td>\n",
       "      <td>0.312060</td>\n",
       "      <td>0.310413</td>\n",
       "    </tr>\n",
       "    <tr>\n",
       "      <th>3</th>\n",
       "      <td>A_CANCELLED_COMPLETE</td>\n",
       "      <td>0.477019</td>\n",
       "      <td>0.127413</td>\n",
       "      <td>0.119834</td>\n",
       "    </tr>\n",
       "    <tr>\n",
       "      <th>8</th>\n",
       "      <td>A_REGISTERED_COMPLETE</td>\n",
       "      <td>0.368359</td>\n",
       "      <td>0.085851</td>\n",
       "      <td>0.089301</td>\n",
       "    </tr>\n",
       "    <tr>\n",
       "      <th>26</th>\n",
       "      <td>W_Nabellen incomplete dossiers_SCHEDULE</td>\n",
       "      <td>0.000000</td>\n",
       "      <td>0.060640</td>\n",
       "      <td>0.074656</td>\n",
       "    </tr>\n",
       "    <tr>\n",
       "      <th>0</th>\n",
       "      <td>A_ACCEPTED_COMPLETE</td>\n",
       "      <td>0.000000</td>\n",
       "      <td>0.210538</td>\n",
       "      <td>0.210128</td>\n",
       "    </tr>\n",
       "    <tr>\n",
       "      <th>21</th>\n",
       "      <td>W_Beoordelen fraude_START</td>\n",
       "      <td>0.000000</td>\n",
       "      <td>0.015898</td>\n",
       "      <td>0.009247</td>\n",
       "    </tr>\n",
       "    <tr>\n",
       "      <th>20</th>\n",
       "      <td>W_Beoordelen fraude_SCHEDULE</td>\n",
       "      <td>0.000000</td>\n",
       "      <td>0.005905</td>\n",
       "      <td>0.004654</td>\n",
       "    </tr>\n",
       "    <tr>\n",
       "      <th>19</th>\n",
       "      <td>W_Beoordelen fraude_COMPLETE</td>\n",
       "      <td>0.000000</td>\n",
       "      <td>0.015898</td>\n",
       "      <td>0.009247</td>\n",
       "    </tr>\n",
       "    <tr>\n",
       "      <th>14</th>\n",
       "      <td>O_SENT_BACK_COMPLETE</td>\n",
       "      <td>0.000000</td>\n",
       "      <td>0.129911</td>\n",
       "      <td>0.134107</td>\n",
       "    </tr>\n",
       "    <tr>\n",
       "      <th>12</th>\n",
       "      <td>O_DECLINED_COMPLETE</td>\n",
       "      <td>0.000000</td>\n",
       "      <td>0.035885</td>\n",
       "      <td>0.033759</td>\n",
       "    </tr>\n",
       "    <tr>\n",
       "      <th>9</th>\n",
       "      <td>O_ACCEPTED_COMPLETE</td>\n",
       "      <td>0.000000</td>\n",
       "      <td>0.085623</td>\n",
       "      <td>0.089239</td>\n",
       "    </tr>\n",
       "    <tr>\n",
       "      <th>4</th>\n",
       "      <td>A_DECLINED_COMPLETE</td>\n",
       "      <td>0.000000</td>\n",
       "      <td>0.344538</td>\n",
       "      <td>0.339332</td>\n",
       "    </tr>\n",
       "    <tr>\n",
       "      <th>17</th>\n",
       "      <td>W_Afhandelen leads_SCHEDULE</td>\n",
       "      <td>0.000000</td>\n",
       "      <td>0.205769</td>\n",
       "      <td>0.207025</td>\n",
       "    </tr>\n",
       "  </tbody>\n",
       "</table>\n",
       "</div>"
      ],
      "text/plain": [
       "                                   activity  f1-score  test_sup    counts\n",
       "11                       O_CREATED_COMPLETE  1.000000  0.267318  0.270262\n",
       "15                          O_SENT_COMPLETE  1.000000  0.267318  0.270262\n",
       "6                A_PARTLYSUBMITTED_COMPLETE  1.000000  0.574835  0.565657\n",
       "23          W_Completeren aanvraag_SCHEDULE  0.999636  0.312287  0.310413\n",
       "27     W_Nabellen incomplete dossiers_START  0.998568  0.237565  0.273985\n",
       "29             W_Nabellen offertes_SCHEDULE  0.986655  0.260277  0.260209\n",
       "33               W_Valideren aanvraag_START  0.985483  0.270043  0.278516\n",
       "30                W_Nabellen offertes_START  0.985041  0.882580  0.850627\n",
       "18                 W_Afhandelen leads_START  0.982744  0.258914  0.253010\n",
       "24             W_Completeren aanvraag_START  0.939087  0.979105  0.979955\n",
       "28             W_Nabellen offertes_COMPLETE  0.872278  0.908244  0.873588\n",
       "22          W_Completeren aanvraag_COMPLETE  0.862121  1.000000  1.000000\n",
       "32            W_Valideren aanvraag_SCHEDULE  0.854369  0.174199  0.185863\n",
       "25  W_Nabellen incomplete dossiers_COMPLETE  0.779754  0.238247  0.274047\n",
       "5                      A_FINALIZED_COMPLETE  0.767158  0.207586  0.205411\n",
       "31            W_Valideren aanvraag_COMPLETE  0.737858  0.270270  0.278764\n",
       "10                     O_CANCELLED_COMPLETE  0.645455  0.131728  0.133300\n",
       "2                       A_APPROVED_COMPLETE  0.621076  0.085851  0.089301\n",
       "13                      O_SELECTED_COMPLETE  0.576404  0.267318  0.270262\n",
       "1                      A_ACTIVATED_COMPLETE  0.568878  0.085851  0.089301\n",
       "16              W_Afhandelen leads_COMPLETE  0.548167  0.258914  0.253072\n",
       "7                    A_PREACCEPTED_COMPLETE  0.541158  0.312060  0.310413\n",
       "3                      A_CANCELLED_COMPLETE  0.477019  0.127413  0.119834\n",
       "8                     A_REGISTERED_COMPLETE  0.368359  0.085851  0.089301\n",
       "26  W_Nabellen incomplete dossiers_SCHEDULE  0.000000  0.060640  0.074656\n",
       "0                       A_ACCEPTED_COMPLETE  0.000000  0.210538  0.210128\n",
       "21                W_Beoordelen fraude_START  0.000000  0.015898  0.009247\n",
       "20             W_Beoordelen fraude_SCHEDULE  0.000000  0.005905  0.004654\n",
       "19             W_Beoordelen fraude_COMPLETE  0.000000  0.015898  0.009247\n",
       "14                     O_SENT_BACK_COMPLETE  0.000000  0.129911  0.134107\n",
       "12                      O_DECLINED_COMPLETE  0.000000  0.035885  0.033759\n",
       "9                       O_ACCEPTED_COMPLETE  0.000000  0.085623  0.089239\n",
       "4                       A_DECLINED_COMPLETE  0.000000  0.344538  0.339332\n",
       "17              W_Afhandelen leads_SCHEDULE  0.000000  0.205769  0.207025"
      ]
     },
     "execution_count": 111,
     "metadata": {},
     "output_type": "execute_result"
    }
   ],
   "source": [
    "import pandas as pd\n",
    "act_names = clsnames['activity']\n",
    "act_names = {str(k):v for k,v in act_names.items()}\n",
    "f1_label=[]\n",
    "f1_list=[]\n",
    "sup_list=[]\n",
    "sum_support = 0\n",
    "for label,val in cls_report.items():\n",
    "  if type(val)==dict and label in act_names:\n",
    "      f1_label.append(act_names[label])\n",
    "      f1_list.append(val['f1-score'])\n",
    "      sup_list.append(val['support'])\n",
    "      sum_support = sum_support + val['support']\n",
    "\n",
    "\n",
    "print(sum_support)\n",
    "sup_list = sup_list/np.max(sup_list)\n",
    "dt_plot1 = pd.DataFrame.from_dict({'activity':f1_label, 'f1-score':f1_list, 'test_sup': sup_list})\n",
    "df_merge_col = pd.merge(dt_plot1, df, on='activity')\n",
    "df_merge_col[\"counts\"] = df_merge_col[\"counts\"] / df_merge_col[\"counts\"].max()\n",
    "df_merge_col.sort_values(by='f1-score', ascending=False, inplace=True)\n",
    "df_merge_col\n",
    "\n",
    "#dt_plot1\n"
   ]
  },
  {
   "cell_type": "code",
   "execution_count": null,
   "metadata": {
    "colab": {
     "base_uri": "https://localhost:8080/",
     "height": 800
    },
    "id": "QfhAwOoISPlN",
    "outputId": "5387a101-61c7-4985-fe11-d1fabdba9942"
   },
   "outputs": [
    {
     "data": {
      "image/png": "[encoded data removed]",
      "text/plain": [
       "<Figure size 720x576 with 1 Axes>"
      ]
     },
     "metadata": {
      "needs_background": "light"
     },
     "output_type": "display_data"
    }
   ],
   "source": [
    "import seaborn as sns # for data visualization\n",
    "import matplotlib.pyplot as plt # for data visualization\n",
    "%matplotlib inline\n",
    "sns.set_context(rc={\"font.size\":14,\"axes.titlesize\":14,\"axes.labelsize\":12, \"style\":\"whitegrid\"})  \n",
    "\n",
    "\n",
    "fig, ax = plt.subplots(figsize=(10,8))\n",
    "sns.set_style('whitegrid')\n",
    "# Draw line plot of \n",
    "\n",
    "sns.barplot(data = df_merge_col, x = 'activity', y = 'f1-score', linewidth=2, ax=ax)\n",
    "ax.set_xticklabels(ax.get_xticklabels(), rotation=90)\n",
    "\n",
    "# add lineplot\n",
    "sns.lineplot(data = df_merge_col, x='activity', y='counts',  marker='o')\n",
    "\n",
    "sns.lineplot(data = df_merge_col, x='activity', y='test_sup',  marker='x')\n",
    "plt.show()"
   ]
  },
  {
   "cell_type": "code",
   "execution_count": null,
   "metadata": {
    "id": "gYO1LjW21u0V"
   },
   "outputs": [],
   "source": [
    "import numpy as np\n",
    "import seaborn as sns\n",
    "from sklearn.decomposition import PCA\n",
    "from sklearn.manifold import TSNE\n",
    "\n",
    "#use pca to plot the data points\n",
    "def plot_2d_clusters(segment_vectors, data_Y):\n",
    "\n",
    "    #pca = PCA(n_components=5)\n",
    "    #pca_result = pca.fit_transform(segment_vectors)\n",
    "    #print(data_Y)\n",
    "    mds = TSNE()\n",
    "    pca_result = mds.fit_transform(segment_vectors)\n",
    "    x = pca_result[:, 0]\n",
    "    y = pca_result[:, 1]\n",
    "    #y=duration\n",
    "    dataval = {}\n",
    "    dataval['x']=x\n",
    "    dataval['y']=y\n",
    "    dataval['g']=data_Y\n",
    "    #print(dataval)\n",
    "    tips = pd.DataFrame.from_dict(dataval)\n",
    "    return tips\n",
    "    #sns.color_palette(\"Spectral\", as_cmap=True)\n",
    "\n",
    "tips = plot_2d_clusters(x_scaled,y_new)\n",
    "#tips.head()\n"
   ]
  },
  {
   "cell_type": "markdown",
   "metadata": {
    "id": "_aPdOh9f2-Cy"
   },
   "source": [
    "## Pipeline Runner"
   ]
  },
  {
   "cell_type": "markdown",
   "metadata": {
    "id": "SCnq8KFK2-Cy"
   },
   "source": [
    "A runner function for `PPModel`. Runs multiple prediction models on various datasets for several runs. Writes the results to a dataframe and stores it on disk in the `./tmp` folder. Stores the splits, the trained models, and the results. Accepts multiple parameters."
   ]
  },
  {
   "cell_type": "code",
   "execution_count": null,
   "metadata": {
    "id": "ErnhdtRH2-Cy"
   },
   "outputs": [],
   "source": [
    "#export\n",
    "from datetime import datetime\n",
    "import inspect\n",
    "from tqdm.notebook import tqdm"
   ]
  },
  {
   "cell_type": "code",
   "execution_count": null,
   "metadata": {
    "id": "QfEzNEl02-Cz"
   },
   "outputs": [],
   "source": [
    "#export\n",
    "class Performance_Statistic():\n",
    "    'Creates a results dataframe, that shows the performance of all models on all datasets on all tasks.'\n",
    "    def __init__(self):\n",
    "        self.df = pd.DataFrame(\n",
    "        columns=['Dataset', 'Model', 'Next Step', 'Next Resource', 'Last Resource', 'Outcome',\n",
    "                'Next relative Timestamp', 'Duration to Outcome', 'Activity Suffix', 'Resource Suffix'])\n",
    "    def update(self,model_performance): self.df.loc[len(self.df)] = model_performance\n",
    "    def to_df(self):\n",
    "        return self.df"
   ]
  },
  {
   "cell_type": "code",
   "execution_count": null,
   "metadata": {
    "id": "AvO0D4Ls2-Cz"
   },
   "outputs": [],
   "source": [
    "#export\n",
    "def _store_path(results_dir=Path('/tmp')):\n",
    "    'Creates a new folder to store results'\n",
    "    now = datetime.now()\n",
    "    current_time = now.strftime(\"%Y-%m-%d_%H:%M:%S\")\n",
    "    results_dir=results_dir/current_time\n",
    "    results_dir.mkdir()\n",
    "    return results_dir"
   ]
  },
  {
   "cell_type": "code",
   "execution_count": null,
   "metadata": {
    "id": "E4GrijCU2-Cz"
   },
   "outputs": [],
   "source": [
    "#export\n",
    "@delegates(PPModel)\n",
    "def runner(dataset_urls,ppm_classes,store=False,runs=1,sample=False,validation_seed=None,test_seed=42,tqdm=tqdm,\n",
    "           **kwargs):\n",
    "    store_path= _store_path() if store else None\n",
    "    '''\n",
    "    Runs a number of process prediction models PPModel on a number of datasets for multiple runs.\n",
    "    Stores results in ./tmp folder.\n",
    "    '''\n",
    "    i=0\n",
    "    results=[]\n",
    "    for r in tqdm(range(runs),desc='Runs'):\n",
    "        performance_statistic = Performance_Statistic()\n",
    "        db=tqdm(range(len(dataset_urls)),leave=False)\n",
    "        for i in db:\n",
    "            db.set_description(get_ds_name(dataset_urls[i]))\n",
    "            ds= dataset_urls[i]\n",
    "            log=import_log(ds)\n",
    "            ds_name=get_ds_name(ds)\n",
    "            splits=split_traces(log,ds_name,validation_seed=validation_seed,test_seed=test_seed)\n",
    "            if store:\n",
    "                with open(store_path/f'run{r}_{ds_name}_splits.pickle', \"wb\") as output_file:\n",
    "                    pickle.dump(splits, output_file)\n",
    "            mb=tqdm(range(len(ppm_classes)),leave=False)\n",
    "            for j in mb:\n",
    "                mb.set_description(ppm_classes[j].__name__.replace('PPM_',\"\"))\n",
    "                ppm_class=ppm_classes[j]\n",
    "                model_path=store_path/'models'/f\"run{r}\" if store else None\n",
    "                model=ppm_class(log,ds_name,splits,store=model_path,sample=sample,**kwargs)\n",
    "                preds, actual  = model.next_step_prediction()\n",
    "                predicted = torch.argmax(preds[0], dim=1)\n",
    "                actual = actual[0].detach().cpu().numpy()\n",
    "                predicted = predicted.detach().cpu().numpy()\n",
    "                cm = confusion_matrix(actual, predicted)\n",
    "                disp = ConfusionMatrixDisplay(confusion_matrix=cm)\n",
    "                disp.plot()\n",
    "                plt.show()\n",
    "\n",
    "    #return results if len(results)>1 else results[0]"
   ]
  },
  {
   "cell_type": "markdown",
   "metadata": {
    "id": "1DWMPOvD2-Cz"
   },
   "source": [
    "This sample shows how to use the runner function:"
   ]
  },
  {
   "cell_type": "code",
   "execution_count": null,
   "metadata": {
    "colab": {
     "base_uri": "https://localhost:8080/",
     "height": 429
    },
    "id": "NpWbJtsy2-Cz",
    "outputId": "dcc4a74e-86b6-4e3e-923b-8773de9c82c2"
   },
   "outputs": [
    {
     "ename": "NameError",
     "evalue": "ignored",
     "output_type": "error",
     "traceback": [
      "\u001b[0;31m---------------------------------------------------------------------------\u001b[0m",
      "\u001b[0;31mNameError\u001b[0m                                 Traceback (most recent call last)",
      "\u001b[0;32m<ipython-input-96-f6b08507e72c>\u001b[0m in \u001b[0;36m<module>\u001b[0;34m()\u001b[0m\n\u001b[0;32m----> 1\u001b[0;31m \u001b[0mget_ipython\u001b[0m\u001b[0;34m(\u001b[0m\u001b[0;34m)\u001b[0m\u001b[0;34m.\u001b[0m\u001b[0mrun_cell_magic\u001b[0m\u001b[0;34m(\u001b[0m\u001b[0;34m'time'\u001b[0m\u001b[0;34m,\u001b[0m \u001b[0;34m''\u001b[0m\u001b[0;34m,\u001b[0m \u001b[0;34m'datasets=[EventLogs.Helpdesk,EventLogs.BPIC_13_CP]\\nppms=[PPM_RNNwEmbedding,PPM_RNNwEmbedding]\\nres=runner(datasets,ppms,epoch=1,windows=partial(subsequences_fast,min_ws=0),store=True,print_output=False,\\n           sample=True,runs=2)'\u001b[0m\u001b[0;34m)\u001b[0m\u001b[0;34m\u001b[0m\u001b[0;34m\u001b[0m\u001b[0m\n\u001b[0m",
      "\u001b[0;32m/usr/local/lib/python3.7/dist-packages/IPython/core/interactiveshell.py\u001b[0m in \u001b[0;36mrun_cell_magic\u001b[0;34m(self, magic_name, line, cell)\u001b[0m\n\u001b[1;32m   2115\u001b[0m             \u001b[0mmagic_arg_s\u001b[0m \u001b[0;34m=\u001b[0m \u001b[0mself\u001b[0m\u001b[0;34m.\u001b[0m\u001b[0mvar_expand\u001b[0m\u001b[0;34m(\u001b[0m\u001b[0mline\u001b[0m\u001b[0;34m,\u001b[0m \u001b[0mstack_depth\u001b[0m\u001b[0;34m)\u001b[0m\u001b[0;34m\u001b[0m\u001b[0;34m\u001b[0m\u001b[0m\n\u001b[1;32m   2116\u001b[0m             \u001b[0;32mwith\u001b[0m \u001b[0mself\u001b[0m\u001b[0;34m.\u001b[0m\u001b[0mbuiltin_trap\u001b[0m\u001b[0;34m:\u001b[0m\u001b[0;34m\u001b[0m\u001b[0;34m\u001b[0m\u001b[0m\n\u001b[0;32m-> 2117\u001b[0;31m                 \u001b[0mresult\u001b[0m \u001b[0;34m=\u001b[0m \u001b[0mfn\u001b[0m\u001b[0;34m(\u001b[0m\u001b[0mmagic_arg_s\u001b[0m\u001b[0;34m,\u001b[0m \u001b[0mcell\u001b[0m\u001b[0;34m)\u001b[0m\u001b[0;34m\u001b[0m\u001b[0;34m\u001b[0m\u001b[0m\n\u001b[0m\u001b[1;32m   2118\u001b[0m             \u001b[0;32mreturn\u001b[0m \u001b[0mresult\u001b[0m\u001b[0;34m\u001b[0m\u001b[0;34m\u001b[0m\u001b[0m\n\u001b[1;32m   2119\u001b[0m \u001b[0;34m\u001b[0m\u001b[0m\n",
      "\u001b[0;32m<decorator-gen-53>\u001b[0m in \u001b[0;36mtime\u001b[0;34m(self, line, cell, local_ns)\u001b[0m\n",
      "\u001b[0;32m/usr/local/lib/python3.7/dist-packages/IPython/core/magic.py\u001b[0m in \u001b[0;36m<lambda>\u001b[0;34m(f, *a, **k)\u001b[0m\n\u001b[1;32m    186\u001b[0m     \u001b[0;31m# but it's overkill for just that one bit of state.\u001b[0m\u001b[0;34m\u001b[0m\u001b[0;34m\u001b[0m\u001b[0;34m\u001b[0m\u001b[0m\n\u001b[1;32m    187\u001b[0m     \u001b[0;32mdef\u001b[0m \u001b[0mmagic_deco\u001b[0m\u001b[0;34m(\u001b[0m\u001b[0marg\u001b[0m\u001b[0;34m)\u001b[0m\u001b[0;34m:\u001b[0m\u001b[0;34m\u001b[0m\u001b[0;34m\u001b[0m\u001b[0m\n\u001b[0;32m--> 188\u001b[0;31m         \u001b[0mcall\u001b[0m \u001b[0;34m=\u001b[0m \u001b[0;32mlambda\u001b[0m \u001b[0mf\u001b[0m\u001b[0;34m,\u001b[0m \u001b[0;34m*\u001b[0m\u001b[0ma\u001b[0m\u001b[0;34m,\u001b[0m \u001b[0;34m**\u001b[0m\u001b[0mk\u001b[0m\u001b[0;34m:\u001b[0m \u001b[0mf\u001b[0m\u001b[0;34m(\u001b[0m\u001b[0;34m*\u001b[0m\u001b[0ma\u001b[0m\u001b[0;34m,\u001b[0m \u001b[0;34m**\u001b[0m\u001b[0mk\u001b[0m\u001b[0;34m)\u001b[0m\u001b[0;34m\u001b[0m\u001b[0;34m\u001b[0m\u001b[0m\n\u001b[0m\u001b[1;32m    189\u001b[0m \u001b[0;34m\u001b[0m\u001b[0m\n\u001b[1;32m    190\u001b[0m         \u001b[0;32mif\u001b[0m \u001b[0mcallable\u001b[0m\u001b[0;34m(\u001b[0m\u001b[0marg\u001b[0m\u001b[0;34m)\u001b[0m\u001b[0;34m:\u001b[0m\u001b[0;34m\u001b[0m\u001b[0;34m\u001b[0m\u001b[0m\n",
      "\u001b[0;32m/usr/local/lib/python3.7/dist-packages/IPython/core/magics/execution.py\u001b[0m in \u001b[0;36mtime\u001b[0;34m(self, line, cell, local_ns)\u001b[0m\n\u001b[1;32m   1191\u001b[0m         \u001b[0;32melse\u001b[0m\u001b[0;34m:\u001b[0m\u001b[0;34m\u001b[0m\u001b[0;34m\u001b[0m\u001b[0m\n\u001b[1;32m   1192\u001b[0m             \u001b[0mst\u001b[0m \u001b[0;34m=\u001b[0m \u001b[0mclock2\u001b[0m\u001b[0;34m(\u001b[0m\u001b[0;34m)\u001b[0m\u001b[0;34m\u001b[0m\u001b[0;34m\u001b[0m\u001b[0m\n\u001b[0;32m-> 1193\u001b[0;31m             \u001b[0mexec\u001b[0m\u001b[0;34m(\u001b[0m\u001b[0mcode\u001b[0m\u001b[0;34m,\u001b[0m \u001b[0mglob\u001b[0m\u001b[0;34m,\u001b[0m \u001b[0mlocal_ns\u001b[0m\u001b[0;34m)\u001b[0m\u001b[0;34m\u001b[0m\u001b[0;34m\u001b[0m\u001b[0m\n\u001b[0m\u001b[1;32m   1194\u001b[0m             \u001b[0mend\u001b[0m \u001b[0;34m=\u001b[0m \u001b[0mclock2\u001b[0m\u001b[0;34m(\u001b[0m\u001b[0;34m)\u001b[0m\u001b[0;34m\u001b[0m\u001b[0;34m\u001b[0m\u001b[0m\n\u001b[1;32m   1195\u001b[0m             \u001b[0mout\u001b[0m \u001b[0;34m=\u001b[0m \u001b[0;32mNone\u001b[0m\u001b[0;34m\u001b[0m\u001b[0;34m\u001b[0m\u001b[0m\n",
      "\u001b[0;32m<timed exec>\u001b[0m in \u001b[0;36m<module>\u001b[0;34m()\u001b[0m\n",
      "\u001b[0;31mNameError\u001b[0m: name 'runner' is not defined"
     ]
    }
   ],
   "source": [
    "\n",
    "datasets=[EventLogs.Helpdesk,EventLogs.BPIC_13_CP]\n",
    "ppms=[PPM_RNNwEmbedding,PPM_RNNwEmbedding]\n",
    "res=runner(datasets,ppms,epoch=1,windows=partial(subsequences_fast,min_ws=0),store=True,print_output=False,\n",
    "           sample=True,runs=2)\n"
   ]
  },
  {
   "cell_type": "markdown",
   "metadata": {
    "id": "xtrohP5k2-Cz",
    "toc": true
   },
   "source": [
    "<h1>Table of Contents<span class=\"tocSkip\"></span></h1>\n",
    "<div class=\"toc\"><ul class=\"toc-item\"><li><span><a href=\"#Loss-and-Metrics\" data-toc-modified-id=\"Loss-and-Metrics-1\"><span class=\"toc-item-num\">1&nbsp;&nbsp;</span>Loss and Metrics</a></span></li><li><span><a href=\"#Camargo\" data-toc-modified-id=\"Camargo-2\"><span class=\"toc-item-num\">2&nbsp;&nbsp;</span>Camargo</a></span><ul class=\"toc-item\"><li><span><a href=\"#Spezialized\" data-toc-modified-id=\"Spezialized-2.1\"><span class=\"toc-item-num\">2.1&nbsp;&nbsp;</span>Spezialized</a></span></li><li><span><a href=\"#Concat\" data-toc-modified-id=\"Concat-2.2\"><span class=\"toc-item-num\">2.2&nbsp;&nbsp;</span>Concat</a></span></li><li><span><a href=\"#Full_Concat\" data-toc-modified-id=\"Full_Concat-2.3\"><span class=\"toc-item-num\">2.3&nbsp;&nbsp;</span>Full_Concat</a></span></li><li><span><a href=\"#PPMS\" data-toc-modified-id=\"PPMS-2.4\"><span class=\"toc-item-num\">2.4&nbsp;&nbsp;</span>PPMS</a></span></li></ul></li><li><span><a href=\"#Evermann\" data-toc-modified-id=\"Evermann-3\"><span class=\"toc-item-num\">3&nbsp;&nbsp;</span>Evermann</a></span><ul class=\"toc-item\"><li><span><a href=\"#PPM\" data-toc-modified-id=\"PPM-3.1\"><span class=\"toc-item-num\">3.1&nbsp;&nbsp;</span>PPM</a></span></li></ul></li><li><span><a href=\"#Tax\" data-toc-modified-id=\"Tax-4\"><span class=\"toc-item-num\">4&nbsp;&nbsp;</span>Tax</a></span><ul class=\"toc-item\"><li><span><a href=\"#Spezialized\" data-toc-modified-id=\"Spezialized-4.1\"><span class=\"toc-item-num\">4.1&nbsp;&nbsp;</span>Spezialized</a></span></li><li><span><a href=\"#Shared\" data-toc-modified-id=\"Shared-4.2\"><span class=\"toc-item-num\">4.2&nbsp;&nbsp;</span>Shared</a></span></li><li><span><a href=\"#Mixed\" data-toc-modified-id=\"Mixed-4.3\"><span class=\"toc-item-num\">4.3&nbsp;&nbsp;</span>Mixed</a></span></li><li><span><a href=\"#PPM\" data-toc-modified-id=\"PPM-4.4\"><span class=\"toc-item-num\">4.4&nbsp;&nbsp;</span>PPM</a></span></li></ul></li><li><span><a href=\"#Mida\" data-toc-modified-id=\"Mida-5\"><span class=\"toc-item-num\">5&nbsp;&nbsp;</span>Mida</a></span><ul class=\"toc-item\"><li><span><a href=\"#PPM\" data-toc-modified-id=\"PPM-5.1\"><span class=\"toc-item-num\">5.1&nbsp;&nbsp;</span>PPM</a></span></li></ul></li></ul></div>"
   ]
  },
  {
   "cell_type": "code",
   "execution_count": null,
   "metadata": {
    "id": "4nko9W_u2-C0"
   },
   "outputs": [],
   "source": [
    "# default_exp baselines"
   ]
  },
  {
   "cell_type": "markdown",
   "metadata": {
    "id": "2QQ6za1-2-C0"
   },
   "source": [
    "Baseline implementations\n",
    "===\n"
   ]
  },
  {
   "cell_type": "markdown",
   "metadata": {
    "id": "rM2vRHTL2-C0"
   },
   "source": [
    "This notebook introduces a few loss and metric functions. Afterwards, eight models based on four papers are re-implemented in `pytorch`. For each model, a `PPModel` is created."
   ]
  },
  {
   "cell_type": "code",
   "execution_count": null,
   "metadata": {
    "id": "mETkyK2D2-C0"
   },
   "outputs": [],
   "source": [
    "# a flag, that controls if the training process is executed\n",
    "_RUN_TRAINING=True"
   ]
  },
  {
   "cell_type": "markdown",
   "metadata": {
    "id": "I5Jh7lyx2-C0"
   },
   "source": [
    "## Loss and Metrics"
   ]
  },
  {
   "cell_type": "markdown",
   "metadata": {
    "id": "H8QT53422-C0"
   },
   "source": [
    "This section defines some metrics and loss functions. Apart from that, we use the standart loss functions and metrics from fastai and pytorch, namely accuracy, mae, and cross_entropy"
   ]
  },
  {
   "cell_type": "code",
   "execution_count": null,
   "metadata": {
    "id": "pY4-o8292-C0"
   },
   "outputs": [],
   "source": [
    "#export\n",
    "def maeDurDaysNormalize(p,yb,mean=0,std=0,unit=60*60*24):\n",
    "    \"\"\"\n",
    "    Decodes time and converts from seconds to days\n",
    "    Returns mae\n",
    "    \"\"\"\n",
    "    p=p*std+mean\n",
    "    yb=yb*std+mean\n",
    "    return mae(p,yb)/(unit)"
   ]
  },
  {
   "cell_type": "code",
   "execution_count": null,
   "metadata": {
    "id": "Km5TCZRy2-C1"
   },
   "outputs": [],
   "source": [
    "#export\n",
    "def maeDurDaysMinMax(p,yb,minn=0,maxx=0,unit=60*60*24):\n",
    "    \"\"\"\n",
    "    Decodes time and converts from seconds to days\n",
    "    Returns mae\n",
    "    \"\"\"\n",
    "\n",
    "    p=p*(maxx-minn) + minn\n",
    "    yb=yb*(maxx-minn) + minn\n",
    "    return mae(p,yb)/(unit)"
   ]
  },
  {
   "cell_type": "code",
   "execution_count": null,
   "metadata": {
    "id": "8pcIBe-P2-C1"
   },
   "outputs": [],
   "source": [
    "#export\n",
    "def _accuracy_idx(a,b,i): return accuracy(listify(a)[i],listify(b)[i])"
   ]
  },
  {
   "cell_type": "code",
   "execution_count": null,
   "metadata": {
    "id": "esK1tPCk2-C1"
   },
   "outputs": [],
   "source": [
    "#export\n",
    "class AvgMetric(Metric):\n",
    "    \"Average the values of `func` taking into account potential different batch sizes\"\n",
    "    def __init__(self, func):  self.func = func\n",
    "    def reset(self):           self.total,self.count = 0.,0\n",
    "    def accumulate(self, learn):\n",
    "        bs = find_bs(learn.yb)\n",
    "        self.total += learn.to_detach(self.func(learn.pred, *learn.yb))*bs\n",
    "        self.count += bs\n",
    "    @property\n",
    "    def value(self): return self.total/self.count if self.count != 0 else None\n",
    "    @property\n",
    "    def name(self):\n",
    "        return self.func.__name__ if hasattr(self.func, '__name__') else self.func.func.__name__"
   ]
  },
  {
   "cell_type": "code",
   "execution_count": null,
   "metadata": {
    "id": "kBzFd6_B2-C1"
   },
   "outputs": [],
   "source": [
    "#export\n",
    "def get_metrics(o,date_col='timestamp_Relative_elapsed'):\n",
    "    'A utility function that automatically selects the correct metric functions based on the PPObj o'\n",
    "    number_cats=len(o.ycat_names)\n",
    "\n",
    "    accuracies=[]\n",
    "    for i in range(number_cats):\n",
    "        accuracy_func=partial(_accuracy_idx,i=i)\n",
    "        accuracy_func.__name__= f\"acc_{o.ycat_names[i]}\"\n",
    "        accuracy_func=AvgMetric(accuracy_func)\n",
    "        accuracies.append(accuracy_func)\n",
    "    mae_days=None\n",
    "    if len(o.ycont_names)>0:\n",
    "        if 'minmax' in o.ycont_names[0]: # Here we expect only one timestamp\n",
    "            minn,maxx = (o.procs.min_max.mins[date_col],\n",
    "                         o.procs.min_max.maxs[date_col])\n",
    "            mae_days=lambda p,y: maeDurDaysMinMax(listify(p)[-1],listify(y)[-1],minn=minn,maxx=maxx)\n",
    "        else:\n",
    "            mean,std=(o.procs.normalize.means[date_col],\n",
    "                      o.procs.normalize.stds[date_col])\n",
    "            mae_days=lambda p,y: maeDurDaysNormalize(listify(p)[-1],listify(y)[-1],mean=mean,std=std)\n",
    "        mae_days.__name__='mae_days'\n",
    "    return L(accuracies)+mae_days"
   ]
  },
  {
   "cell_type": "code",
   "execution_count": null,
   "metadata": {
    "id": "7RlGORdc2-C1"
   },
   "outputs": [],
   "source": [
    "#export\n",
    "def multi_loss_sum(o,p,y):\n",
    "    '''Multi Loss function that sums up multiple loss functions. \n",
    "    The selection of the loss function is based on the PPObj o'''\n",
    "    p,y=listify(p),listify(y)\n",
    "    len_cat,len_cont=len(o.ycat_names),len(o.ycont_names)\n",
    "    cross_entropies=[F.cross_entropy(p[i],y[i]) for i in range(len_cat)]\n",
    "    maes=[mae(p[i],y[i]) for i in range(len_cat,len_cat+len_cont)]\n",
    "    return torch.sum(torch.stack(list(L(cross_entropies)+L(maes))))"
   ]
  },
  {
   "cell_type": "markdown",
   "metadata": {
    "id": "FOBjWnk32-C1"
   },
   "source": [
    "## Camargo"
   ]
  },
  {
   "cell_type": "markdown",
   "metadata": {
    "id": "HSJvoXf52-C1"
   },
   "source": [
    "**Input**: activity, resource, duration  \n",
    "**Output**: activity, resource, duration  \n",
    "**Loss**: sum(cross_entropy(activity),cross_entropy(resource),mae(duration))"
   ]
  },
  {
   "cell_type": "code",
   "execution_count": null,
   "metadata": {
    "id": "wVpbzLtd2-C1"
   },
   "outputs": [],
   "source": [
    "log=import_log(EventLogs.Helpdesk)\n",
    "o=PPObj(log,[Categorify,Datetify,Normalize()],date_names=['timestamp'],cat_names=['activity','resource'],\n",
    "    y_names=['activity','resource','timestamp_Relative_elapsed'],splits=split_traces(log))\n",
    "o\n",
    "dls=o.get_dls()"
   ]
  },
  {
   "cell_type": "code",
   "execution_count": null,
   "metadata": {
    "id": "ghULfrix2-C2"
   },
   "outputs": [],
   "source": [
    "xcat,xcont,y=dls.one_batch()"
   ]
  },
  {
   "cell_type": "code",
   "execution_count": null,
   "metadata": {
    "colab": {
     "base_uri": "https://localhost:8080/"
    },
    "id": "isuqaACn2-C2",
    "outputId": "44545f48-9135-4feb-908f-efff5af92ce8"
   },
   "outputs": [
    {
     "data": {
      "text/plain": [
       "(torch.Size([64, 2, 64]), torch.Size([64, 64]), 3)"
      ]
     },
     "execution_count": 106,
     "metadata": {},
     "output_type": "execute_result"
    }
   ],
   "source": [
    "xcat.shape,xcont.shape,len(y)"
   ]
  },
  {
   "cell_type": "markdown",
   "metadata": {
    "id": "QF3mZEUu2-C2"
   },
   "source": [
    "### Spezialized"
   ]
  },
  {
   "cell_type": "code",
   "execution_count": null,
   "metadata": {
    "id": "09saZIiP2-C2"
   },
   "outputs": [],
   "source": [
    "#export\n",
    "class Camargo_specialized(torch.nn.Module) :\n",
    "    def __init__(self, o) :\n",
    "        super().__init__()\n",
    "        hidden=25\n",
    "        vocab_act=len(o.procs.categorify['activity'])\n",
    "        vocab_res=len(o.procs.categorify['resource'])\n",
    "        emb_dim_act = int(sqrt(vocab_act))+1\n",
    "        emb_dim_res = int(sqrt(vocab_res))+1\n",
    "\n",
    "        self.emb_act = nn.Embedding(vocab_act,emb_dim_act)\n",
    "        self.emb_res = nn.Embedding(vocab_res,emb_dim_res)\n",
    "\n",
    "        self.lstm_act = nn.LSTM(emb_dim_act, hidden, batch_first=True, num_layers=2)\n",
    "        self.lstm_res = nn.LSTM(emb_dim_res, hidden, batch_first=True, num_layers=2)\n",
    "        self.lstm_tim = nn.LSTM(1, hidden, batch_first=True, num_layers=2)\n",
    "\n",
    "        self.linear_act = nn.Linear(hidden, vocab_act)\n",
    "        self.linear_res = nn.Linear(hidden, vocab_res)\n",
    "        self.linear_tim = nn.Linear(hidden, 1)\n",
    "    def forward(self, xcat,xcont):\n",
    "        x_act,x_res,x_tim=xcat[:,0],xcat[:,1],xcont[:,:,None]\n",
    "        x_act = self.emb_act(x_act)\n",
    "        x_act,_ = self.lstm_act(x_act)\n",
    "        x_act = x_act[:,-1]\n",
    "        x_act = self.linear_act(x_act)\n",
    "        x_act = F.softmax(x_act,dim=1)\n",
    "\n",
    "        x_res = self.emb_res(x_res)\n",
    "        x_res,_ = self.lstm_res(x_res)\n",
    "        x_res = x_res[:,-1]\n",
    "        x_res = self.linear_res(x_res)\n",
    "        x_res = F.softmax(x_res,dim=1)\n",
    "\n",
    "        x_tim,_ = self.lstm_tim(x_tim)\n",
    "        x_tim = x_tim[:,-1]\n",
    "        x_tim = self.linear_tim(x_tim)\n",
    "        return x_act,x_res,x_tim"
   ]
  },
  {
   "cell_type": "code",
   "execution_count": null,
   "metadata": {
    "id": "Rb6xeevB2-C2"
   },
   "outputs": [],
   "source": [
    "m=Camargo_specialized(o)"
   ]
  },
  {
   "cell_type": "code",
   "execution_count": null,
   "metadata": {
    "id": "hCLnOypC2-C2"
   },
   "outputs": [],
   "source": [
    "p=m(xcat,xcont)"
   ]
  },
  {
   "cell_type": "code",
   "execution_count": null,
   "metadata": {
    "id": "g0YpKA5L2-C2",
    "outputId": "6795ca67-7002-4f63-dbf7-60f288c0447a"
   },
   "outputs": [
    {
     "data": {
      "text/plain": [
       "(torch.Size([64, 15]), torch.Size([64, 23]), torch.Size([64, 1]))"
      ]
     },
     "execution_count": 17,
     "metadata": {},
     "output_type": "execute_result"
    }
   ],
   "source": [
    "tuple(i.shape for i in p)"
   ]
  },
  {
   "cell_type": "code",
   "execution_count": null,
   "metadata": {
    "colab": {
     "base_uri": "https://localhost:8080/",
     "height": 1000
    },
    "id": "OqrDz27O2-C3",
    "outputId": "8546f7c5-530a-4026-bedf-70a6a5fb5750"
   },
   "outputs": [
    {
     "data": {
      "text/html": [],
      "text/plain": [
       "<IPython.core.display.HTML object>"
      ]
     },
     "metadata": {},
     "output_type": "display_data"
    },
    {
     "data": {
      "text/html": [],
      "text/plain": [
       "<IPython.core.display.HTML object>"
      ]
     },
     "metadata": {},
     "output_type": "display_data"
    },
    {
     "data": {
      "text/html": [],
      "text/plain": [
       "<IPython.core.display.HTML object>"
      ]
     },
     "metadata": {},
     "output_type": "display_data"
    },
    {
     "data": {
      "text/html": [],
      "text/plain": [
       "<IPython.core.display.HTML object>"
      ]
     },
     "metadata": {},
     "output_type": "display_data"
    },
    {
     "data": {
      "text/html": [],
      "text/plain": [
       "<IPython.core.display.HTML object>"
      ]
     },
     "metadata": {},
     "output_type": "display_data"
    },
    {
     "data": {
      "text/html": [
       "<table border=\"1\" class=\"dataframe\">\n",
       "  <thead>\n",
       "    <tr style=\"text-align: left;\">\n",
       "      <th>epoch</th>\n",
       "      <th>train_loss</th>\n",
       "      <th>valid_loss</th>\n",
       "      <th>acc_activity</th>\n",
       "      <th>acc_resource</th>\n",
       "      <th>mae_days</th>\n",
       "      <th>time</th>\n",
       "    </tr>\n",
       "  </thead>\n",
       "  <tbody>\n",
       "    <tr>\n",
       "      <td>0</td>\n",
       "      <td>5.456880</td>\n",
       "      <td>5.373733</td>\n",
       "      <td>0.784125</td>\n",
       "      <td>0.339763</td>\n",
       "      <td>8.139686</td>\n",
       "      <td>00:31</td>\n",
       "    </tr>\n",
       "    <tr>\n",
       "      <td>1</td>\n",
       "      <td>5.310545</td>\n",
       "      <td>5.345272</td>\n",
       "      <td>0.784125</td>\n",
       "      <td>0.345697</td>\n",
       "      <td>7.832832</td>\n",
       "      <td>00:31</td>\n",
       "    </tr>\n",
       "  </tbody>\n",
       "</table>"
      ],
      "text/plain": [
       "<IPython.core.display.HTML object>"
      ]
     },
     "metadata": {},
     "output_type": "display_data"
    },
    {
     "name": "stdout",
     "output_type": "stream",
     "text": [
      "Better model found at epoch 0 with valid_loss value: 5.373732566833496.\n",
      "Better model found at epoch 1 with valid_loss value: 5.345272064208984.\n"
     ]
    },
    {
     "data": {
      "text/html": [],
      "text/plain": [
       "<IPython.core.display.HTML object>"
      ]
     },
     "metadata": {},
     "output_type": "display_data"
    },
    {
     "name": "stdout",
     "output_type": "stream",
     "text": [
      "Better model found at epoch 0 with valid_loss value: 0.7875000238418579.\n"
     ]
    },
    {
     "data": {
      "text/html": [],
      "text/plain": [
       "<IPython.core.display.HTML object>"
      ]
     },
     "metadata": {},
     "output_type": "display_data"
    },
    {
     "data": {
      "image/png": "[encoded data removed]",
      "text/plain": [
       "<Figure size 432x288 with 1 Axes>"
      ]
     },
     "metadata": {
      "needs_background": "light"
     },
     "output_type": "display_data"
    },
    {
     "data": {
      "image/png": "[encoded data removed]",
      "text/plain": [
       "<Figure size 432x288 with 1 Axes>"
      ]
     },
     "metadata": {
      "needs_background": "light"
     },
     "output_type": "display_data"
    },
    {
     "data": {
      "image/png": "[encoded data removed]",
      "text/plain": [
       "<Figure size 432x288 with 1 Axes>"
      ]
     },
     "metadata": {
      "needs_background": "light"
     },
     "output_type": "display_data"
    },
    {
     "data": {
      "image/png": "[encoded data removed]",
      "text/plain": [
       "<Figure size 432x288 with 1 Axes>"
      ]
     },
     "metadata": {
      "needs_background": "light"
     },
     "output_type": "display_data"
    },
    {
     "data": {
      "image/png": "[encoded data removed]",
      "text/plain": [
       "<Figure size 432x288 with 1 Axes>"
      ]
     },
     "metadata": {
      "needs_background": "light"
     },
     "output_type": "display_data"
    }
   ],
   "source": [
    "_RUN_TRAINING=True\n",
    "if _RUN_TRAINING:\n",
    "    log=import_log(EventLogs.Helpdesk)\n",
    "    o=PPObj(log,[Categorify,Datetify,Normalize],date_names=['timestamp'],cat_names=['activity','resource'],\n",
    "        y_names=['activity','resource','timestamp_Relative_elapsed'],splits=split_traces(log),)\n",
    "    dls=o.get_dls()\n",
    "    m=Camargo_specialized(o)\n",
    "    loss=0\n",
    "    metrics=get_metrics(o)\n",
    "    loss=partial(multi_loss_sum,o)\n",
    "    preds, actual = train_validate(dls,m,loss=loss,metrics=metrics,epoch=2,print_output=True,output_index=[1,2,3])"
   ]
  },
  {
   "cell_type": "code",
   "execution_count": null,
   "metadata": {
    "colab": {
     "base_uri": "https://localhost:8080/",
     "height": 279
    },
    "id": "Q7U0TWPkabmL",
    "outputId": "900357f7-1f86-44b8-87cb-2f979ca5b7c3"
   },
   "outputs": [
    {
     "data": {
      "image/png": "[encoded data removed]",
      "text/plain": [
       "<Figure size 432x288 with 2 Axes>"
      ]
     },
     "metadata": {
      "needs_background": "light"
     },
     "output_type": "display_data"
    }
   ],
   "source": [
    "#print(preds[2], actual[2])\n",
    "predicted = torch.argmax(preds[0], dim=1)\n",
    "actual = actual[0].detach().cpu().numpy()\n",
    "predicted = predicted.detach().cpu().numpy()\n",
    "cm = confusion_matrix(actual, predicted)\n",
    "disp = ConfusionMatrixDisplay(confusion_matrix=cm)\n",
    "disp.plot()\n",
    "plt.show()"
   ]
  },
  {
   "cell_type": "markdown",
   "metadata": {
    "id": "C2b0SQJi2-C3"
   },
   "source": [
    "### Concat"
   ]
  },
  {
   "cell_type": "code",
   "execution_count": null,
   "metadata": {
    "id": "EC2eHq7I2-C4"
   },
   "outputs": [],
   "source": [
    "#export\n",
    "class Camargo_concat(torch.nn.Module) :\n",
    "    def __init__(self, o ) :\n",
    "        super().__init__()\n",
    "        hidden=25\n",
    "        vocab_act=len(o.procs.categorify['activity'])\n",
    "        vocab_res=len(o.procs.categorify['resource'])\n",
    "        emb_dim_act = int(sqrt(vocab_act))+1\n",
    "        emb_dim_res = int(sqrt(vocab_res))+1\n",
    "\n",
    "        self.emb_act = nn.Embedding(vocab_act,emb_dim_act)\n",
    "        self.emb_res = nn.Embedding(vocab_res,emb_dim_res)\n",
    "\n",
    "        self.lstm_concat= nn.LSTM(emb_dim_act+emb_dim_res, hidden, batch_first=True, num_layers=1)\n",
    "        self.lstm_act = nn.LSTM(hidden, hidden, batch_first=True, num_layers=1)\n",
    "        self.lstm_res = nn.LSTM(hidden, hidden, batch_first=True, num_layers=1)\n",
    "        self.lstm_tim = nn.LSTM(1, hidden, batch_first=True, num_layers=2)\n",
    "\n",
    "        self.linear_act = nn.Linear(hidden, vocab_act)\n",
    "        self.linear_res = nn.Linear(hidden, vocab_res)\n",
    "        self.linear_tim = nn.Linear(hidden, 1)\n",
    "    def forward(self, xcat,xcont):\n",
    "        x_act,x_res,x_tim=xcat[:,0],xcat[:,1],xcont[:,:,None]\n",
    "        x_act = self.emb_act(x_act)\n",
    "\n",
    "        x_res = self.emb_res(x_res)\n",
    "        x_concat=torch.cat((x_act, x_res), 2)\n",
    "        x_concat,_=self.lstm_concat(x_concat)\n",
    "\n",
    "        x_act,_ = self.lstm_act(x_concat)\n",
    "        x_act = x_act[:,-1]\n",
    "        x_act = self.linear_act(x_act)\n",
    "        x_act = F.softmax(x_act,dim=1)\n",
    "\n",
    "        x_res,_ = self.lstm_res(x_concat)\n",
    "        x_res = x_res[:,-1]\n",
    "        x_res = self.linear_res(x_res)\n",
    "        x_res = F.softmax(x_res,dim=1)\n",
    "\n",
    "        x_tim,_ = self.lstm_tim(x_tim)\n",
    "        x_tim = x_tim[:,-1]\n",
    "        x_tim = self.linear_tim(x_tim)\n",
    "        return x_act,x_res,x_tim"
   ]
  },
  {
   "cell_type": "code",
   "execution_count": null,
   "metadata": {
    "id": "v6EZH7_72-C4"
   },
   "outputs": [],
   "source": [
    "m=Camargo_concat(o)\n",
    "p=m(xcat,xcont)"
   ]
  },
  {
   "cell_type": "code",
   "execution_count": null,
   "metadata": {
    "id": "Hw6nnvQB2-C4",
    "outputId": "fdd598a7-0366-467a-ab33-7f5829a9bd66"
   },
   "outputs": [
    {
     "name": "stdout",
     "output_type": "stream",
     "text": [
      "CPU times: user 2 µs, sys: 1 µs, total: 3 µs\n",
      "Wall time: 3.81 µs\n"
     ]
    }
   ],
   "source": [
    "%%time\n",
    "if _RUN_TRAINING:\n",
    "\n",
    "    log=import_log(EventLogs.Helpdesk)\n",
    "    o=PPObj(log,[Categorify,Datetify,Normalize()],date_names=['timestamp'],cat_names=['activity','resource'],\n",
    "        y_names=['activity','resource','timestamp_Relative_elapsed'],splits=split_traces(log),)\n",
    "    dls=o.get_dls()\n",
    "    m=Camargo_concat(o)\n",
    "    loss=0\n",
    "    loss=partial(multi_loss_sum,o)\n",
    "    train_validate(dls,m,loss=loss,metrics=get_metrics(o),epoch=1,print_output=True,output_index=[1,2,3])"
   ]
  },
  {
   "cell_type": "markdown",
   "metadata": {
    "id": "pH0t0lMk2-C4"
   },
   "source": [
    "### Full_Concat "
   ]
  },
  {
   "cell_type": "code",
   "execution_count": null,
   "metadata": {
    "id": "oDVnYl992-C5"
   },
   "outputs": [],
   "source": [
    "#export\n",
    "class Camargo_fullconcat(torch.nn.Module) :\n",
    "\n",
    "\n",
    "    def __init__(self, o  ) :\n",
    "        super().__init__()\n",
    "\n",
    "        hidden=25\n",
    "        vocab_act=len(o.procs.categorify['activity'])\n",
    "        vocab_res=len(o.procs.categorify['resource'])\n",
    "        emb_dim_act = int(sqrt(vocab_act))+1\n",
    "        emb_dim_res = int(sqrt(vocab_res))+1\n",
    "\n",
    "        self.emb_act = nn.Embedding(vocab_act,emb_dim_act)\n",
    "        self.emb_res = nn.Embedding(vocab_res,emb_dim_res)\n",
    "\n",
    "        self.lstm_concat= nn.LSTM(emb_dim_act+emb_dim_res+1, hidden, batch_first=True, num_layers=1)\n",
    "        self.lstm_act = nn.LSTM(hidden, hidden, batch_first=True, num_layers=1)\n",
    "        self.lstm_res = nn.LSTM(hidden, hidden, batch_first=True, num_layers=1)\n",
    "        self.lstm_tim = nn.LSTM(hidden, hidden, batch_first=True, num_layers=1)\n",
    "\n",
    "        self.linear_act = nn.Linear(hidden, vocab_act)\n",
    "        self.linear_res = nn.Linear(hidden, vocab_res)\n",
    "        self.linear_tim = nn.Linear(hidden, 1)\n",
    "    def forward(self, xcat,xcont):\n",
    "        x_act,x_res,x_tim=xcat[:,0],xcat[:,1],xcont[:,:,None]\n",
    "        x_act = self.emb_act(x_act)\n",
    "\n",
    "        x_res = self.emb_res(x_res)\n",
    "        x_concat=torch.cat((x_act, x_res,x_tim), 2)\n",
    "        x_concat,_=self.lstm_concat(x_concat)\n",
    "\n",
    "        x_act,_ = self.lstm_act(x_concat)\n",
    "        x_act = x_act[:,-1]\n",
    "        x_act = self.linear_act(x_act)\n",
    "        x_act = F.softmax(x_act,dim=1)\n",
    "\n",
    "        x_res,_ = self.lstm_res(x_concat)\n",
    "        x_res = x_res[:,-1]\n",
    "        x_res = self.linear_res(x_res)\n",
    "        x_res = F.softmax(x_res,dim=1)\n",
    "\n",
    "        x_tim,_ = self.lstm_tim(x_concat)\n",
    "        x_tim = x_tim[:,-1]\n",
    "        x_tim = self.linear_tim(x_tim)\n",
    "        return x_act,x_res,x_tim"
   ]
  },
  {
   "cell_type": "code",
   "execution_count": null,
   "metadata": {
    "id": "SFpUxRcW2-C5"
   },
   "outputs": [],
   "source": [
    "m=Camargo_fullconcat(o)\n",
    "p=m(xcat,xcont)"
   ]
  },
  {
   "cell_type": "code",
   "execution_count": null,
   "metadata": {
    "id": "ELn1TUAU2-C5",
    "outputId": "6cd8cc22-4c2c-4f91-ef60-265f3f27c6e2"
   },
   "outputs": [
    {
     "name": "stdout",
     "output_type": "stream",
     "text": [
      "CPU times: user 3 µs, sys: 0 ns, total: 3 µs\n",
      "Wall time: 3.81 µs\n"
     ]
    }
   ],
   "source": [
    "%%time\n",
    "if  _RUN_TRAINING:\n",
    "    log=import_log(EventLogs.Helpdesk)\n",
    "    o=PPObj(log,[Categorify,Datetify,Normalize],date_names=['timestamp'],cat_names=['activity','resource'],\n",
    "        y_names=['activity','resource','timestamp_Relative_elapsed'],splits=split_traces(log),)\n",
    "    dls=o.get_dls()\n",
    "    m=Camargo_fullconcat(o)\n",
    "    loss=0\n",
    "    loss=partial(multi_loss_sum,o)\n",
    "    train_validate(dls,m,loss=loss,metrics=get_metrics(o),epoch=1,print_output=True,output_index=[1,2,3])"
   ]
  },
  {
   "cell_type": "markdown",
   "metadata": {
    "id": "7oRx-jwz2-C5"
   },
   "source": [
    "### PPMS"
   ]
  },
  {
   "cell_type": "code",
   "execution_count": null,
   "metadata": {
    "id": "tU2XQSFW2-C5"
   },
   "outputs": [],
   "source": [
    "#export\n",
    "class PPM_Camargo_Spezialized(PPModel):\n",
    "\n",
    "    model = Camargo_specialized\n",
    "    date_names=['timestamp']\n",
    "    cat_names=['activity','resource']\n",
    "    y_names=['activity','resource','timestamp_Relative_elapsed']\n",
    "    cont_names=None\n",
    "    procs=[Categorify,Datetify,Normalize,FillMissing]\n",
    "\n",
    "    def setup(self):\n",
    "        o=PPObj(self.log,self.procs,cat_names=self.cat_names,date_names=self.date_names,y_names=self.y_names,\n",
    "                cont_names=self.cont_names,splits=self.splits)\n",
    "\n",
    "        loss=partial(multi_loss_sum,o)\n",
    "\n",
    "        # Next event prediction training\n",
    "        print('Next event prediction training')\n",
    "        dls=o.get_dls(bs=self.bs)\n",
    "        m=self.model(o)\n",
    "        self.nsp,self.nrp,self.dtnp=self._train_validate(dls,m,loss=loss,metrics=get_metrics(o),\n",
    "                                                   output_index=[1,2,3])\n",
    "\n",
    "\n",
    "        # Last event prediction training\n",
    "        print('Last event prediction training')\n",
    "        dls=o.get_dls(outcome=True,bs=self.bs)\n",
    "        m=self.model(o)\n",
    "        self.op,self.lrp,self.dtlp=self._train_validate(dls,m,loss=loss,metrics=get_metrics(o),\n",
    "                                                 output_index=[1,2,3])\n",
    "\n",
    "\n",
    "\n",
    "    def next_step_prediction(self): return self.nsp\n",
    "\n",
    "    def next_resource_prediction(self):return self.nrp\n",
    "\n",
    "    def last_resource_prediction(self): return self.lrp\n",
    "    def outcome_prediction(self): return self.op\n",
    "    def duration_to_next_event_prediction(self): return self.dtnp\n",
    "    def duration_to_end_prediction(self): return self.dtlp\n",
    "    def activity_suffix_prediction(self): pass\n",
    "    def resource_suffix_prediction(self): pass"
   ]
  },
  {
   "cell_type": "code",
   "execution_count": null,
   "metadata": {
    "id": "lZA1u9BP2-C5"
   },
   "outputs": [],
   "source": [
    "#export\n",
    "class PPM_Camargo_concat(PPM_Camargo_Spezialized):\n",
    "    model = Camargo_concat\n",
    "\n",
    "class PPM_Camargo_fullconcat(PPM_Camargo_Spezialized):\n",
    "    model = Camargo_fullconcat"
   ]
  },
  {
   "cell_type": "code",
   "execution_count": null,
   "metadata": {
    "id": "ysh3-_zh2-C5",
    "outputId": "4d285372-3581-418a-e145-371535eb1626"
   },
   "outputs": [
    {
     "name": "stdout",
     "output_type": "stream",
     "text": [
      "CPU times: user 3 µs, sys: 0 ns, total: 3 µs\n",
      "Wall time: 4.53 µs\n"
     ]
    }
   ],
   "source": [
    "%%time\n",
    "if _RUN_TRAINING:\n",
    "    path=EventLogs.Helpdesk\n",
    "    log=import_log(path)\n",
    "    ppm=PPM_Camargo_fullconcat(log,get_ds_name(path),print_output=True,epoch=1,bs=512,\n",
    "                               splits=split_traces(log))\n",
    "    ppm.evaluate()"
   ]
  },
  {
   "cell_type": "markdown",
   "metadata": {
    "id": "GdS2Rczt2-C6"
   },
   "source": [
    "## Evermann"
   ]
  },
  {
   "cell_type": "markdown",
   "metadata": {
    "id": "dJ9-FwFm2-C6"
   },
   "source": [
    "**Input**:  activity or resource  \n",
    "**Output**: activity or resource  \n",
    "**Loss**: cross_entropy(activity) or cross_entropy(resource)"
   ]
  },
  {
   "cell_type": "code",
   "execution_count": null,
   "metadata": {
    "id": "b4qtdudG2-C6"
   },
   "outputs": [],
   "source": [
    "#export\n",
    "\n",
    "class Evermann(torch.nn.Module) :\n",
    "    def __init__(self, o) :\n",
    "        super().__init__()\n",
    "        vocab_size=len(o.procs.categorify[o.y_names[0]])\n",
    "        hidden_dim=125\n",
    "        emb_dim = 5\n",
    "\n",
    "\n",
    "        self.embeddings = nn.Embedding(vocab_size, emb_dim)\n",
    "        self.lstm = nn.LSTM(emb_dim, hidden_dim, batch_first=True, num_layers=2)\n",
    "        self.linear = nn.Linear(hidden_dim, vocab_size)\n",
    "        self.dropout = nn.Dropout(0.2)\n",
    "\n",
    "    def forward(self, x):\n",
    "        x = self.embeddings(x.squeeze())\n",
    "        x = self.dropout(x)\n",
    "        x, _ = self.lstm(x)\n",
    "        x = self.linear(x[:,-1])\n",
    "        return F.softmax(x,dim=1)"
   ]
  },
  {
   "cell_type": "code",
   "execution_count": null,
   "metadata": {
    "id": "Mi2OrPjx2-C6"
   },
   "outputs": [],
   "source": [
    "col='activity'\n",
    "o=PPObj(log,procs=[Categorify],cat_names=col,y_names=col,splits=split_traces(log))\n",
    "dls=o.get_dls()\n",
    "xb,yb=dls.one_batch()"
   ]
  },
  {
   "cell_type": "code",
   "execution_count": null,
   "metadata": {
    "id": "BG8Tz-ov2-C6",
    "outputId": "e68758a1-bd1c-46db-99bb-4e5eb3239555"
   },
   "outputs": [
    {
     "data": {
      "text/plain": [
       "(torch.Size([64, 64]), torch.Size([64]))"
      ]
     },
     "execution_count": 30,
     "metadata": {},
     "output_type": "execute_result"
    }
   ],
   "source": [
    "xb.shape,yb.shape"
   ]
  },
  {
   "cell_type": "code",
   "execution_count": null,
   "metadata": {
    "id": "pqIAdc_L2-C6"
   },
   "outputs": [],
   "source": [
    "m=Evermann(o)"
   ]
  },
  {
   "cell_type": "code",
   "execution_count": null,
   "metadata": {
    "id": "Qn6XKWB92-C6",
    "outputId": "391f9593-47bc-4ea9-e882-bd1c83926277"
   },
   "outputs": [
    {
     "data": {
      "text/plain": [
       "(tensor(2.7095, grad_fn=<NllLossBackward>), TensorBase(0.0469))"
      ]
     },
     "execution_count": 32,
     "metadata": {},
     "output_type": "execute_result"
    }
   ],
   "source": [
    "pb=m(xb)\n",
    "F.cross_entropy(pb,yb),accuracy(pb,yb)"
   ]
  },
  {
   "cell_type": "code",
   "execution_count": null,
   "metadata": {
    "id": "gFizEC_C2-C6",
    "outputId": "d0698227-60e9-4122-8043-9c53cde90f04"
   },
   "outputs": [
    {
     "data": {
      "text/plain": [
       "tensor(2.7095, grad_fn=<SumBackward0>)"
      ]
     },
     "execution_count": 33,
     "metadata": {},
     "output_type": "execute_result"
    }
   ],
   "source": [
    "partial(multi_loss_sum,o)(pb,yb)"
   ]
  },
  {
   "cell_type": "code",
   "execution_count": null,
   "metadata": {
    "id": "J11W9PE22-C7"
   },
   "outputs": [],
   "source": [
    "loss=partial(multi_loss_sum,o)\n",
    "metrics=get_metrics(o)"
   ]
  },
  {
   "cell_type": "code",
   "execution_count": null,
   "metadata": {
    "id": "wZcBWe5u2-C7",
    "outputId": "1b84d155-437d-42f1-80fb-3edf27af94a4"
   },
   "outputs": [
    {
     "name": "stdout",
     "output_type": "stream",
     "text": [
      "CPU times: user 1 µs, sys: 1 µs, total: 2 µs\n",
      "Wall time: 4.05 µs\n"
     ]
    }
   ],
   "source": [
    "%%time\n",
    "if _RUN_TRAINING:\n",
    "    train_validate(dls,m,loss=loss,metrics=metrics,epoch=1)"
   ]
  },
  {
   "cell_type": "markdown",
   "metadata": {
    "id": "CG8pXiCx2-C7"
   },
   "source": [
    "### PPM"
   ]
  },
  {
   "cell_type": "code",
   "execution_count": null,
   "metadata": {
    "id": "TDiB62P32-C7"
   },
   "outputs": [],
   "source": [
    "#export\n",
    "class PPM_Evermann(PPM_RNNwEmbedding): \n",
    "    model = Evermann"
   ]
  },
  {
   "cell_type": "code",
   "execution_count": null,
   "metadata": {
    "id": "mXgPkfg-2-C7",
    "outputId": "90a92d08-19f1-477c-83c3-c07998b563a5"
   },
   "outputs": [
    {
     "name": "stdout",
     "output_type": "stream",
     "text": [
      "CPU times: user 2 µs, sys: 1e+03 ns, total: 3 µs\n",
      "Wall time: 3.81 µs\n"
     ]
    }
   ],
   "source": [
    "%%time\n",
    "if _RUN_TRAINING:\n",
    "    runner([EventLogs.Helpdesk,EventLogs.Mobis],[PPM_Evermann,PPM_RNNwEmbedding],\n",
    "           bs=1024,epoch=1,print_output=False)"
   ]
  },
  {
   "cell_type": "markdown",
   "metadata": {
    "id": "BTKYb9l_2-C7"
   },
   "source": [
    "## Tax"
   ]
  },
  {
   "cell_type": "markdown",
   "metadata": {
    "id": "sQ9dJhI12-C7"
   },
   "source": [
    "**Input**:  activity or duration  \n",
    "**Output**: activity or duration  \n",
    "**Loss**: cross_entropy(activity) or mae(duration) in days"
   ]
  },
  {
   "cell_type": "markdown",
   "metadata": {
    "id": "sjO2GpxQ2-C7"
   },
   "source": [
    "### Spezialized"
   ]
  },
  {
   "cell_type": "code",
   "execution_count": null,
   "metadata": {
    "id": "7BPyBW6j2-C7"
   },
   "outputs": [],
   "source": [
    "#export\n",
    "class Tax_et_al_spezialized(torch.nn.Module) :\n",
    "    def __init__(self,o) :\n",
    "        super().__init__()\n",
    "        vocab_size=len(o.procs.categorify[o.y_names[0]])\n",
    "        hidden_dim=125\n",
    "        self.lstm_act = nn.LSTM(vocab_size, hidden_dim, batch_first=True, num_layers=2)\n",
    "        self.lstm_tim = nn.LSTM(3, hidden_dim, batch_first=True, num_layers=2)\n",
    "\n",
    "        self.linear_act = nn.Linear(hidden_dim, vocab_size)\n",
    "        self.linear_tim = nn.Linear(hidden_dim, 1)\n",
    "\n",
    "\n",
    "    def forward(self, xcat,xcont):\n",
    "        x_act,x_tim = xcat.permute(0,2,1),xcont.squeeze().permute(0,2,1)\n",
    "        x_act, _ = self.lstm_act(x_act.float())\n",
    "        x_act=self.linear_act(x_act[:,-1])\n",
    "        x_act=F.softmax(x_act,dim=1)\n",
    "        x_tim, _ = self.lstm_tim(x_tim)\n",
    "        x_tim=self.linear_tim(x_tim[:,-1])\n",
    "        return x_act,x_tim"
   ]
  },
  {
   "cell_type": "code",
   "execution_count": null,
   "metadata": {
    "id": "3j1aTE0-2-C8"
   },
   "outputs": [],
   "source": [
    "log=import_log(EventLogs.BPIC_12)"
   ]
  },
  {
   "cell_type": "code",
   "execution_count": null,
   "metadata": {
    "id": "UtVjpMrO2-C8"
   },
   "outputs": [],
   "source": [
    "datetify=Datetify(date_encodings=['secSinceSunNoon','secSinceNoon','Relative_elapsed'])\n",
    "o=PPObj(log,[Categorify,OneHot,datetify,Normalize],cat_names='activity',splits=split_traces(log),\n",
    "        date_names='timestamp',y_names=['activity','timestamp_Relative_elapsed'])\n",
    "dls=o.get_dls()"
   ]
  },
  {
   "cell_type": "code",
   "execution_count": null,
   "metadata": {
    "id": "PZPOSrae2-C8"
   },
   "outputs": [],
   "source": [
    "xcat,xcont,yb=(dls.one_batch())"
   ]
  },
  {
   "cell_type": "code",
   "execution_count": null,
   "metadata": {
    "id": "Eh67Bh7P2-C8",
    "outputId": "d43dc490-c228-438d-e7e3-358f75b656c9"
   },
   "outputs": [
    {
     "data": {
      "text/plain": [
       "(#3) ['timestamp_secSinceSunNoon','timestamp_secSinceNoon','timestamp_Relative_elapsed']"
      ]
     },
     "execution_count": 42,
     "metadata": {},
     "output_type": "execute_result"
    }
   ],
   "source": [
    "o.cont_names"
   ]
  },
  {
   "cell_type": "code",
   "execution_count": null,
   "metadata": {
    "id": "8KEi84x52-C8"
   },
   "outputs": [],
   "source": [
    "m=Tax_et_al_spezialized(o)"
   ]
  },
  {
   "cell_type": "code",
   "execution_count": null,
   "metadata": {
    "id": "vdGM0Ldc2-C8"
   },
   "outputs": [],
   "source": [
    "p=m(xcat,xcont)"
   ]
  },
  {
   "cell_type": "code",
   "execution_count": null,
   "metadata": {
    "id": "rmPXoPKD2-C8",
    "outputId": "8c6e4d20-bf9a-46e9-87be-683f5c537155"
   },
   "outputs": [
    {
     "data": {
      "text/plain": [
       "TensorBase(4.4224, grad_fn=<AliasBackward>)"
      ]
     },
     "execution_count": 45,
     "metadata": {},
     "output_type": "execute_result"
    }
   ],
   "source": [
    "loss=partial(multi_loss_sum,o)\n",
    "loss(p,yb)"
   ]
  },
  {
   "cell_type": "code",
   "execution_count": null,
   "metadata": {
    "id": "jPIb11l42-C8"
   },
   "outputs": [],
   "source": [
    "metrics=get_metrics(o)\n"
   ]
  },
  {
   "cell_type": "code",
   "execution_count": null,
   "metadata": {
    "id": "zbYhcKHc2-C8"
   },
   "outputs": [],
   "source": [
    "if _RUN_TRAINING:\n",
    "    datetify=Datetify(date_encodings=['secSinceSunNoon','secSinceNoon','Relative_elapsed'])\n",
    "    o=PPObj(log,[Categorify,OneHot,datetify,Normalize],cat_names='activity',splits=split_traces(log),\n",
    "            date_names='timestamp',y_names=['activity','timestamp_Relative_elapsed'])\n",
    "    dls=o.get_dls()\n",
    "    m=Tax_et_al_spezialized(o)\n",
    "    loss=partial(multi_loss_sum,o)\n",
    "    metrics=get_metrics(o)\n",
    "    train_validate(dls,m,loss=loss,metrics=metrics,epoch=1,output_index=[1,2])"
   ]
  },
  {
   "cell_type": "markdown",
   "metadata": {
    "id": "TC_XUVFh2-C9"
   },
   "source": [
    "### Shared"
   ]
  },
  {
   "cell_type": "code",
   "execution_count": null,
   "metadata": {
    "id": "eNDhfRVb2-C9"
   },
   "outputs": [],
   "source": [
    "#export\n",
    "class Tax_et_al_shared(torch.nn.Module) :\n",
    "    def __init__(self,o) :\n",
    "        super().__init__()\n",
    "        vocab_size=len(o.procs.categorify[o.y_names[0]])\n",
    "        hidden_dim=125\n",
    "        self.lstm = nn.LSTM(vocab_size+3, hidden_dim, batch_first=True, num_layers=2)\n",
    "\n",
    "        self.linear_act = nn.Linear(hidden_dim, vocab_size)\n",
    "        self.linear_tim = nn.Linear(hidden_dim, 1)\n",
    "\n",
    "\n",
    "    def forward(self,xcat,xcont):\n",
    "        x_act,x_tim = xcat.permute(0,2,1),xcont.squeeze().permute(0,2,1)\n",
    "\n",
    "        x_concat=torch.cat((x_act.float(), x_tim), 2)\n",
    "        x_concat, _ = self.lstm(x_concat)\n",
    "\n",
    "        x_act=self.linear_act(x_concat[:,-1])\n",
    "        x_act=F.softmax(x_act,dim=1)\n",
    "\n",
    "        x_tim=self.linear_tim(x_concat[:,-1])\n",
    "        return x_act,x_tim"
   ]
  },
  {
   "cell_type": "code",
   "execution_count": null,
   "metadata": {
    "id": "pPU2YSZV2-C9"
   },
   "outputs": [],
   "source": [
    "m=Tax_et_al_shared(o)"
   ]
  },
  {
   "cell_type": "code",
   "execution_count": null,
   "metadata": {
    "id": "V7_KZKTw2-C9"
   },
   "outputs": [],
   "source": [
    "p=m(xcat,xcont)"
   ]
  },
  {
   "cell_type": "code",
   "execution_count": null,
   "metadata": {
    "id": "9h6Xvn0K2-C9",
    "outputId": "da7d8be1-dd6c-403c-cfa8-88f798566698"
   },
   "outputs": [
    {
     "data": {
      "text/plain": [
       "TensorBase(4.3842, grad_fn=<AliasBackward>)"
      ]
     },
     "execution_count": 51,
     "metadata": {},
     "output_type": "execute_result"
    }
   ],
   "source": [
    "loss(p,yb)"
   ]
  },
  {
   "cell_type": "code",
   "execution_count": null,
   "metadata": {
    "id": "7aSrG6Fp2-C9"
   },
   "outputs": [],
   "source": [
    "if _RUN_TRAINING:\n",
    "    datetify=Datetify(date_encodings=['secSinceSunNoon','secSinceNoon','Relative_elapsed'])\n",
    "    o=PPObj(log,[Categorify,OneHot,datetify,Normalize],cat_names='activity',splits=split_traces(log),\n",
    "            date_names='timestamp',y_names=['activity','timestamp_Relative_elapsed'])\n",
    "    m=Tax_et_al_shared(o)\n",
    "    dls=o.get_dls()\n",
    "    loss=partial(multi_loss_sum,o)\n",
    "    metrics=get_metrics(o)\n",
    "    train_validate(dls,m,loss=loss,metrics=metrics,epoch=1,output_index=[1,2])"
   ]
  },
  {
   "cell_type": "markdown",
   "metadata": {
    "id": "tMw5nE7U2-C9"
   },
   "source": [
    "### Mixed"
   ]
  },
  {
   "cell_type": "code",
   "execution_count": null,
   "metadata": {
    "id": "FzvUJvr12-C9"
   },
   "outputs": [],
   "source": [
    "#export\n",
    "class Tax_et_al_mixed(torch.nn.Module) :\n",
    "    def __init__(self,o,numlayers_shared=3,numlayers_single=3) :\n",
    "        super().__init__()\n",
    "        vocab_size=len(o.procs.categorify[o.y_names[0]])\n",
    "        hidden_dim=125\n",
    "\n",
    "        self.lstm_act = nn.LSTM(hidden_dim, hidden_dim, batch_first=True, num_layers=numlayers_single)\n",
    "        self.lstm_tim = nn.LSTM(hidden_dim, hidden_dim, batch_first=True, num_layers=numlayers_single)\n",
    "        self.lstm = nn.LSTM(vocab_size+3, hidden_dim, batch_first=True, num_layers=numlayers_shared)\n",
    "\n",
    "        self.linear_act = nn.Linear(hidden_dim, vocab_size)\n",
    "        self.linear_tim = nn.Linear(hidden_dim, 1)\n",
    "\n",
    "\n",
    "    def forward(self,xcat,xcont):\n",
    "        x_act,x_tim = xcat.permute(0,2,1),xcont.squeeze().permute(0,2,1)\n",
    "\n",
    "\n",
    "        x_concat=torch.cat((x_act.float(), x_tim), 2)\n",
    "        x_concat, _ = self.lstm(x_concat)\n",
    "\n",
    "        x_act, _ = self.lstm_act(x_concat)\n",
    "        x_act=self.linear_act(x_act[:,-1])\n",
    "        x_act=F.softmax(x_act,dim=1)\n",
    "\n",
    "        x_tim, _ = self.lstm_tim(x_concat)\n",
    "        x_tim=self.linear_tim(x_tim[:,-1])\n",
    "        return x_act,x_tim"
   ]
  },
  {
   "cell_type": "code",
   "execution_count": null,
   "metadata": {
    "id": "FtL0bwYV2-C9"
   },
   "outputs": [],
   "source": [
    "m=Tax_et_al_mixed(o)"
   ]
  },
  {
   "cell_type": "code",
   "execution_count": null,
   "metadata": {
    "id": "bbx34q2y2-C9"
   },
   "outputs": [],
   "source": [
    "xcat,xcont,yb=dls.one_batch()"
   ]
  },
  {
   "cell_type": "code",
   "execution_count": null,
   "metadata": {
    "id": "MkAHJW_92-C9"
   },
   "outputs": [],
   "source": [
    "p=m(xcat,xcont)"
   ]
  },
  {
   "cell_type": "code",
   "execution_count": null,
   "metadata": {
    "id": "c5f4mAoN2-C-",
    "outputId": "1511f6e2-8e74-4aef-ec36-e3ac31ff3d16"
   },
   "outputs": [
    {
     "data": {
      "text/plain": [
       "TensorBase(4.6303, grad_fn=<AliasBackward>)"
      ]
     },
     "execution_count": 57,
     "metadata": {},
     "output_type": "execute_result"
    }
   ],
   "source": [
    "loss(p,yb)"
   ]
  },
  {
   "cell_type": "code",
   "execution_count": null,
   "metadata": {
    "id": "_ovIL6c72-C-"
   },
   "outputs": [],
   "source": [
    "log=import_log(EventLogs.BPIC_12)\n",
    "traces=split_traces(log)[0][:100]\n",
    "splits=traces[:60],traces[60:80],traces[80:100]\n",
    "splits=split_traces(log)"
   ]
  },
  {
   "cell_type": "code",
   "execution_count": null,
   "metadata": {
    "id": "F07nyQYK2-C-"
   },
   "outputs": [],
   "source": [
    "if _RUN_TRAINING:\n",
    "    datetify=Datetify(date_encodings=['secSinceSunNoon','secSinceNoon','Relative_elapsed'])\n",
    "    o=PPObj(log,[Categorify,OneHot,datetify,Normalize],cat_names='activity',splits=splits,\n",
    "            date_names='timestamp',y_names=['activity','timestamp_Relative_elapsed'])\n",
    "    m=Tax_et_al_mixed(o)  \n",
    "    dls=o.get_dls()\n",
    "    loss=partial(multi_loss_sum,o)\n",
    "    metrics=get_metrics(o)\n",
    "    train_validate(dls,m,loss=loss,metrics=metrics,epoch=1,output_index=[1,2],lr_find=False)"
   ]
  },
  {
   "cell_type": "markdown",
   "metadata": {
    "id": "_IxpT-4j2-C-"
   },
   "source": [
    "### PPM"
   ]
  },
  {
   "cell_type": "code",
   "execution_count": null,
   "metadata": {
    "id": "uq-SK33H2-C-"
   },
   "outputs": [],
   "source": [
    "#export\n",
    "class PPM_Tax_Spezialized(PPModel):\n",
    "\n",
    "    model = Tax_et_al_spezialized\n",
    "    date_names=['timestamp']\n",
    "    cat_names=['activity']\n",
    "    y_names=['activity','timestamp_Relative_elapsed']\n",
    "    cont_names=None\n",
    "    procs=[Categorify,OneHot,Datetify(date_encodings=['secSinceSunNoon','secSinceNoon','Relative_elapsed']),\n",
    "           Normalize,FillMissing]\n",
    "\n",
    "    def setup(self):\n",
    "        o=PPObj(self.log,self.procs,cat_names=self.cat_names,date_names=self.date_names,y_names=self.y_names,\n",
    "                cont_names=self.cont_names,splits=self.splits)\n",
    "\n",
    "        loss=partial(multi_loss_sum,o)\n",
    "\n",
    "        # Next event prediction training\n",
    "        print('Next event prediction training')\n",
    "        dls=o.get_dls(bs=self.bs)\n",
    "        m=self.model(o)\n",
    "        self.nsp,self.dtnp=self._train_validate(dls,m,loss=loss,metrics=get_metrics(o),\n",
    "                                                   output_index=[1,2])\n",
    "\n",
    "\n",
    "        # Last event prediction training\n",
    "        print('Last event prediction training')\n",
    "        dls=o.get_dls(outcome=True,bs=self.bs)\n",
    "        m=self.model(o)\n",
    "        self.op,self.dtlp=self._train_validate(dls,m,loss=loss,metrics=get_metrics(o),\n",
    "                                                 output_index=[1,2])\n",
    "\n",
    "\n",
    "\n",
    "    def next_step_prediction(self): return self.nsp\n",
    "\n",
    "\n",
    "    def outcome_prediction(self): return self.op\n",
    "    def duration_to_next_event_prediction(self): return self.dtnp\n",
    "    def duration_to_end_prediction(self): return self.dtlp\n",
    "    def activity_suffix_prediction(self): pass\n",
    "    def resource_suffix_prediction(self): pass"
   ]
  },
  {
   "cell_type": "code",
   "execution_count": null,
   "metadata": {
    "id": "vwUH_mOu2-C-"
   },
   "outputs": [],
   "source": [
    "#export\n",
    "class PPM_Tax_Shared(PPM_Tax_Spezialized):\n",
    "    model = Tax_et_al_shared\n",
    "\n",
    "class PPM_Tax_Mixed(PPM_Tax_Spezialized):\n",
    "    model = Tax_et_al_mixed"
   ]
  },
  {
   "cell_type": "code",
   "execution_count": null,
   "metadata": {
    "id": "NdxRfUfC2-C-",
    "outputId": "7db82ade-5f69-4f3f-c605-8247cca48ae6"
   },
   "outputs": [
    {
     "name": "stdout",
     "output_type": "stream",
     "text": [
      "CPU times: user 2 µs, sys: 1e+03 ns, total: 3 µs\n",
      "Wall time: 4.77 µs\n"
     ]
    }
   ],
   "source": [
    "%%time\n",
    "if _RUN_TRAINING:\n",
    "    log=import_log(path)\n",
    "    ppm=PPM_Tax_Mixed(log,get_ds_name(path),sample=True,print_output=True,epoch=1,bs=512,splits=split_traces(log))\n",
    "    ppm.evaluate()"
   ]
  },
  {
   "cell_type": "markdown",
   "metadata": {
    "id": "AGqJb5Pz2-C-"
   },
   "source": [
    "## Mida"
   ]
  },
  {
   "cell_type": "markdown",
   "metadata": {
    "id": "tq8DP6Tb2-C-"
   },
   "source": [
    "**Input**: multi categorical atts and multi cont atts  \n",
    "**Output**: activity or resource or duration  \n",
    "**Loss**: cross_entropy(activity) or cross_entropy(resource) or mae(duration) in days"
   ]
  },
  {
   "cell_type": "code",
   "execution_count": null,
   "metadata": {
    "id": "5XX77K_c2-C-"
   },
   "outputs": [],
   "source": [
    "#export\n",
    "class MiDA(Module):\n",
    "    def __init__(self,o,seq_len=64) :\n",
    "        super().__init__()\n",
    "        hidden_dim1=100\n",
    "        hidden_dim2=100\n",
    "\n",
    "        out=o.y_names[0]\n",
    "        emb_szs=[(len(o.procs.categorify[c]),len(o.procs.categorify[c])//2 ) for c in o.cat_names ]\n",
    "        self.embeds = nn.ModuleList([Embedding(ni, nf) for ni,nf in emb_szs])\n",
    "        self.n_cont=len(o.cont_names)\n",
    "        self.n_emb = sum(e.embedding_dim for e in self.embeds)\n",
    "        self.lstm1=nn.LSTM(self.n_cont+self.n_emb, hidden_dim1, batch_first=True, num_layers=1)\n",
    "\n",
    "        self.bn_cont = nn.BatchNorm1d(self.n_cont)\n",
    "        self.lstm2=nn.LSTM(hidden_dim1, hidden_dim2, batch_first=True, num_layers=1)\n",
    "        #self.bn2=nn.BatchNorm1d(seq_len)\n",
    "        #self.bn1=nn.BatchNorm1d(seq_len)\n",
    "\n",
    "        if out in  o.procs.categorify.classes:\n",
    "            self.lin=nn.Linear(hidden_dim2,len(o.procs.categorify[out]))\n",
    "            self.is_classifier=True\n",
    "        else:\n",
    "            self.lin=nn.Linear(hidden_dim2,1)\n",
    "            self.is_classifier=False\n",
    "\n",
    "\n",
    "    def forward(self, x_cat,x_cont):\n",
    "        if self.n_emb != 0:\n",
    "            x = [e(x_cat[:,i]) for i,e in enumerate(self.embeds)]\n",
    "            x = torch.cat(x, 2)\n",
    "        if self.n_cont != 0:\n",
    "            if self.n_cont == 1: x_cont=x_cont[:,None]\n",
    "            if self.bn_cont: x_cont=self.bn_cont(x_cont).transpose(2,1)\n",
    "            x = torch.cat([x, x_cont], 2) if self.n_emb != 0 else x_cont\n",
    "\n",
    "        x,_=self.lstm1(x)\n",
    "        #x= self.bn1(x)\n",
    "        x,h=self.lstm2(x)\n",
    "        #x=self.bn2(x[:,-1])\n",
    "        x=self.lin(x[:,-1])\n",
    "        if self.is_classifier: x=F.softmax(x,1)\n",
    "        return x"
   ]
  },
  {
   "cell_type": "code",
   "execution_count": null,
   "metadata": {
    "id": "ihcA33R92-C_"
   },
   "outputs": [],
   "source": [
    "log=import_log(EventLogs.Helpdesk)"
   ]
  },
  {
   "cell_type": "code",
   "execution_count": null,
   "metadata": {
    "id": "rrXzVG1F2-C_"
   },
   "outputs": [],
   "source": [
    "o=PPObj(log,[Categorify,Normalize,Datetify,FillMissing],\n",
    "        cat_names=['activity','resource'],date_names=['timestamp'],y_names='activity',splits=split_traces(log))\n",
    "dls=o.get_dls()"
   ]
  },
  {
   "cell_type": "code",
   "execution_count": null,
   "metadata": {
    "id": "naYWSGdO2-C_"
   },
   "outputs": [],
   "source": [
    "xcat,xcont,yb=dls.one_batch()"
   ]
  },
  {
   "cell_type": "code",
   "execution_count": null,
   "metadata": {
    "id": "YvtmMHR-2-C_"
   },
   "outputs": [],
   "source": [
    "m=MiDA(o)"
   ]
  },
  {
   "cell_type": "code",
   "execution_count": null,
   "metadata": {
    "id": "1L8XIBOH2-C_"
   },
   "outputs": [],
   "source": [
    "p=m(xcat,xcont)"
   ]
  },
  {
   "cell_type": "code",
   "execution_count": null,
   "metadata": {
    "id": "0duAfmP02-C_",
    "outputId": "e24010ee-6ec7-4e86-c784-e2146e9da887"
   },
   "outputs": [
    {
     "name": "stdout",
     "output_type": "stream",
     "text": [
      "CPU times: user 1 µs, sys: 0 ns, total: 1 µs\n",
      "Wall time: 4.29 µs\n"
     ]
    }
   ],
   "source": [
    "%%time\n",
    "if  _RUN_TRAINING:\n",
    "    log=import_log(EventLogs.BPIC_12)\n",
    "    o=PPObj(log,[Categorify,Normalize,Datetify,FillMissing],\n",
    "            cat_names=['activity','resource'],date_names=['timestamp'],\n",
    "            splits=split_traces(log))\n",
    "    o.set_y_names('timestamp_Relative_elapsed')\n",
    "    dls=o.get_dls(bs=512)\n",
    "    seq_len=o.items.event_id.max()\n",
    "    m=MiDA(o,seq_len)\n",
    "    loss=partial(multi_loss_sum,o)\n",
    "    metrics=get_metrics(o)\n",
    "    train_validate(dls,m,epoch=5,loss=loss,metrics=metrics,print_output=True)"
   ]
  },
  {
   "cell_type": "markdown",
   "metadata": {
    "id": "0nEvuxZX2-C_"
   },
   "source": [
    "### PPM"
   ]
  },
  {
   "cell_type": "code",
   "execution_count": null,
   "metadata": {
    "id": "8_U8bmLi2-C_"
   },
   "outputs": [],
   "source": [
    "subsequences_fast??"
   ]
  },
  {
   "cell_type": "code",
   "execution_count": null,
   "metadata": {
    "id": "Vb1udvr12-C_"
   },
   "outputs": [],
   "source": [
    "#export\n",
    "\n",
    "class PPM_MiDA(PPModel):\n",
    "    model = MiDA\n",
    "\n",
    "    procs=[Categorify,Normalize,Datetify,FillMissing]\n",
    "\n",
    "    def _attr_from_dict(self,ds_name):\n",
    "        if not self.attr_dict: raise AttributeError('attr_dict is required!')\n",
    "\n",
    "        return (listify(self.attr_dict[self.ds_name]['cat attr']),\n",
    "                listify(self.attr_dict[self.ds_name]['num attr']),\n",
    "                listify(self.attr_dict[self.ds_name]['date attr']))\n",
    "\n",
    "    def setup(self):\n",
    "        cat_names,cont_names,date_names=self._attr_from_dict(self.ds_name)\n",
    "        self.o=PPObj(self.log,[Categorify,Normalize,Datetify,FillMissing],\n",
    "                     cat_names=cat_names,date_names=date_names,cont_names=cont_names,\n",
    "                     splits=self.splits)\n",
    "\n",
    "\n",
    "\n",
    "\n",
    "\n",
    "    def next_step_prediction(self,col='activity',outcome=False):\n",
    "        seq_len=(self.o.items.event_id.max()) # seq_len = max trace len, Todo make it nicer\n",
    "        self.o.set_y_names(col)\n",
    "        print(self.o.y_names)\n",
    "        dls=self.o.get_dls(bs=self.bs,outcome=outcome)\n",
    "        m=self.model(self.o,seq_len)\n",
    "        loss=partial(multi_loss_sum,self.o)\n",
    "        metrics=get_metrics(self.o)\n",
    "        return self._train_validate(dls,m,loss=loss,metrics=metrics)\n",
    "\n",
    "    def next_resource_prediction(self):return self.next_step_prediction(outcome=False,col='resource')\n",
    "\n",
    "    def last_resource_prediction(self): return self.next_step_prediction(outcome=True,col='resource')\n",
    "    def outcome_prediction(self): return self.next_step_prediction(outcome=True,col='activity')\n",
    "\n",
    "    def duration_to_next_event_prediction(self):\n",
    "        return self.next_step_prediction(outcome=False,col='timestamp_Relative_elapsed')\n",
    "\n",
    "    def duration_to_end_prediction(self):\n",
    "        return self.next_step_prediction(outcome=True,col='timestamp_Relative_elapsed')"
   ]
  },
  {
   "cell_type": "code",
   "execution_count": null,
   "metadata": {
    "id": "STrZvcCm2-C_"
   },
   "outputs": [],
   "source": [
    "#export\n",
    "def create_attr_dict(attr_list):\n",
    "    attr_df=pd.DataFrame(attr_list,columns=['name','cat attr','num attr','date attr'])\n",
    "    attr_df.index=attr_df.name\n",
    "    attr_df.drop('name',axis=1,inplace=True)\n",
    "    attr_df.index.name=\"\"\n",
    "    attr_dict=attr_df.apply(lambda x:(x.str.split(', '))).T.to_dict()\n",
    "    return attr_dict"
   ]
  },
  {
   "cell_type": "code",
   "execution_count": null,
   "metadata": {
    "id": "OUujcub42-C_"
   },
   "outputs": [],
   "source": [
    "#export\n",
    "\n",
    "attr_list=[\n",
    "    ['BPIC12','activity, resource','AMOUNT_REQ','timestamp'],\n",
    "    ['BPIC12_W','activity, resource','AMOUNT_REQ','timestamp'],\n",
    "    ['BPIC12_Wc','activity, resource','AMOUNT_REQ','timestamp'],\n",
    "    ['BPIC12_O','activity, resource','AMOUNT_REQ','timestamp'],\n",
    "    ['BPIC12_A','activity, resource','AMOUNT_REQ','timestamp'],\n",
    "    ['Mobis','activity, resource, type','cost','timestamp'],\n",
    "    ['BPIC13_CP','activity, resource, resource country, organization country, organization involved, impact, product, org:role',\n",
    "     None,'timestamp'],\n",
    "    ['Helpdesk','activity, resource',None,'timestamp'],\n",
    "    ['BPIC17_O','activity, Action, NumberOfTerms, resource',\n",
    "     'FirstWithdrawalAmount, MonthlyCost, OfferedAmount, CreditScore', 'timestamp'],\n",
    "    ['BPIC20_RFP','org:role, activity, resource, Project, Task, OrganizationalEntity',\n",
    "     'RequestedAmount','timestamp']\n",
    "]\n",
    "\n",
    "\n",
    "attr_dict=create_attr_dict(attr_list)"
   ]
  },
  {
   "cell_type": "code",
   "execution_count": null,
   "metadata": {
    "id": "4A6VwMLf2-DA",
    "outputId": "c630e6cd-04a2-41a1-ab1b-b7139584415c"
   },
   "outputs": [
    {
     "name": "stdout",
     "output_type": "stream",
     "text": [
      "['activity']\n"
     ]
    },
    {
     "data": {
      "text/html": [],
      "text/plain": [
       "<IPython.core.display.HTML object>"
      ]
     },
     "metadata": {},
     "output_type": "display_data"
    },
    {
     "data": {
      "text/html": [],
      "text/plain": [
       "<IPython.core.display.HTML object>"
      ]
     },
     "metadata": {},
     "output_type": "display_data"
    },
    {
     "data": {
      "text/html": [],
      "text/plain": [
       "<IPython.core.display.HTML object>"
      ]
     },
     "metadata": {},
     "output_type": "display_data"
    },
    {
     "data": {
      "text/html": [],
      "text/plain": [
       "<IPython.core.display.HTML object>"
      ]
     },
     "metadata": {},
     "output_type": "display_data"
    },
    {
     "data": {
      "text/html": [],
      "text/plain": [
       "<IPython.core.display.HTML object>"
      ]
     },
     "metadata": {},
     "output_type": "display_data"
    },
    {
     "data": {
      "text/html": [
       "<table border=\"1\" class=\"dataframe\">\n",
       "  <thead>\n",
       "    <tr style=\"text-align: left;\">\n",
       "      <th>epoch</th>\n",
       "      <th>train_loss</th>\n",
       "      <th>valid_loss</th>\n",
       "      <th>acc_activity</th>\n",
       "      <th>time</th>\n",
       "    </tr>\n",
       "  </thead>\n",
       "  <tbody>\n",
       "    <tr>\n",
       "      <td>0</td>\n",
       "      <td>2.552496</td>\n",
       "      <td>2.540823</td>\n",
       "      <td>0.275680</td>\n",
       "      <td>00:01</td>\n",
       "    </tr>\n",
       "  </tbody>\n",
       "</table>"
      ],
      "text/plain": [
       "<IPython.core.display.HTML object>"
      ]
     },
     "metadata": {},
     "output_type": "display_data"
    },
    {
     "name": "stdout",
     "output_type": "stream",
     "text": [
      "Better model found at epoch 0 with valid_loss value: 2.540823221206665.\n"
     ]
    },
    {
     "data": {
      "text/html": [],
      "text/plain": [
       "<IPython.core.display.HTML object>"
      ]
     },
     "metadata": {},
     "output_type": "display_data"
    },
    {
     "name": "stdout",
     "output_type": "stream",
     "text": [
      "Better model found at epoch 0 with valid_loss value: 0.27172619104385376.\n",
      "CPU times: user 12.3 s, sys: 14 s, total: 26.3 s\n",
      "Wall time: 28 s\n"
     ]
    }
   ],
   "source": [
    "%%time\n",
    "if _RUN_TRAINING:\n",
    "    path=EventLogs.Helpdesk\n",
    "    log=import_log(path)\n",
    "    ppm=PPM_MiDA(log,get_ds_name(path),print_output=True,epoch=1,bs=512,attr_dict=attr_dict,splits=split_traces(log))\n",
    "    ppm.setup()\n",
    "    ppm.next_step_prediction()"
   ]
  },
  {
   "cell_type": "code",
   "execution_count": null,
   "metadata": {
    "id": "cYmP2skG2-DA"
   },
   "outputs": [],
   "source": []
  },
  {
   "cell_type": "markdown",
   "metadata": {
    "id": "I_aJqzdT2-DA",
    "toc": true
   },
   "source": [
    "<h1>Table of Contents<span class=\"tocSkip\"></span></h1>\n",
    "<div class=\"toc\"><ul class=\"toc-item\"><li><span><a href=\"#Models\" data-toc-modified-id=\"Models-1\"><span class=\"toc-item-num\">1&nbsp;&nbsp;</span>Models</a></span></li><li><span><a href=\"#Training\" data-toc-modified-id=\"Training-2\"><span class=\"toc-item-num\">2&nbsp;&nbsp;</span>Training</a></span></li><li><span><a href=\"#PPM\" data-toc-modified-id=\"PPM-3\"><span class=\"toc-item-num\">3&nbsp;&nbsp;</span>PPM</a></span></li></ul></div>"
   ]
  },
  {
   "cell_type": "code",
   "execution_count": null,
   "metadata": {
    "id": "0wjJwsiz2-DA"
   },
   "outputs": [],
   "source": [
    "# default_exp mppn"
   ]
  },
  {
   "cell_type": "markdown",
   "metadata": {
    "id": "OneLu-4R2-DA"
   },
   "source": [
    "MPPN\n",
    "===\n",
    "\n"
   ]
  },
  {
   "cell_type": "markdown",
   "metadata": {
    "id": "Y_rcIS4o2-DA"
   },
   "source": [
    "This notebook includes the implementation of the `MPPN` as described in the paper. It includes the pytorch models, a training procedure containing pre-processing and data loader generation, the implementation of the `PPModel` based on MPPN's pytorch models for each process prediction task."
   ]
  },
  {
   "cell_type": "code",
   "execution_count": null,
   "metadata": {
    "id": "pf-aHfHd2-DA"
   },
   "outputs": [],
   "source": [
    "#hide\n",
    "\n",
    "%load_ext autoreload\n",
    "%autoreload 2\n",
    "%load_ext memory_profiler\n",
    "%load_ext line_profiler\n",
    "%matplotlib inline"
   ]
  },
  {
   "cell_type": "code",
   "execution_count": null,
   "metadata": {
    "id": "cni14R3h2-DA"
   },
   "outputs": [],
   "source": [
    "_RUN_TRAINING=True"
   ]
  },
  {
   "cell_type": "markdown",
   "metadata": {
    "heading_collapsed": true,
    "id": "i-CHVCH82-DB"
   },
   "source": [
    "## Models"
   ]
  },
  {
   "cell_type": "code",
   "execution_count": null,
   "metadata": {
    "colab": {
     "base_uri": "https://localhost:8080/",
     "height": 232
    },
    "hidden": true,
    "id": "WbC4xBrR2-DB",
    "outputId": "329437e8-e06a-4f09-9863-baf5ec6aa04c"
   },
   "outputs": [
    {
     "ename": "NameError",
     "evalue": "ignored",
     "output_type": "error",
     "traceback": [
      "\u001b[0;31m---------------------------------------------------------------------------\u001b[0m",
      "\u001b[0;31mNameError\u001b[0m                                 Traceback (most recent call last)",
      "\u001b[0;32m<ipython-input-1-4145979fd730>\u001b[0m in \u001b[0;36m<module>\u001b[0;34m()\u001b[0m\n\u001b[1;32m      1\u001b[0m \u001b[0;31m#export\u001b[0m\u001b[0;34m\u001b[0m\u001b[0;34m\u001b[0m\u001b[0;34m\u001b[0m\u001b[0m\n\u001b[1;32m      2\u001b[0m \u001b[0;34m\u001b[0m\u001b[0m\n\u001b[0;32m----> 3\u001b[0;31m \u001b[0;32mclass\u001b[0m \u001b[0mBaseMPPN\u001b[0m\u001b[0;34m(\u001b[0m\u001b[0mnn\u001b[0m\u001b[0;34m.\u001b[0m\u001b[0mModule\u001b[0m\u001b[0;34m)\u001b[0m\u001b[0;34m:\u001b[0m\u001b[0;34m\u001b[0m\u001b[0;34m\u001b[0m\u001b[0m\n\u001b[0m\u001b[1;32m      4\u001b[0m \u001b[0;34m\u001b[0m\u001b[0m\n\u001b[1;32m      5\u001b[0m     \u001b[0;32mdef\u001b[0m \u001b[0m__init__\u001b[0m\u001b[0;34m(\u001b[0m\u001b[0mself\u001b[0m\u001b[0;34m,\u001b[0m \u001b[0mnum_perspectives\u001b[0m\u001b[0;34m,\u001b[0m \u001b[0mfeature_size\u001b[0m\u001b[0;34m=\u001b[0m\u001b[0;36m64\u001b[0m\u001b[0;34m,\u001b[0m \u001b[0moutput_dim\u001b[0m\u001b[0;34m=\u001b[0m\u001b[0;36m128\u001b[0m\u001b[0;34m)\u001b[0m\u001b[0;34m:\u001b[0m\u001b[0;34m\u001b[0m\u001b[0;34m\u001b[0m\u001b[0m\n",
      "\u001b[0;31mNameError\u001b[0m: name 'nn' is not defined"
     ]
    }
   ],
   "source": [
    "#export\n",
    "\n",
    "class BaseMPPN(nn.Module):\n",
    "\n",
    "    def __init__(self, num_perspectives, feature_size=64, output_dim=128):\n",
    "        super(BaseMPPN, self).__init__()\n",
    "        self.feature_size = feature_size\n",
    "        self.output_dim = output_dim\n",
    "        self.mode = 99\n",
    "        self.stop_training = False\n",
    "\n",
    "        if self.mode == 1:\n",
    "            self.num_perspectives = 1\n",
    "        else:\n",
    "            self.num_perspectives = num_perspectives\n",
    "\n",
    "        self.CNN = nn.Sequential(\n",
    "            nn.Conv2d(3, 32, kernel_size=4, stride=4, padding=2),\n",
    "            nn.ReLU(inplace=True),\n",
    "            nn.Conv2d(32, 64, kernel_size=4, padding=2),\n",
    "            nn.ReLU(inplace=True),\n",
    "            nn.MaxPool2d(kernel_size=4, stride=2),\n",
    "            nn.Conv2d(64, 64, kernel_size=4, padding=2),\n",
    "            nn.ReLU(inplace=True),\n",
    "            nn.MaxPool2d(kernel_size=3, stride=2),\n",
    "            nn.Conv2d(in_channels=64, out_channels=self.feature_size, kernel_size=3, padding=1),\n",
    "            nn.ReLU(inplace=True),\n",
    "            nn.MaxPool2d(kernel_size=3, stride=2),\n",
    "        )\n",
    "\n",
    "        self.MLP = nn.Sequential(\n",
    "            nn.Dropout(p=0.1),\n",
    "            nn.Linear(self.num_perspectives * self.feature_size, self.num_perspectives * self.feature_size),\n",
    "            nn.ReLU(inplace=True),\n",
    "            nn.Dropout(p=0.1),\n",
    "            nn.Linear(self.num_perspectives * self.feature_size, self.num_perspectives * int(self.feature_size)),\n",
    "            nn.ReLU(inplace=True),\n",
    "            nn.Linear(self.num_perspectives * int(self.feature_size), self.output_dim),\n",
    "        )\n",
    "\n",
    "    def forward(self, x):\n",
    "        x = x.transpose(0, 1)\n",
    "\n",
    "        view_pool = []\n",
    "\n",
    "        for v in x:\n",
    "            \"\"\"size of v: [batch_size, 3, img_height, img_width]\"\"\"\n",
    "            \"\"\"Get features from GAFs using CNN\"\"\"\n",
    "            v = self.CNN(v)\n",
    "            \"\"\"size of v: [batch_size, feature_size, ?, ?], last two should be 1, 1\"\"\"\n",
    "            \"\"\"Reduce dimensions from 4 to 2 (first is batchsize)\"\"\"\n",
    "            v = v.view(v.size(0), self.feature_size)\n",
    "\n",
    "\n",
    "            view_pool.append(v)\n",
    "\n",
    "\n",
    "        pooled_view = view_pool[0]\n",
    "        \"\"\"Max-pooling of all views\"\"\"\n",
    "        if self.mode == 1:\n",
    "            for i in range(1, len(view_pool)):\n",
    "                pooled_view = torch.max(pooled_view, view_pool[i])\n",
    "\n",
    "        else:\n",
    "            \"\"\"Concatenate features from all perspectives\"\"\"\n",
    "            pooled_view = torch.cat(view_pool, dim=1)\n",
    "\n",
    "        \"\"\"Get representation from MLP\"\"\"\n",
    "        representation = self.MLP(pooled_view)\n",
    "\n",
    "        return representation\n",
    "\n",
    "    def count_parameters(self):\n",
    "\n",
    "        param_CNN = sum(p.numel() for p in self.MLP.parameters() if p.requires_grad)\n",
    "        param_MLP = sum(p.numel() for p in self.MLP.parameters() if p.requires_grad)\n",
    "\n",
    "        params = param_CNN + param_MLP\n",
    "\n",
    "        return params"
   ]
  },
  {
   "cell_type": "code",
   "execution_count": null,
   "metadata": {
    "hidden": true,
    "id": "1EUV8rTz2-DB"
   },
   "outputs": [],
   "source": [
    "#export\n",
    "\n",
    "class MPPNClassifier(BaseMPPN):\n",
    "    \"\"\"\n",
    "    Extends Base MPPN with one classification layer.\n",
    "    \"\"\"\n",
    "\n",
    "    def __init__(self, num_perspectives, num_classes, feature_size=64, output_dim=128,with_softmax=True):\n",
    "        super().__init__(num_perspectives, feature_size=feature_size, output_dim=output_dim)\n",
    "        self.with_softmax=num_classes!=1\n",
    "        self.classification = nn.Sequential(\n",
    "            nn.ReLU(inplace=True),\n",
    "            nn.Dropout(p=0.1),\n",
    "            nn.Linear(output_dim, num_classes)\n",
    "        )\n",
    "\n",
    "    def forward(self, x):\n",
    "        representation = BaseMPPN.forward(self, x)\n",
    "        classifier_output = self.classification(representation)\n",
    "        if self.with_softmax:\n",
    "            classifier_output=F.log_softmax(classifier_output,dim=1)\n",
    "        return classifier_output"
   ]
  },
  {
   "cell_type": "code",
   "execution_count": null,
   "metadata": {
    "hidden": true,
    "id": "55I5whue2-DB"
   },
   "outputs": [],
   "source": [
    "#export\n",
    "\n",
    "class MPPNMultitask(BaseMPPN):\n",
    "    \"\"\"\n",
    "    Extends the MPPNClassifier with multiple heads to predict multiple outputs at once.\n",
    "    \"\"\"\n",
    "    def __init__(self, num_perspectives, output_attr, feature_size=64, representation_dim=128):\n",
    "        super().__init__(num_perspectives, feature_size=feature_size, output_dim=representation_dim)\n",
    "        del self.MLP\n",
    "\n",
    "        self.output_attr = output_attr\n",
    "        self.representation_dim = representation_dim\n",
    "\n",
    "        \"\"\"Get the output dimension of the CNN\"\"\"\n",
    "        self.CNN_out_dim = self.CNN[-3].out_channels\n",
    "\n",
    "        self.MLP = nn.Sequential(\n",
    "            nn.Dropout(p=0.1),\n",
    "            nn.Linear(self.num_perspectives * self.feature_size, self.num_perspectives * int(self.feature_size/2)),\n",
    "            nn.ReLU(inplace=True),\n",
    "            nn.Dropout(p=0.1),\n",
    "            nn.Linear(self.num_perspectives * int(self.feature_size/2), self.representation_dim),\n",
    "        )\n",
    "\n",
    "        \"\"\"Dynamically create heads for each attribute to predict\"\"\"\n",
    "        self.output_attr = self.output_attr\n",
    "        self.heads = nn.ModuleList()\n",
    "        for attr_name, output_dim in self.output_attr.items():\n",
    "            #print(\"Head\", attr_name)\n",
    "            self.heads.append(self.create_head(output_dim))\n",
    "\n",
    "\n",
    "    def forward(self, x):\n",
    "\n",
    "        x = x.transpose(0, 1)\n",
    "\n",
    "        view_pool = []\n",
    "\n",
    "        for v in x:\n",
    "            \"\"\"size of v: [batch_size, 3, img_height, img_width]\"\"\"\n",
    "            \"\"\"Get features from GAFs using CNN\"\"\"\n",
    "            v = self.CNN(v)\n",
    "            \"\"\"size of v: [batch_size, feature_size, ?, ?], last two should be 1, 1\"\"\"\n",
    "            \"\"\"Reduce dimensions from 4 to 2 (first is batchsize)\"\"\"\n",
    "            v = v.view(v.size(0), self.feature_size)\n",
    "\n",
    "            view_pool.append(v)\n",
    "\n",
    "        pooled_view = view_pool[0]\n",
    "        \"\"\"Max-pooling of all views\"\"\"\n",
    "        if self.mode == 1:\n",
    "            for i in range(1, len(view_pool)):\n",
    "                pooled_view = torch.max(pooled_view, view_pool[i])\n",
    "\n",
    "        else:\n",
    "            \"\"\"Concatenate features from all perspectives\"\"\"\n",
    "            pooled_view = torch.cat(view_pool, dim=1)\n",
    "\n",
    "        shared = self.MLP(pooled_view)\n",
    "\n",
    "        outputs = []\n",
    "\n",
    "        \"\"\"Predict each attribute\"\"\"\n",
    "        for head in self.heads:\n",
    "            if head[-1].out_features > 1:\n",
    "                outputs.append(F.log_softmax(head(shared), dim=1))\n",
    "            else:\n",
    "                outputs.append(head(shared))\n",
    "\n",
    "        return outputs\n",
    "\n",
    "\n",
    "    def create_head(self, num_classes):\n",
    "        \"\"\"Create a head, i.e. a subnetwork to predict a certain attribute in multi-task fashion\"\"\"\n",
    "        head = nn.Sequential(\n",
    "            nn.Dropout(p=0.1),\n",
    "            nn.Linear(self.representation_dim, self.representation_dim),\n",
    "            nn.ReLU(inplace=True),\n",
    "            nn.Linear(self.representation_dim, num_classes)\n",
    "        )\n",
    "\n",
    "        return head\n",
    "\n",
    "    def count_parameters(self):\n",
    "\n",
    "        param_CNN = sum(p.numel() for p in self.MLP.parameters() if p.requires_grad)\n",
    "        param_MLP = sum(p.numel() for p in self.MLP.parameters() if p.requires_grad)\n",
    "        param_heads = sum(p.numel() for head in self.heads for p in head.parameters() if p.requires_grad)\n",
    "\n",
    "        params = param_CNN + param_MLP + param_heads\n",
    "\n",
    "        return params"
   ]
  },
  {
   "cell_type": "code",
   "execution_count": null,
   "metadata": {
    "hidden": true,
    "id": "CbD9-y_m2-DC"
   },
   "outputs": [],
   "source": [
    "#export\n",
    "\n",
    "def load_checkpoint(path, filename):\n",
    "    \"\"\"\n",
    "    Load checkpoint from disk\n",
    "\n",
    "    Parameters\n",
    "    ----------\n",
    "    path\n",
    "    filename\n",
    "\n",
    "    Returns\n",
    "    -------\n",
    "\n",
    "    \"\"\"\n",
    "    loadpath = os.path.join(path, filename + '_checkpoint.pth.tar')\n",
    "\n",
    "    assert os.path.isfile(loadpath), 'Error: no checkpoint file found!'\n",
    "\n",
    "    checkpoint = torch.load(loadpath)\n",
    "\n",
    "    return checkpoint"
   ]
  },
  {
   "cell_type": "code",
   "execution_count": null,
   "metadata": {
    "hidden": true,
    "id": "l3-RA3ZG2-DC"
   },
   "outputs": [],
   "source": [
    "#export\n",
    "\n",
    "import torch.utils.model_zoo as model_zoo\n",
    "model_urls = {\n",
    "    'alexnet': 'https://download.pytorch.org/models/alexnet-owt-4df8aa71.pth',\n",
    "}\n",
    "\n",
    "def mppn_pretraining_model(pretrained=False, **kwargs):\n",
    "    \"\"\"Returns a model either pretrained as alexnet or on GAF images.\"\"\"\n",
    "    model = MPPNClassifier(**kwargs)\n",
    "\n",
    "    pretrained_model = \"alexnet\"\n",
    "\n",
    "    if pretrained:\n",
    "        if pretrained_model == \"alexnet\":\n",
    "            print(\"Loading Alexnet to train MPPNs CNN from scratch\")\n",
    "            pretrained_dict = model_zoo.load_url(model_urls['alexnet'])\n",
    "            model_dict = model.state_dict()\n",
    "            # 1. filter out unnecessary keys\n",
    "            pretrained_dict = {k: v for k, v in pretrained_dict.items() if\n",
    "                               k in model_dict and v.shape == model_dict[k].shape}\n",
    "            # 2. overwrite entries in the existing state dict\n",
    "            model_dict.update(pretrained_dict)\n",
    "            # 3. load the new state dict\n",
    "            model.load_state_dict(model_dict)\n",
    "\n",
    "        elif pretrained_model == \"MPPN_GAF\":\n",
    "            print(\"Load pretrained MPPN trained with GAFs on variant classification\")\n",
    "            checkpoint = load_checkpoint(os.path.join(root_dir(), \"data\", \"ML\", \"checkpoint\"),\n",
    "                                         filename=\"MPPN_gaf_pretrained\")\n",
    "            best_model = checkpoint[\"model\"]\n",
    "            best_model.load_state_dict(checkpoint['state_dict'])\n",
    "\n",
    "            model.CNN = best_model.CNN\n",
    "\n",
    "    return model"
   ]
  },
  {
   "cell_type": "code",
   "execution_count": null,
   "metadata": {
    "hidden": true,
    "id": "YGAd4jrg2-DC"
   },
   "outputs": [],
   "source": [
    "#export\n",
    "\n",
    "def mppn_representation_learning_model(pretrained, num_perspectives, output_attr, feature_size=64, representation_dim=128):\n",
    "    \"\"\"Returns a model for representation learning (multitask). CNN is pretrained on GAF images\"\"\"\n",
    "    model = MPPNMultitask(num_perspectives, output_attr, feature_size, representation_dim)\n",
    "\n",
    "    if pretrained:\n",
    "        print(\"Load pretrained MPPN trained with GAFs on variant classification\")\n",
    "        #checkpoint = load previously trained model on GAF images\n",
    "        best_model = checkpoint[\"model\"]\n",
    "        best_model.load_state_dict(checkpoint['state_dict'])\n",
    "\n",
    "        model.CNN = best_model.CNN\n",
    "    else:\n",
    "        alexnet_mppn = mppn_pretraining_model(pretrained=True, num_perspectives=num_perspectives, num_classes=1)\n",
    "        model.CNN = alexnet_mppn.CNN\n",
    "\n",
    "    return model"
   ]
  },
  {
   "cell_type": "code",
   "execution_count": null,
   "metadata": {
    "hidden": true,
    "id": "LgAjNWyM2-DC"
   },
   "outputs": [],
   "source": [
    "#export\n",
    "\n",
    "def mppn_fine_tuning_model(representation_model, num_perspectives, num_classes):\n",
    "    \"\"\"\n",
    "    Fine-tune a MPPN model that has been trained as representation model on a specific task\n",
    "\n",
    "    Parameters\n",
    "    ----------\n",
    "    dataset: Specifies the dataset, for which the model was trained before.\n",
    "\n",
    "    Returns\n",
    "    -------\n",
    "    \"\"\"\n",
    "\n",
    "\n",
    "    model = MPPNClassifier(num_perspectives, num_classes=num_classes)\n",
    "\n",
    "    model.CNN = representation_model.CNN\n",
    "    model.MLP = representation_model.MLP\n",
    "\n",
    "\n",
    "    return model"
   ]
  },
  {
   "cell_type": "markdown",
   "metadata": {
    "id": "QozUae3d2-DC"
   },
   "source": [
    "## Training"
   ]
  },
  {
   "cell_type": "code",
   "execution_count": null,
   "metadata": {
    "id": "pf058I_a2-DC"
   },
   "outputs": [],
   "source": [
    "#export\n",
    "\n",
    "from pyts.image import GramianAngularField\n",
    "from PIL import Image\n",
    "\n",
    "def _gaf_loop(e,transformer):\n",
    "        inp,y=e\n",
    "        inp[inp>1]=1\n",
    "        inp[inp<0]=0\n",
    "        inp=inp*2-1\n",
    "        x=torch.stack(\n",
    "            tuple(_gaf_attr(inp[:,i],transformer) for i in range(inp.shape[1]))\n",
    "        ).transpose(0,1)\n",
    "        x=x[:,:,None].expand(-1,-1,3,-1,-1)\n",
    "        return x,y\n",
    "\n",
    "def _gaf_attr(x,transformer):\n",
    "    try:\n",
    "\n",
    "        x = transformer.transform(x)\n",
    "    except ValueError as e:\n",
    "        print(x)\n",
    "        raise e\n",
    "    x=tensor(x).cuda()\n",
    "    x = x * 255\n",
    "    return x\n",
    "\n",
    "\n",
    "\n",
    "class gaf_transform(ItemTransform):\n",
    "    ''' GAF transormation: converts a bash into a gramian angular field and reshapes it to RGB'''\n",
    "    def __init__(self,gs=64):\n",
    "        self.transformer=GramianAngularField(image_size=gs,sample_range=None, method=\"s\", overlapping=True)\n",
    "\n",
    "    def encodes(self,e): return _gaf_loop(e,self.transformer)"
   ]
  },
  {
   "cell_type": "code",
   "execution_count": null,
   "metadata": {
    "id": "DPU9QW9U2-DD"
   },
   "outputs": [],
   "source": [
    "v=torch.rand((2556,10,100)),10\n",
    "gt=gaf_transform()"
   ]
  },
  {
   "cell_type": "code",
   "execution_count": null,
   "metadata": {
    "id": "xQGE_6TB2-DD",
    "outputId": "70975c91-a89a-479d-8d30-6aab0864508e"
   },
   "outputs": [
    {
     "name": "stdout",
     "output_type": "stream",
     "text": [
      "CPU times: user 5.55 s, sys: 1.22 s, total: 6.78 s\n",
      "Wall time: 3.71 s\n"
     ]
    }
   ],
   "source": [
    "%%time\n",
    "x,y=gt(v)\n"
   ]
  },
  {
   "cell_type": "code",
   "execution_count": null,
   "metadata": {
    "id": "flPnZDyq2-DD"
   },
   "outputs": [],
   "source": [
    "#export\n",
    "def mppn_get_output_attributes(o):\n",
    "    '''Utility function that puts vocab size of each output attribute in a dict. \n",
    "    For regression tasks, it adds vocab size 1'''\n",
    "    output_attributes = {i:len(o.procs.categorify[i]) for i in o.ycat_names }\n",
    "    for i in o.ycont_names: output_attributes[i]=1\n",
    "    return output_attributes"
   ]
  },
  {
   "cell_type": "markdown",
   "metadata": {
    "id": "9aSyQsp_2-DD"
   },
   "source": [
    "The next few cells show how to create a dataloader for MPPN and apply them to the representation learning and the finetuning step"
   ]
  },
  {
   "cell_type": "code",
   "execution_count": null,
   "metadata": {
    "id": "-7vFe0C12-DD",
    "outputId": "c7c25db7-4ebc-4c19-9b9a-6a46948f7e52"
   },
   "outputs": [
    {
     "name": "stdout",
     "output_type": "stream",
     "text": [
      "Loading Alexnet to train MPPNs CNN from scratch\n"
     ]
    }
   ],
   "source": [
    "# Create mppn repreentation learning and create the dataloader\n",
    "path=EventLogs.Mobis\n",
    "log=import_log(path)\n",
    "_t=attr_dict[get_ds_name(path)]\n",
    "cat_names,cont_names,date_names=[_t[i] for i in list(_t)]\n",
    "o=PPObj(log,[Categorify,Datetify,FillMissing,MinMax],\n",
    "        cat_names=cat_names,cont_names=cont_names,date_names=date_names,\n",
    "        splits=split_traces(log),y_names=['activity','resource','timestamp_Relative_elapsed_minmax'])\n",
    "output_attributes=mppn_get_output_attributes(o)\n",
    "m = mppn_representation_learning_model(False, len(o.cont_names), output_attributes)\n",
    "dls=o.get_dls(after_batch=gaf_transform,bs=64)\n"
   ]
  },
  {
   "cell_type": "code",
   "execution_count": null,
   "metadata": {
    "id": "ZGNV8hBk2-DD"
   },
   "outputs": [],
   "source": [
    "# Get one batch\n",
    "xb,yb=dls.one_batch()"
   ]
  },
  {
   "cell_type": "code",
   "execution_count": null,
   "metadata": {
    "id": "iE8Ihmp22-DD"
   },
   "outputs": [],
   "source": [
    "# Get loss and metrics\n",
    "loss=partial(multi_loss_sum,o)\n",
    "metrics=get_metrics(o)\n"
   ]
  },
  {
   "cell_type": "code",
   "execution_count": null,
   "metadata": {
    "id": "4x00y3xk2-DD",
    "outputId": "47e20640-8568-4004-a6cd-210884255d77"
   },
   "outputs": [
    {
     "data": {
      "text/plain": [
       "TensorBase(10.9851, grad_fn=<AliasBackward>)"
      ]
     },
     "execution_count": 19,
     "metadata": {},
     "output_type": "execute_result"
    }
   ],
   "source": [
    "# Test forward pass\n",
    "xb=xb.cpu()\n",
    "p=m(xb)\n",
    "loss(p,yb)"
   ]
  },
  {
   "cell_type": "code",
   "execution_count": null,
   "metadata": {
    "id": "LXhXOm-n2-DD",
    "outputId": "a0741921-d59f-491f-d3bc-b50daf123086"
   },
   "outputs": [
    {
     "data": {
      "text/html": [],
      "text/plain": [
       "<IPython.core.display.HTML object>"
      ]
     },
     "metadata": {},
     "output_type": "display_data"
    },
    {
     "data": {
      "text/html": [],
      "text/plain": [
       "<IPython.core.display.HTML object>"
      ]
     },
     "metadata": {},
     "output_type": "display_data"
    },
    {
     "data": {
      "text/html": [],
      "text/plain": [
       "<IPython.core.display.HTML object>"
      ]
     },
     "metadata": {},
     "output_type": "display_data"
    },
    {
     "data": {
      "text/html": [],
      "text/plain": [
       "<IPython.core.display.HTML object>"
      ]
     },
     "metadata": {},
     "output_type": "display_data"
    },
    {
     "data": {
      "text/html": [],
      "text/plain": [
       "<IPython.core.display.HTML object>"
      ]
     },
     "metadata": {},
     "output_type": "display_data"
    },
    {
     "data": {
      "text/html": [
       "<table border=\"1\" class=\"dataframe\">\n",
       "  <thead>\n",
       "    <tr style=\"text-align: left;\">\n",
       "      <th>epoch</th>\n",
       "      <th>train_loss</th>\n",
       "      <th>valid_loss</th>\n",
       "      <th>acc_activity</th>\n",
       "      <th>acc_resource</th>\n",
       "      <th>mae_days</th>\n",
       "      <th>time</th>\n",
       "    </tr>\n",
       "  </thead>\n",
       "  <tbody>\n",
       "    <tr>\n",
       "      <td>0</td>\n",
       "      <td>2.806212</td>\n",
       "      <td>2.718509</td>\n",
       "      <td>0.939918</td>\n",
       "      <td>0.402286</td>\n",
       "      <td>6.824545</td>\n",
       "      <td>00:57</td>\n",
       "    </tr>\n",
       "  </tbody>\n",
       "</table>"
      ],
      "text/plain": [
       "<IPython.core.display.HTML object>"
      ]
     },
     "metadata": {},
     "output_type": "display_data"
    },
    {
     "name": "stdout",
     "output_type": "stream",
     "text": [
      "Better model found at epoch 0 with valid_loss value: 2.7185089588165283.\n"
     ]
    },
    {
     "data": {
      "text/html": [],
      "text/plain": [
       "<IPython.core.display.HTML object>"
      ]
     },
     "metadata": {},
     "output_type": "display_data"
    },
    {
     "name": "stdout",
     "output_type": "stream",
     "text": [
      "Better model found at epoch 0 with valid_loss value: 0.940420389175415.\n"
     ]
    },
    {
     "data": {
      "image/png": "[encoded data removed]",
      "text/plain": [
       "<Figure size 432x288 with 1 Axes>"
      ]
     },
     "metadata": {
      "needs_background": "light"
     },
     "output_type": "display_data"
    },
    {
     "data": {
      "image/png": "[encoded data removed]",
      "text/plain": [
       "<Figure size 432x288 with 1 Axes>"
      ]
     },
     "metadata": {
      "needs_background": "light"
     },
     "output_type": "display_data"
    },
    {
     "data": {
      "image/png": "[encoded data removed]",
      "text/plain": [
       "<Figure size 432x288 with 1 Axes>"
      ]
     },
     "metadata": {
      "needs_background": "light"
     },
     "output_type": "display_data"
    },
    {
     "data": {
      "image/png": "[encoded data removed]",
      "text/plain": [
       "<Figure size 432x288 with 1 Axes>"
      ]
     },
     "metadata": {
      "needs_background": "light"
     },
     "output_type": "display_data"
    },
    {
     "data": {
      "image/png": "[encoded data removed]",
      "text/plain": [
       "<Figure size 432x288 with 1 Axes>"
      ]
     },
     "metadata": {
      "needs_background": "light"
     },
     "output_type": "display_data"
    }
   ],
   "source": [
    "# Train representation learning model\n",
    "if _RUN_TRAINING:\n",
    "    train_validate(dls,m,loss=loss,metrics=metrics,epoch=1)"
   ]
  },
  {
   "cell_type": "code",
   "execution_count": null,
   "metadata": {
    "id": "x5Zc_2dX2-DE"
   },
   "outputs": [],
   "source": [
    "# Create Fine-tuning model\n",
    "col='activity'\n",
    "m2 = mppn_fine_tuning_model(m, len(output_attributes), output_attributes[col])"
   ]
  },
  {
   "cell_type": "code",
   "execution_count": null,
   "metadata": {
    "id": "5M7s_oaj2-DE"
   },
   "outputs": [],
   "source": [
    "# Change input and output features for the dataloader\n",
    "o.ycat_names=L(col)\n",
    "o.ycont_names=L()"
   ]
  },
  {
   "cell_type": "code",
   "execution_count": null,
   "metadata": {
    "id": "LVtsF6U62-DE"
   },
   "outputs": [],
   "source": [
    "# get new dataloader for next-activity prediction\n",
    "dls=o.get_dls(after_batch=gaf_transform,bs=60)"
   ]
  },
  {
   "cell_type": "code",
   "execution_count": null,
   "metadata": {
    "id": "4MAff4QQ2-DE"
   },
   "outputs": [],
   "source": [
    "# get new loss and metrics for for next-activity prediction\n",
    "loss=partial(multi_loss_sum,o)\n",
    "metrics=get_metrics(o)"
   ]
  },
  {
   "cell_type": "code",
   "execution_count": null,
   "metadata": {
    "id": "HCGiNDHA2-DE",
    "outputId": "d1dcf8ca-fe44-46d4-eb01-e41825022375"
   },
   "outputs": [
    {
     "data": {
      "text/plain": [
       "TensorBase(0., device='cuda:0')"
      ]
     },
     "execution_count": 25,
     "metadata": {},
     "output_type": "execute_result"
    }
   ],
   "source": [
    "# Test forward pass\n",
    "\n",
    "xb,yb=dls.one_batch()\n",
    "yb.shape\n",
    "\n",
    "p=m2.cuda()(xb.cuda())\n",
    "\n",
    "accuracy(p.cuda(),yb.cuda())"
   ]
  },
  {
   "cell_type": "code",
   "execution_count": null,
   "metadata": {
    "id": "St8Xqxq42-DE",
    "outputId": "bb0ec641-f145-406b-8bb5-a691e7ae00d6"
   },
   "outputs": [
    {
     "data": {
      "text/html": [],
      "text/plain": [
       "<IPython.core.display.HTML object>"
      ]
     },
     "metadata": {},
     "output_type": "display_data"
    },
    {
     "data": {
      "text/html": [],
      "text/plain": [
       "<IPython.core.display.HTML object>"
      ]
     },
     "metadata": {},
     "output_type": "display_data"
    },
    {
     "data": {
      "text/html": [],
      "text/plain": [
       "<IPython.core.display.HTML object>"
      ]
     },
     "metadata": {},
     "output_type": "display_data"
    },
    {
     "data": {
      "text/html": [],
      "text/plain": [
       "<IPython.core.display.HTML object>"
      ]
     },
     "metadata": {},
     "output_type": "display_data"
    },
    {
     "data": {
      "text/html": [],
      "text/plain": [
       "<IPython.core.display.HTML object>"
      ]
     },
     "metadata": {},
     "output_type": "display_data"
    },
    {
     "data": {
      "text/html": [
       "<table border=\"1\" class=\"dataframe\">\n",
       "  <thead>\n",
       "    <tr style=\"text-align: left;\">\n",
       "      <th>epoch</th>\n",
       "      <th>train_loss</th>\n",
       "      <th>valid_loss</th>\n",
       "      <th>acc_activity</th>\n",
       "      <th>time</th>\n",
       "    </tr>\n",
       "  </thead>\n",
       "  <tbody>\n",
       "    <tr>\n",
       "      <td>0</td>\n",
       "      <td>0.201164</td>\n",
       "      <td>0.185873</td>\n",
       "      <td>0.936980</td>\n",
       "      <td>00:58</td>\n",
       "    </tr>\n",
       "    <tr>\n",
       "      <td>1</td>\n",
       "      <td>0.164601</td>\n",
       "      <td>0.175458</td>\n",
       "      <td>0.930531</td>\n",
       "      <td>00:53</td>\n",
       "    </tr>\n",
       "    <tr>\n",
       "      <td>2</td>\n",
       "      <td>0.193403</td>\n",
       "      <td>0.174247</td>\n",
       "      <td>0.940000</td>\n",
       "      <td>00:54</td>\n",
       "    </tr>\n",
       "    <tr>\n",
       "      <td>3</td>\n",
       "      <td>0.187607</td>\n",
       "      <td>0.199790</td>\n",
       "      <td>0.936327</td>\n",
       "      <td>00:54</td>\n",
       "    </tr>\n",
       "    <tr>\n",
       "      <td>4</td>\n",
       "      <td>0.203035</td>\n",
       "      <td>0.222902</td>\n",
       "      <td>0.927510</td>\n",
       "      <td>00:54</td>\n",
       "    </tr>\n",
       "  </tbody>\n",
       "</table>"
      ],
      "text/plain": [
       "<IPython.core.display.HTML object>"
      ]
     },
     "metadata": {},
     "output_type": "display_data"
    },
    {
     "name": "stdout",
     "output_type": "stream",
     "text": [
      "Better model found at epoch 0 with valid_loss value: 0.18587279319763184.\n",
      "Better model found at epoch 1 with valid_loss value: 0.17545795440673828.\n",
      "Better model found at epoch 2 with valid_loss value: 0.17424732446670532.\n",
      "No improvement since epoch 1: early stopping\n"
     ]
    },
    {
     "data": {
      "text/html": [],
      "text/plain": [
       "<IPython.core.display.HTML object>"
      ]
     },
     "metadata": {},
     "output_type": "display_data"
    },
    {
     "name": "stdout",
     "output_type": "stream",
     "text": [
      "Better model found at epoch 0 with valid_loss value: 0.939941942691803.\n"
     ]
    },
    {
     "data": {
      "image/png": "[encoded data removed]",
      "text/plain": [
       "<Figure size 432x288 with 1 Axes>"
      ]
     },
     "metadata": {
      "needs_background": "light"
     },
     "output_type": "display_data"
    },
    {
     "data": {
      "image/png": "[encoded data removed]",
      "text/plain": [
       "<Figure size 432x288 with 1 Axes>"
      ]
     },
     "metadata": {
      "needs_background": "light"
     },
     "output_type": "display_data"
    },
    {
     "data": {
      "image/png": "[encoded data removed]",
      "text/plain": [
       "<Figure size 432x288 with 1 Axes>"
      ]
     },
     "metadata": {
      "needs_background": "light"
     },
     "output_type": "display_data"
    },
    {
     "data": {
      "image/png": "[encoded data removed]",
      "text/plain": [
       "<Figure size 432x288 with 1 Axes>"
      ]
     },
     "metadata": {
      "needs_background": "light"
     },
     "output_type": "display_data"
    },
    {
     "data": {
      "image/png": "[encoded data removed]",
      "text/plain": [
       "<Figure size 432x288 with 1 Axes>"
      ]
     },
     "metadata": {
      "needs_background": "light"
     },
     "output_type": "display_data"
    }
   ],
   "source": [
    "# Train model\n",
    "if _RUN_TRAINING:\n",
    "    train_validate(dls,m2,loss=loss,metrics=metrics,epoch=1)"
   ]
  },
  {
   "cell_type": "markdown",
   "metadata": {
    "id": "r_4qGWRF2-DE"
   },
   "source": [
    "## PPM"
   ]
  },
  {
   "cell_type": "markdown",
   "metadata": {
    "id": "jz5Dp_6Q2-DE"
   },
   "source": [
    "Creates the PPM for the MPPM. In the setup der general representation learning model is trained. Afterwards, in each prediction task, a seperate head is created, which is than fine-tuned for the specific task."
   ]
  },
  {
   "cell_type": "code",
   "execution_count": null,
   "metadata": {
    "id": "5n7Xv_-E2-DE"
   },
   "outputs": [],
   "source": [
    "#export\n",
    "import copy"
   ]
  },
  {
   "cell_type": "code",
   "execution_count": null,
   "metadata": {
    "id": "4CM7wrBh2-DE"
   },
   "outputs": [],
   "source": [
    "#export\n",
    "\n",
    "class PPM_MPPN(PPModel):\n",
    "\n",
    "\n",
    "    def _attr_from_dict(self,ds_name):\n",
    "        if not self.attr_dict: raise AttributeError('attr_dict is required!')\n",
    "\n",
    "        return (listify(self.attr_dict[self.ds_name]['cat attr']),\n",
    "                listify(self.attr_dict[self.ds_name]['num attr']),\n",
    "                listify(self.attr_dict[self.ds_name]['date attr']))\n",
    "\n",
    "\n",
    "    def setup(self):\n",
    "        def act_acc(p,y): return accuracy(p[0],y[0])\n",
    "        def act_res(p,y): return accuracy(p[1],y[1])\n",
    "        cat_names,cont_names,date_names=self._attr_from_dict(self.ds_name)\n",
    "        self.o=PPObj(self.log,[Categorify,Datetify,FillMissing,MinMax],\n",
    "                     cat_names=cat_names,date_names=date_names,cont_names=cont_names,\n",
    "                     y_names=['activity','resource','timestamp_Relative_elapsed'],\n",
    "                     splits=self.splits)\n",
    "        self.o.cont_names=['timestamp_Relative_elapsed']\n",
    "        norm=Normalize()\n",
    "        self.o.procs.add(norm,self.o)\n",
    "        self.mean=norm.means['timestamp_Relative_elapsed']\n",
    "        self.std=norm.stds['timestamp_Relative_elapsed']\n",
    "        self.o.cont_names=L(['activity_minmax','resource_minmax','timestamp_Relative_elapsed_minmax'])\n",
    "        self.output_attributes=mppn_get_output_attributes(self.o)\n",
    "        self.pretrain = mppn_representation_learning_model(False, len(self.o.cont_names), self.output_attributes)\n",
    "        dls=self.o.get_dls(after_batch=gaf_transform,bs=self.bs)\n",
    "        loss=partial(multi_loss_sum,self.o)\n",
    "        time_metric=lambda p,y: maeDurDaysNormalize(listify(p)[-1],listify(y)[-1],mean=self.mean,std=self.std)\n",
    "        self._train_validate(dls,self.pretrain,loss=loss,metrics=[act_acc,act_res,time_metric])\n",
    "\n",
    "\n",
    "\n",
    "\n",
    "    def next_step_prediction(self,col='activity',outcome=False):\n",
    "        pretrain=copy.deepcopy(self.pretrain)\n",
    "        m = mppn_fine_tuning_model(pretrain, len(self.output_attributes), self.output_attributes[col])\n",
    "        self.o.ycat_names,self.o.ycont_names=L(col),L()\n",
    "        dls=self.o.get_dls(after_batch=gaf_transform,bs=self.bs,outcome=outcome)\n",
    "        loss=partial(multi_loss_sum,self.o)\n",
    "        metrics=get_metrics(self.o)\n",
    "        return self._train_validate(dls,m,loss=loss,metrics=metrics)\n",
    "\n",
    "    def next_resource_prediction(self):return self.next_step_prediction(outcome=False,col='resource')\n",
    "\n",
    "    def last_resource_prediction(self): return self.next_step_prediction(outcome=True,col='resource')\n",
    "    def outcome_prediction(self): return self.next_step_prediction(outcome=True)\n",
    "\n",
    "    def duration_to_next_event_prediction(self,outcome=False,col='timestamp_Relative_elapsed'):\n",
    "        pretrain=copy.deepcopy(self.pretrain)\n",
    "        time=partial(maeDurDaysNormalize,mean=self.mean,std=self.std)\n",
    "        m = mppn_fine_tuning_model(pretrain, len(self.output_attributes), self.output_attributes[col])\n",
    "        self.o.ycat_names,self.o.ycont_names=L(),L(col)\n",
    "        dls=self.o.get_dls(after_batch=gaf_transform,bs=self.bs,outcome=outcome)\n",
    "        xb,yb=dls.one_batch()\n",
    "        return self._train_validate(dls,m,loss=mae,metrics=time)\n",
    "\n",
    "\n",
    "    def duration_to_end_prediction(self):return self.duration_to_next_event_prediction(outcome=True)"
   ]
  },
  {
   "cell_type": "code",
   "execution_count": null,
   "metadata": {
    "id": "WWsS9VdS2-DF",
    "outputId": "4e6a940f-90bb-4f28-9d48-a82522aee05b"
   },
   "outputs": [
    {
     "name": "stdout",
     "output_type": "stream",
     "text": [
      "Loading Alexnet to train MPPNs CNN from scratch\n"
     ]
    },
    {
     "data": {
      "text/html": [],
      "text/plain": [
       "<IPython.core.display.HTML object>"
      ]
     },
     "metadata": {},
     "output_type": "display_data"
    },
    {
     "data": {
      "text/html": [],
      "text/plain": [
       "<IPython.core.display.HTML object>"
      ]
     },
     "metadata": {},
     "output_type": "display_data"
    },
    {
     "data": {
      "text/html": [],
      "text/plain": [
       "<IPython.core.display.HTML object>"
      ]
     },
     "metadata": {},
     "output_type": "display_data"
    },
    {
     "data": {
      "text/html": [],
      "text/plain": [
       "<IPython.core.display.HTML object>"
      ]
     },
     "metadata": {},
     "output_type": "display_data"
    },
    {
     "data": {
      "text/html": [],
      "text/plain": [
       "<IPython.core.display.HTML object>"
      ]
     },
     "metadata": {},
     "output_type": "display_data"
    },
    {
     "data": {
      "text/html": [
       "<table border=\"1\" class=\"dataframe\">\n",
       "  <thead>\n",
       "    <tr style=\"text-align: left;\">\n",
       "      <th>epoch</th>\n",
       "      <th>train_loss</th>\n",
       "      <th>valid_loss</th>\n",
       "      <th>act_acc</th>\n",
       "      <th>act_res</th>\n",
       "      <th><lambda></th>\n",
       "      <th>time</th>\n",
       "    </tr>\n",
       "  </thead>\n",
       "  <tbody>\n",
       "    <tr>\n",
       "      <td>0</td>\n",
       "      <td>5.849926</td>\n",
       "      <td>5.189992</td>\n",
       "      <td>0.681125</td>\n",
       "      <td>0.071973</td>\n",
       "      <td>5.108842</td>\n",
       "      <td>00:04</td>\n",
       "    </tr>\n",
       "  </tbody>\n",
       "</table>"
      ],
      "text/plain": [
       "<IPython.core.display.HTML object>"
      ]
     },
     "metadata": {},
     "output_type": "display_data"
    },
    {
     "name": "stdout",
     "output_type": "stream",
     "text": [
      "Better model found at epoch 0 with valid_loss value: 5.189992427825928.\n"
     ]
    },
    {
     "data": {
      "text/html": [],
      "text/plain": [
       "<IPython.core.display.HTML object>"
      ]
     },
     "metadata": {},
     "output_type": "display_data"
    },
    {
     "name": "stdout",
     "output_type": "stream",
     "text": [
      "Better model found at epoch 0 with valid_loss value: 0.7095046639442444.\n",
      "CPU times: user 4min 6s, sys: 9.35 s, total: 4min 15s\n",
      "Wall time: 44.4 s\n"
     ]
    }
   ],
   "source": [
    "%%time\n",
    "if  _RUN_TRAINING:\n",
    "    path=EventLogs.BPIC_12_O\n",
    "    log=import_log(path)\n",
    "    ppm=PPM_MPPN(log,get_ds_name(path),split_traces(log),print_output=True,epoch=1,bs=512,attr_dict=attr_dict)\n",
    "    ppm.setup()\n"
   ]
  },
  {
   "cell_type": "code",
   "execution_count": null,
   "metadata": {
    "id": "mUf-xeCG2-DF",
    "outputId": "68c9c1fe-b28c-4ac3-8de8-e6f5a519b55f"
   },
   "outputs": [
    {
     "data": {
      "text/html": [],
      "text/plain": [
       "<IPython.core.display.HTML object>"
      ]
     },
     "metadata": {},
     "output_type": "display_data"
    },
    {
     "data": {
      "text/html": [],
      "text/plain": [
       "<IPython.core.display.HTML object>"
      ]
     },
     "metadata": {},
     "output_type": "display_data"
    },
    {
     "data": {
      "text/html": [],
      "text/plain": [
       "<IPython.core.display.HTML object>"
      ]
     },
     "metadata": {},
     "output_type": "display_data"
    },
    {
     "data": {
      "text/html": [],
      "text/plain": [
       "<IPython.core.display.HTML object>"
      ]
     },
     "metadata": {},
     "output_type": "display_data"
    },
    {
     "data": {
      "text/html": [],
      "text/plain": [
       "<IPython.core.display.HTML object>"
      ]
     },
     "metadata": {},
     "output_type": "display_data"
    },
    {
     "data": {
      "text/html": [
       "<table border=\"1\" class=\"dataframe\">\n",
       "  <thead>\n",
       "    <tr style=\"text-align: left;\">\n",
       "      <th>epoch</th>\n",
       "      <th>train_loss</th>\n",
       "      <th>valid_loss</th>\n",
       "      <th>acc_activity</th>\n",
       "      <th>time</th>\n",
       "    </tr>\n",
       "  </thead>\n",
       "  <tbody>\n",
       "    <tr>\n",
       "      <td>0</td>\n",
       "      <td>1.003388</td>\n",
       "      <td>0.649134</td>\n",
       "      <td>0.712583</td>\n",
       "      <td>00:04</td>\n",
       "    </tr>\n",
       "  </tbody>\n",
       "</table>"
      ],
      "text/plain": [
       "<IPython.core.display.HTML object>"
      ]
     },
     "metadata": {},
     "output_type": "display_data"
    },
    {
     "name": "stdout",
     "output_type": "stream",
     "text": [
      "Better model found at epoch 0 with valid_loss value: 0.6491336226463318.\n"
     ]
    },
    {
     "data": {
      "text/html": [],
      "text/plain": [
       "<IPython.core.display.HTML object>"
      ]
     },
     "metadata": {},
     "output_type": "display_data"
    },
    {
     "name": "stdout",
     "output_type": "stream",
     "text": [
      "Better model found at epoch 0 with valid_loss value: 0.7364696860313416.\n"
     ]
    }
   ],
   "source": [
    "if _RUN_TRAINING: ppm.next_step_prediction()"
   ]
  },
  {
   "cell_type": "code",
   "execution_count": null,
   "metadata": {
    "id": "ePmnzuhz2-DF",
    "outputId": "316f5cc4-d761-454b-9bd6-0697bec420bf"
   },
   "outputs": [
    {
     "data": {
      "text/html": [],
      "text/plain": [
       "<IPython.core.display.HTML object>"
      ]
     },
     "metadata": {},
     "output_type": "display_data"
    },
    {
     "data": {
      "text/html": [],
      "text/plain": [
       "<IPython.core.display.HTML object>"
      ]
     },
     "metadata": {},
     "output_type": "display_data"
    },
    {
     "data": {
      "text/html": [],
      "text/plain": [
       "<IPython.core.display.HTML object>"
      ]
     },
     "metadata": {},
     "output_type": "display_data"
    },
    {
     "data": {
      "text/html": [],
      "text/plain": [
       "<IPython.core.display.HTML object>"
      ]
     },
     "metadata": {},
     "output_type": "display_data"
    },
    {
     "data": {
      "text/html": [],
      "text/plain": [
       "<IPython.core.display.HTML object>"
      ]
     },
     "metadata": {},
     "output_type": "display_data"
    },
    {
     "data": {
      "text/html": [
       "<table border=\"1\" class=\"dataframe\">\n",
       "  <thead>\n",
       "    <tr style=\"text-align: left;\">\n",
       "      <th>epoch</th>\n",
       "      <th>train_loss</th>\n",
       "      <th>valid_loss</th>\n",
       "      <th>maeDurDaysNormalize</th>\n",
       "      <th>time</th>\n",
       "    </tr>\n",
       "  </thead>\n",
       "  <tbody>\n",
       "    <tr>\n",
       "      <td>0</td>\n",
       "      <td>0.488340</td>\n",
       "      <td>0.379671</td>\n",
       "      <td>3.703171</td>\n",
       "      <td>00:04</td>\n",
       "    </tr>\n",
       "  </tbody>\n",
       "</table>"
      ],
      "text/plain": [
       "<IPython.core.display.HTML object>"
      ]
     },
     "metadata": {},
     "output_type": "display_data"
    },
    {
     "name": "stdout",
     "output_type": "stream",
     "text": [
      "Better model found at epoch 0 with valid_loss value: 0.37967097759246826.\n"
     ]
    },
    {
     "data": {
      "text/html": [],
      "text/plain": [
       "<IPython.core.display.HTML object>"
      ]
     },
     "metadata": {},
     "output_type": "display_data"
    },
    {
     "name": "stdout",
     "output_type": "stream",
     "text": [
      "Better model found at epoch 0 with valid_loss value: 3.591909646987915.\n"
     ]
    }
   ],
   "source": [
    "if _RUN_TRAINING: ppm.duration_to_next_event_prediction()"
   ]
  },
  {
   "cell_type": "code",
   "execution_count": null,
   "metadata": {
    "id": "jL_2IEv_2-DF",
    "outputId": "0ea279a4-c161-4b7a-cd87-bbc6bf0e610d"
   },
   "outputs": [
    {
     "data": {
      "text/html": [],
      "text/plain": [
       "<IPython.core.display.HTML object>"
      ]
     },
     "metadata": {},
     "output_type": "display_data"
    },
    {
     "data": {
      "text/html": [],
      "text/plain": [
       "<IPython.core.display.HTML object>"
      ]
     },
     "metadata": {},
     "output_type": "display_data"
    },
    {
     "data": {
      "text/html": [],
      "text/plain": [
       "<IPython.core.display.HTML object>"
      ]
     },
     "metadata": {},
     "output_type": "display_data"
    },
    {
     "data": {
      "text/html": [],
      "text/plain": [
       "<IPython.core.display.HTML object>"
      ]
     },
     "metadata": {},
     "output_type": "display_data"
    },
    {
     "data": {
      "text/html": [],
      "text/plain": [
       "<IPython.core.display.HTML object>"
      ]
     },
     "metadata": {},
     "output_type": "display_data"
    },
    {
     "data": {
      "text/html": [
       "<table border=\"1\" class=\"dataframe\">\n",
       "  <thead>\n",
       "    <tr style=\"text-align: left;\">\n",
       "      <th>epoch</th>\n",
       "      <th>train_loss</th>\n",
       "      <th>valid_loss</th>\n",
       "      <th>maeDurDaysNormalize</th>\n",
       "      <th>time</th>\n",
       "    </tr>\n",
       "  </thead>\n",
       "  <tbody>\n",
       "    <tr>\n",
       "      <td>0</td>\n",
       "      <td>0.952126</td>\n",
       "      <td>0.987435</td>\n",
       "      <td>9.631075</td>\n",
       "      <td>00:04</td>\n",
       "    </tr>\n",
       "  </tbody>\n",
       "</table>"
      ],
      "text/plain": [
       "<IPython.core.display.HTML object>"
      ]
     },
     "metadata": {},
     "output_type": "display_data"
    },
    {
     "name": "stdout",
     "output_type": "stream",
     "text": [
      "Better model found at epoch 0 with valid_loss value: 0.9874348044395447.\n"
     ]
    },
    {
     "data": {
      "text/html": [],
      "text/plain": [
       "<IPython.core.display.HTML object>"
      ]
     },
     "metadata": {},
     "output_type": "display_data"
    },
    {
     "name": "stdout",
     "output_type": "stream",
     "text": [
      "Better model found at epoch 0 with valid_loss value: 8.892857551574707.\n"
     ]
    }
   ],
   "source": [
    "if _RUN_TRAINING: ppm.duration_to_end_prediction()"
   ]
  },
  {
   "cell_type": "code",
   "execution_count": null,
   "metadata": {
    "id": "ScxoEfuw2-DF"
   },
   "outputs": [],
   "source": []
  },
  {
   "cell_type": "markdown",
   "metadata": {
    "id": "jg5h6GWk2-DH",
    "toc": true
   },
   "source": [
    "<h1>Table of Contents<span class=\"tocSkip\"></span></h1>\n",
    "<div class=\"toc\"><ul class=\"toc-item\"><li><span><a href=\"#Runner\" data-toc-modified-id=\"Runner-1\"><span class=\"toc-item-num\">1&nbsp;&nbsp;</span>Runner</a></span></li><li><span><a href=\"#Shell-script:\" data-toc-modified-id=\"Shell-script:-2\"><span class=\"toc-item-num\">2&nbsp;&nbsp;</span>Shell script:</a></span></li></ul></div>"
   ]
  },
  {
   "cell_type": "code",
   "execution_count": null,
   "metadata": {
    "id": "DWpW2tS72-DH"
   },
   "outputs": [],
   "source": [
    "# default_exp prediction_evaluation"
   ]
  },
  {
   "cell_type": "markdown",
   "metadata": {
    "id": "lgJMLfzK2-DH"
   },
   "source": [
    "Process Prediction Evaluation\n",
    "===\n",
    "\n"
   ]
  },
  {
   "cell_type": "code",
   "execution_count": null,
   "metadata": {
    "id": "IxXEZJ_R2-DH"
   },
   "outputs": [],
   "source": [
    "#hide\n",
    "\n",
    "%load_ext autoreload\n",
    "%autoreload 2\n",
    "%load_ext memory_profiler\n",
    "%load_ext line_profiler\n",
    "%matplotlib inline"
   ]
  },
  {
   "cell_type": "code",
   "execution_count": null,
   "metadata": {
    "id": "6tFIoAk52-DH"
   },
   "outputs": [],
   "source": [
    "#export\n",
    "from mppn.imports import *\n",
    "from mppn.preprocessing import *\n",
    "from mppn.pipeline import *\n",
    "from mppn.baselines import *\n",
    "from mppn.mppn import *"
   ]
  },
  {
   "cell_type": "code",
   "execution_count": null,
   "metadata": {
    "id": "S3VRzXRP2-DH"
   },
   "outputs": [],
   "source": [
    "_RUN_TRAINING=False"
   ]
  },
  {
   "cell_type": "markdown",
   "metadata": {
    "heading_collapsed": true,
    "id": "-iydQj0G2-DH"
   },
   "source": [
    "## Runner"
   ]
  },
  {
   "cell_type": "markdown",
   "metadata": {
    "hidden": true,
    "id": "LimYvpEX2-DI"
   },
   "source": [
    "This section runs the process prediction experiment"
   ]
  },
  {
   "cell_type": "code",
   "execution_count": null,
   "metadata": {
    "hidden": true,
    "id": "mu3565gB2-DL"
   },
   "outputs": [],
   "source": [
    "#export\n",
    "logs=[\n",
    "    EventLogs.Helpdesk,\n",
    "    EventLogs.Mobis,\n",
    "    EventLogs.BPIC_12,\n",
    "    EventLogs.BPIC_12_A,\n",
    "    EventLogs.BPIC_12_O,\n",
    "    EventLogs.BPIC_12_Wcomplete,\n",
    "    EventLogs.BPIC_13_CP,\n",
    "    EventLogs.BPIC_17_OFFER,\n",
    "    EventLogs.BPIC_20_RFP\n",
    "\n",
    "]\n",
    "\n",
    "ppms=[\n",
    "    PPM_Evermann,\n",
    "    PPM_Tax_Spezialized,\n",
    "    PPM_Tax_Shared,\n",
    "    PPM_Tax_Mixed,\n",
    "    PPM_Camargo_Spezialized,\n",
    "    PPM_Camargo_concat,\n",
    "    PPM_Camargo_fullconcat,\n",
    "    PPM_MiDA,\n",
    "    PPM_MPPN\n",
    "]"
   ]
  },
  {
   "cell_type": "code",
   "execution_count": null,
   "metadata": {
    "hidden": true,
    "id": "tm8aY6bH2-DL",
    "outputId": "6e84aae6-38f6-4c63-fa38-500fdcd768d9"
   },
   "outputs": [
    {
     "name": "stdout",
     "output_type": "stream",
     "text": [
      "CPU times: user 1e+03 ns, sys: 1 µs, total: 2 µs\n",
      "Wall time: 3.81 µs\n"
     ]
    }
   ],
   "source": [
    "%%time\n",
    "if _RUN_TRAINING:\n",
    "    res=runner(logs,ppms,attr_dict=attr_dict,sample=False,epoch=20,runs=5,store=True,bs=512,print_output=True)"
   ]
  },
  {
   "cell_type": "markdown",
   "metadata": {
    "heading_collapsed": true,
    "id": "a1WMjNNL2-DL"
   },
   "source": [
    "## Shell script:"
   ]
  },
  {
   "cell_type": "markdown",
   "metadata": {
    "hidden": true,
    "id": "Zxqc1hHN2-DM"
   },
   "source": [
    "This section creates a python script based of the `runner` method with the fire library"
   ]
  },
  {
   "cell_type": "code",
   "execution_count": null,
   "metadata": {
    "hidden": true,
    "id": "ZwDOdCUl2-DM"
   },
   "outputs": [],
   "source": [
    "#export\n",
    "import fire\n",
    "\n",
    "def isnotebook():\n",
    "    try:\n",
    "        shell = get_ipython().__class__.__name__\n",
    "        if shell == 'ZMQInteractiveShell':\n",
    "            return True   # Jupyter notebook or qtconsole\n",
    "        elif shell == 'TerminalInteractiveShell':\n",
    "            return False  # Terminal running IPython\n",
    "        else:\n",
    "            return False  # Other type (?)\n",
    "    except NameError:\n",
    "        return False\n",
    "\n",
    "\n",
    "\n",
    "\n",
    "\n",
    "if not isnotebook():\n",
    "    from tqdm import tqdm as tqdm_console\n",
    "\n",
    "    def command_line(log_idx=range(len(logs)),ppm_idx=range(len(ppms)),sample=False,store=True, runs=1,\n",
    "                     bs=64,print_output=False,patience=3, min_delta=0.005, epoch=20,\n",
    "                     validation_seed=None,test_seed=42):\n",
    "        log_sel=L(logs)[log_idx]\n",
    "        ppm_sel==L(ppms)[ppm_idx]\n",
    "        runner(log_sel,ppm_sel,attr_dict=attr_dict, sample=sample,store=store,epoch=epoch,tqdm=tqdm_console,\n",
    "               print_output=print_output,bs=bs,patience=patience,min_delta=min_delta,runs=runs,\n",
    "               validation_seed=validation_seed,test_seed=test_seed)\n",
    "\n",
    "    if __name__ == '__main__':\n",
    "        fire.Fire(command_line)"
   ]
  }
 ],
 "metadata": {
  "colab": {
   "collapsed_sections": [
    "J7-X0LXm2-Cd",
    "xLklvms82-Ce",
    "fH-2npPo2-Cg",
    "0FVgVNdy2-Cg",
    "hQnchvmL2-Cj",
    "7Qz_GomN2-Cl",
    "17gf8mjw2-Cl",
    "EppAcSvE2-Cn",
    "grFxjIhW2-Cp",
    "7t75D4532-Cq",
    "pH0t0lMk2-C4",
    "CG8pXiCx2-C7",
    "TC_XUVFh2-C9",
    "tMw5nE7U2-C9",
    "_IxpT-4j2-C-",
    "0nEvuxZX2-C_",
    "r_4qGWRF2-DE",
    "a1WMjNNL2-DL"
   ],
   "name": "nb_all_benchmark.ipynb",
   "provenance": []
  },
  "kernelspec": {
   "display_name": "Python 3",
   "language": "python",
   "name": "python3"
  },
  "language_info": {
   "codemirror_mode": {
    "name": "ipython",
    "version": 3
   },
   "file_extension": ".py",
   "mimetype": "text/x-python",
   "name": "python",
   "nbconvert_exporter": "python",
   "pygments_lexer": "ipython3",
   "version": "3.7.7"
  },
  "toc": {
   "base_numbering": 1,
   "nav_menu": {},
   "number_sections": true,
   "sideBar": true,
   "skip_h1_title": true,
   "title_cell": "Table of Contents",
   "title_sidebar": "Contents",
   "toc_cell": false,
   "toc_position": {},
   "toc_section_display": true,
   "toc_window_display": true
  }
 },
 "nbformat": 4,
 "nbformat_minor": 4
}
